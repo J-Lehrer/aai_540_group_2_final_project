{
 "cells": [
  {
   "cell_type": "markdown",
   "id": "fce9f3fa-6762-4b46-9dc4-399051bb300f",
   "metadata": {
    "id": "fce9f3fa-6762-4b46-9dc4-399051bb300f",
    "tags": []
   },
   "source": [
    "# Installing necessary libraries"
   ]
  },
  {
   "cell_type": "code",
   "execution_count": 1,
   "id": "d6c5153b-b092-4ff2-a52e-b3fcff4d9745",
   "metadata": {
    "id": "d6c5153b-b092-4ff2-a52e-b3fcff4d9745",
    "outputId": "34021161-a3d4-41ac-87d1-d051114f23f4",
    "tags": []
   },
   "outputs": [
    {
     "name": "stdout",
     "output_type": "stream",
     "text": [
      "Requirement already satisfied: pyathena in /opt/conda/lib/python3.11/site-packages (3.11.0)\n",
      "Requirement already satisfied: boto3>=1.26.4 in /opt/conda/lib/python3.11/site-packages (from pyathena) (1.36.13)\n",
      "Requirement already satisfied: botocore>=1.29.4 in /opt/conda/lib/python3.11/site-packages (from pyathena) (1.36.13)\n",
      "Requirement already satisfied: fsspec in /opt/conda/lib/python3.11/site-packages (from pyathena) (2023.6.0)\n",
      "Requirement already satisfied: python-dateutil in /opt/conda/lib/python3.11/site-packages (from pyathena) (2.9.0.post0)\n",
      "Requirement already satisfied: tenacity>=4.1.0 in /opt/conda/lib/python3.11/site-packages (from pyathena) (8.5.0)\n",
      "Requirement already satisfied: jmespath<2.0.0,>=0.7.1 in /opt/conda/lib/python3.11/site-packages (from boto3>=1.26.4->pyathena) (1.0.1)\n",
      "Requirement already satisfied: s3transfer<0.12.0,>=0.11.0 in /opt/conda/lib/python3.11/site-packages (from boto3>=1.26.4->pyathena) (0.11.2)\n",
      "Requirement already satisfied: urllib3!=2.2.0,<3,>=1.25.4 in /opt/conda/lib/python3.11/site-packages (from botocore>=1.29.4->pyathena) (1.26.19)\n",
      "Requirement already satisfied: six>=1.5 in /opt/conda/lib/python3.11/site-packages (from python-dateutil->pyathena) (1.17.0)\n"
     ]
    }
   ],
   "source": [
    "!pip install pyathena"
   ]
  },
  {
   "cell_type": "code",
   "execution_count": 2,
   "id": "cfd00c1e-8288-4ccd-ac63-cc4f7ca7256b",
   "metadata": {
    "id": "cfd00c1e-8288-4ccd-ac63-cc4f7ca7256b",
    "outputId": "0d724940-547b-4b6e-bcc6-daecb95ea73c",
    "tags": []
   },
   "outputs": [
    {
     "name": "stdout",
     "output_type": "stream",
     "text": [
      "Requirement already satisfied: awswrangler in /opt/conda/lib/python3.11/site-packages (3.11.0)\n",
      "Requirement already satisfied: boto3<2.0.0,>=1.20.32 in /opt/conda/lib/python3.11/site-packages (from awswrangler) (1.36.13)\n",
      "Requirement already satisfied: botocore<2.0.0,>=1.23.32 in /opt/conda/lib/python3.11/site-packages (from awswrangler) (1.36.13)\n",
      "Requirement already satisfied: numpy<3.0,>=1.26 in /opt/conda/lib/python3.11/site-packages (from awswrangler) (1.26.4)\n",
      "Requirement already satisfied: packaging<25.0,>=21.1 in /opt/conda/lib/python3.11/site-packages (from awswrangler) (24.2)\n",
      "Requirement already satisfied: pandas<3.0.0,>=1.2.0 in /opt/conda/lib/python3.11/site-packages (from awswrangler) (2.2.3)\n",
      "Requirement already satisfied: pyarrow<19.0.0,>=8.0.0 in /opt/conda/lib/python3.11/site-packages (from awswrangler) (17.0.0)\n",
      "Requirement already satisfied: typing-extensions<5.0.0,>=4.4.0 in /opt/conda/lib/python3.11/site-packages (from awswrangler) (4.12.2)\n",
      "Requirement already satisfied: jmespath<2.0.0,>=0.7.1 in /opt/conda/lib/python3.11/site-packages (from boto3<2.0.0,>=1.20.32->awswrangler) (1.0.1)\n",
      "Requirement already satisfied: s3transfer<0.12.0,>=0.11.0 in /opt/conda/lib/python3.11/site-packages (from boto3<2.0.0,>=1.20.32->awswrangler) (0.11.2)\n",
      "Requirement already satisfied: python-dateutil<3.0.0,>=2.1 in /opt/conda/lib/python3.11/site-packages (from botocore<2.0.0,>=1.23.32->awswrangler) (2.9.0.post0)\n",
      "Requirement already satisfied: urllib3!=2.2.0,<3,>=1.25.4 in /opt/conda/lib/python3.11/site-packages (from botocore<2.0.0,>=1.23.32->awswrangler) (1.26.19)\n",
      "Requirement already satisfied: pytz>=2020.1 in /opt/conda/lib/python3.11/site-packages (from pandas<3.0.0,>=1.2.0->awswrangler) (2023.3)\n",
      "Requirement already satisfied: tzdata>=2022.7 in /opt/conda/lib/python3.11/site-packages (from pandas<3.0.0,>=1.2.0->awswrangler) (2024.2)\n",
      "Requirement already satisfied: six>=1.5 in /opt/conda/lib/python3.11/site-packages (from python-dateutil<3.0.0,>=2.1->botocore<2.0.0,>=1.23.32->awswrangler) (1.17.0)\n"
     ]
    }
   ],
   "source": [
    "!pip install awswrangler"
   ]
  },
  {
   "cell_type": "code",
   "execution_count": 3,
   "id": "ba8c93e9-570b-4497-97a5-e5eb2dc57408",
   "metadata": {
    "id": "ba8c93e9-570b-4497-97a5-e5eb2dc57408",
    "outputId": "78940998-5f6b-40f1-b48a-05d4e564b70d",
    "tags": []
   },
   "outputs": [
    {
     "name": "stdout",
     "output_type": "stream",
     "text": [
      "Requirement already satisfied: seaborn in /opt/conda/lib/python3.11/site-packages (0.13.2)\n",
      "Requirement already satisfied: numpy!=1.24.0,>=1.20 in /opt/conda/lib/python3.11/site-packages (from seaborn) (1.26.4)\n",
      "Requirement already satisfied: pandas>=1.2 in /opt/conda/lib/python3.11/site-packages (from seaborn) (2.2.3)\n",
      "Requirement already satisfied: matplotlib!=3.6.1,>=3.4 in /opt/conda/lib/python3.11/site-packages (from seaborn) (3.9.3)\n",
      "Requirement already satisfied: contourpy>=1.0.1 in /opt/conda/lib/python3.11/site-packages (from matplotlib!=3.6.1,>=3.4->seaborn) (1.3.1)\n",
      "Requirement already satisfied: cycler>=0.10 in /opt/conda/lib/python3.11/site-packages (from matplotlib!=3.6.1,>=3.4->seaborn) (0.12.1)\n",
      "Requirement already satisfied: fonttools>=4.22.0 in /opt/conda/lib/python3.11/site-packages (from matplotlib!=3.6.1,>=3.4->seaborn) (4.55.3)\n",
      "Requirement already satisfied: kiwisolver>=1.3.1 in /opt/conda/lib/python3.11/site-packages (from matplotlib!=3.6.1,>=3.4->seaborn) (1.4.7)\n",
      "Requirement already satisfied: packaging>=20.0 in /opt/conda/lib/python3.11/site-packages (from matplotlib!=3.6.1,>=3.4->seaborn) (24.2)\n",
      "Requirement already satisfied: pillow>=8 in /opt/conda/lib/python3.11/site-packages (from matplotlib!=3.6.1,>=3.4->seaborn) (10.4.0)\n",
      "Requirement already satisfied: pyparsing>=2.3.1 in /opt/conda/lib/python3.11/site-packages (from matplotlib!=3.6.1,>=3.4->seaborn) (3.2.0)\n",
      "Requirement already satisfied: python-dateutil>=2.7 in /opt/conda/lib/python3.11/site-packages (from matplotlib!=3.6.1,>=3.4->seaborn) (2.9.0.post0)\n",
      "Requirement already satisfied: pytz>=2020.1 in /opt/conda/lib/python3.11/site-packages (from pandas>=1.2->seaborn) (2023.3)\n",
      "Requirement already satisfied: tzdata>=2022.7 in /opt/conda/lib/python3.11/site-packages (from pandas>=1.2->seaborn) (2024.2)\n",
      "Requirement already satisfied: six>=1.5 in /opt/conda/lib/python3.11/site-packages (from python-dateutil>=2.7->matplotlib!=3.6.1,>=3.4->seaborn) (1.17.0)\n"
     ]
    }
   ],
   "source": [
    "!pip install seaborn"
   ]
  },
  {
   "cell_type": "code",
   "execution_count": 4,
   "id": "3e1b6c58-e71a-48b9-b47a-222e2107a76b",
   "metadata": {},
   "outputs": [
    {
     "name": "stdout",
     "output_type": "stream",
     "text": [
      "Requirement already satisfied: sagemaker in /opt/conda/lib/python3.11/site-packages (2.239.0)\n",
      "Requirement already satisfied: attrs<24,>=23.1.0 in /opt/conda/lib/python3.11/site-packages (from sagemaker) (23.2.0)\n",
      "Requirement already satisfied: boto3<2.0,>=1.35.75 in /opt/conda/lib/python3.11/site-packages (from sagemaker) (1.36.13)\n",
      "Requirement already satisfied: cloudpickle>=2.2.1 in /opt/conda/lib/python3.11/site-packages (from sagemaker) (2.2.1)\n",
      "Requirement already satisfied: docker in /opt/conda/lib/python3.11/site-packages (from sagemaker) (7.1.0)\n",
      "Requirement already satisfied: fastapi in /opt/conda/lib/python3.11/site-packages (from sagemaker) (0.115.6)\n",
      "Requirement already satisfied: google-pasta in /opt/conda/lib/python3.11/site-packages (from sagemaker) (0.2.0)\n",
      "Requirement already satisfied: importlib-metadata<7.0,>=1.4.0 in /opt/conda/lib/python3.11/site-packages (from sagemaker) (6.10.0)\n",
      "Requirement already satisfied: jsonschema in /opt/conda/lib/python3.11/site-packages (from sagemaker) (4.23.0)\n",
      "Requirement already satisfied: numpy<2.0,>=1.9.0 in /opt/conda/lib/python3.11/site-packages (from sagemaker) (1.26.4)\n",
      "Requirement already satisfied: omegaconf<=2.3,>=2.2 in /opt/conda/lib/python3.11/site-packages (from sagemaker) (2.3.0)\n",
      "Requirement already satisfied: packaging>=20.0 in /opt/conda/lib/python3.11/site-packages (from sagemaker) (24.2)\n",
      "Requirement already satisfied: pandas in /opt/conda/lib/python3.11/site-packages (from sagemaker) (2.2.3)\n",
      "Requirement already satisfied: pathos in /opt/conda/lib/python3.11/site-packages (from sagemaker) (0.3.3)\n",
      "Requirement already satisfied: platformdirs in /opt/conda/lib/python3.11/site-packages (from sagemaker) (4.3.6)\n",
      "Requirement already satisfied: protobuf<6.0,>=3.12 in /opt/conda/lib/python3.11/site-packages (from sagemaker) (4.25.3)\n",
      "Requirement already satisfied: psutil in /opt/conda/lib/python3.11/site-packages (from sagemaker) (5.9.8)\n",
      "Requirement already satisfied: pyyaml~=6.0 in /opt/conda/lib/python3.11/site-packages (from sagemaker) (6.0.2)\n",
      "Requirement already satisfied: requests in /opt/conda/lib/python3.11/site-packages (from sagemaker) (2.32.3)\n",
      "Requirement already satisfied: sagemaker-core<2.0.0,>=1.0.17 in /opt/conda/lib/python3.11/site-packages (from sagemaker) (1.0.20)\n",
      "Requirement already satisfied: schema in /opt/conda/lib/python3.11/site-packages (from sagemaker) (0.7.7)\n",
      "Requirement already satisfied: smdebug-rulesconfig==1.0.1 in /opt/conda/lib/python3.11/site-packages (from sagemaker) (1.0.1)\n",
      "Requirement already satisfied: tblib<4,>=1.7.0 in /opt/conda/lib/python3.11/site-packages (from sagemaker) (2.0.0)\n",
      "Requirement already satisfied: tqdm in /opt/conda/lib/python3.11/site-packages (from sagemaker) (4.67.1)\n",
      "Requirement already satisfied: urllib3<3.0.0,>=1.26.8 in /opt/conda/lib/python3.11/site-packages (from sagemaker) (1.26.19)\n",
      "Requirement already satisfied: uvicorn in /opt/conda/lib/python3.11/site-packages (from sagemaker) (0.32.1)\n",
      "Requirement already satisfied: botocore<1.37.0,>=1.36.13 in /opt/conda/lib/python3.11/site-packages (from boto3<2.0,>=1.35.75->sagemaker) (1.36.13)\n",
      "Requirement already satisfied: jmespath<2.0.0,>=0.7.1 in /opt/conda/lib/python3.11/site-packages (from boto3<2.0,>=1.35.75->sagemaker) (1.0.1)\n",
      "Requirement already satisfied: s3transfer<0.12.0,>=0.11.0 in /opt/conda/lib/python3.11/site-packages (from boto3<2.0,>=1.35.75->sagemaker) (0.11.2)\n",
      "Requirement already satisfied: zipp>=0.5 in /opt/conda/lib/python3.11/site-packages (from importlib-metadata<7.0,>=1.4.0->sagemaker) (3.21.0)\n",
      "Requirement already satisfied: antlr4-python3-runtime==4.9.* in /opt/conda/lib/python3.11/site-packages (from omegaconf<=2.3,>=2.2->sagemaker) (4.9.3)\n",
      "Requirement already satisfied: pydantic<3.0.0,>=2.0.0 in /opt/conda/lib/python3.11/site-packages (from sagemaker-core<2.0.0,>=1.0.17->sagemaker) (2.10.3)\n",
      "Requirement already satisfied: rich<14.0.0,>=13.0.0 in /opt/conda/lib/python3.11/site-packages (from sagemaker-core<2.0.0,>=1.0.17->sagemaker) (13.9.4)\n",
      "Requirement already satisfied: mock<5.0,>4.0 in /opt/conda/lib/python3.11/site-packages (from sagemaker-core<2.0.0,>=1.0.17->sagemaker) (4.0.3)\n",
      "Requirement already satisfied: jsonschema-specifications>=2023.03.6 in /opt/conda/lib/python3.11/site-packages (from jsonschema->sagemaker) (2024.10.1)\n",
      "Requirement already satisfied: referencing>=0.28.4 in /opt/conda/lib/python3.11/site-packages (from jsonschema->sagemaker) (0.35.1)\n",
      "Requirement already satisfied: rpds-py>=0.7.1 in /opt/conda/lib/python3.11/site-packages (from jsonschema->sagemaker) (0.22.3)\n",
      "Requirement already satisfied: charset_normalizer<4,>=2 in /opt/conda/lib/python3.11/site-packages (from requests->sagemaker) (3.4.0)\n",
      "Requirement already satisfied: idna<4,>=2.5 in /opt/conda/lib/python3.11/site-packages (from requests->sagemaker) (3.10)\n",
      "Requirement already satisfied: certifi>=2017.4.17 in /opt/conda/lib/python3.11/site-packages (from requests->sagemaker) (2024.8.30)\n",
      "Requirement already satisfied: starlette<0.42.0,>=0.40.0 in /opt/conda/lib/python3.11/site-packages (from fastapi->sagemaker) (0.41.3)\n",
      "Requirement already satisfied: typing-extensions>=4.8.0 in /opt/conda/lib/python3.11/site-packages (from fastapi->sagemaker) (4.12.2)\n",
      "Requirement already satisfied: six in /opt/conda/lib/python3.11/site-packages (from google-pasta->sagemaker) (1.17.0)\n",
      "Requirement already satisfied: python-dateutil>=2.8.2 in /opt/conda/lib/python3.11/site-packages (from pandas->sagemaker) (2.9.0.post0)\n",
      "Requirement already satisfied: pytz>=2020.1 in /opt/conda/lib/python3.11/site-packages (from pandas->sagemaker) (2023.3)\n",
      "Requirement already satisfied: tzdata>=2022.7 in /opt/conda/lib/python3.11/site-packages (from pandas->sagemaker) (2024.2)\n",
      "Requirement already satisfied: ppft>=1.7.6.9 in /opt/conda/lib/python3.11/site-packages (from pathos->sagemaker) (1.7.6.9)\n",
      "Requirement already satisfied: dill>=0.3.9 in /opt/conda/lib/python3.11/site-packages (from pathos->sagemaker) (0.3.9)\n",
      "Requirement already satisfied: pox>=0.3.5 in /opt/conda/lib/python3.11/site-packages (from pathos->sagemaker) (0.3.5)\n",
      "Requirement already satisfied: multiprocess>=0.70.17 in /opt/conda/lib/python3.11/site-packages (from pathos->sagemaker) (0.70.17)\n",
      "Requirement already satisfied: click>=7.0 in /opt/conda/lib/python3.11/site-packages (from uvicorn->sagemaker) (8.1.7)\n",
      "Requirement already satisfied: h11>=0.8 in /opt/conda/lib/python3.11/site-packages (from uvicorn->sagemaker) (0.14.0)\n",
      "Requirement already satisfied: annotated-types>=0.6.0 in /opt/conda/lib/python3.11/site-packages (from pydantic<3.0.0,>=2.0.0->sagemaker-core<2.0.0,>=1.0.17->sagemaker) (0.7.0)\n",
      "Requirement already satisfied: pydantic-core==2.27.1 in /opt/conda/lib/python3.11/site-packages (from pydantic<3.0.0,>=2.0.0->sagemaker-core<2.0.0,>=1.0.17->sagemaker) (2.27.1)\n",
      "Requirement already satisfied: markdown-it-py>=2.2.0 in /opt/conda/lib/python3.11/site-packages (from rich<14.0.0,>=13.0.0->sagemaker-core<2.0.0,>=1.0.17->sagemaker) (3.0.0)\n",
      "Requirement already satisfied: pygments<3.0.0,>=2.13.0 in /opt/conda/lib/python3.11/site-packages (from rich<14.0.0,>=13.0.0->sagemaker-core<2.0.0,>=1.0.17->sagemaker) (2.18.0)\n",
      "Requirement already satisfied: anyio<5,>=3.4.0 in /opt/conda/lib/python3.11/site-packages (from starlette<0.42.0,>=0.40.0->fastapi->sagemaker) (4.7.0)\n",
      "Requirement already satisfied: sniffio>=1.1 in /opt/conda/lib/python3.11/site-packages (from anyio<5,>=3.4.0->starlette<0.42.0,>=0.40.0->fastapi->sagemaker) (1.3.1)\n",
      "Requirement already satisfied: mdurl~=0.1 in /opt/conda/lib/python3.11/site-packages (from markdown-it-py>=2.2.0->rich<14.0.0,>=13.0.0->sagemaker-core<2.0.0,>=1.0.17->sagemaker) (0.1.2)\n"
     ]
    }
   ],
   "source": [
    "!pip3 install -U sagemaker"
   ]
  },
  {
   "cell_type": "markdown",
   "id": "a089055f-c4f8-4c14-9a78-a250e664e3ed",
   "metadata": {
    "id": "a089055f-c4f8-4c14-9a78-a250e664e3ed"
   },
   "source": [
    "## Importing necessary libraries"
   ]
  },
  {
   "cell_type": "code",
   "execution_count": 5,
   "id": "23a21976-431a-4ae6-91f4-0dcbefc3177b",
   "metadata": {
    "id": "23a21976-431a-4ae6-91f4-0dcbefc3177b",
    "tags": []
   },
   "outputs": [],
   "source": [
    "from pyathena import connect"
   ]
  },
  {
   "cell_type": "code",
   "execution_count": 6,
   "id": "151b2d57-48de-4632-ae57-2959490ce6bb",
   "metadata": {
    "id": "151b2d57-48de-4632-ae57-2959490ce6bb",
    "tags": []
   },
   "outputs": [],
   "source": [
    "import awswrangler as wr\n",
    "import pandas as pd"
   ]
  },
  {
   "cell_type": "code",
   "execution_count": 7,
   "id": "52dbf3bc-6fed-4244-8230-c048063e36c0",
   "metadata": {
    "id": "52dbf3bc-6fed-4244-8230-c048063e36c0",
    "tags": []
   },
   "outputs": [],
   "source": [
    "import matplotlib.pyplot as plt\n",
    "import seaborn as sns\n",
    "from sklearn.model_selection import train_test_split"
   ]
  },
  {
   "cell_type": "markdown",
   "id": "2f094866-e7d8-48c2-9b3a-dd3cac524432",
   "metadata": {},
   "source": [
    "## Setup Sagemaker Instance"
   ]
  },
  {
   "cell_type": "code",
   "execution_count": 8,
   "id": "79fa3209-5294-43a0-89a9-d46a7afbe719",
   "metadata": {},
   "outputs": [
    {
     "name": "stderr",
     "output_type": "stream",
     "text": [
      "/opt/conda/lib/python3.11/site-packages/pydantic/_internal/_fields.py:192: UserWarning: Field name \"json\" in \"MonitoringDatasetFormat\" shadows an attribute in parent \"Base\"\n",
      "  warnings.warn(\n"
     ]
    },
    {
     "name": "stdout",
     "output_type": "stream",
     "text": [
      "sagemaker.config INFO - Not applying SDK defaults from location: /etc/xdg/sagemaker/config.yaml\n",
      "sagemaker.config INFO - Not applying SDK defaults from location: /home/sagemaker-user/.config/sagemaker/config.yaml\n"
     ]
    }
   ],
   "source": [
    "import os\n",
    "import boto3\n",
    "import sagemaker\n",
    "\n",
    "role = sagemaker.get_execution_role()\n",
    "sess = sagemaker.Session()\n",
    "region = sess.boto_region_name\n",
    "\n",
    "bucket = sess.default_bucket()\n",
    "prefix = \"instacart-xgboost\""
   ]
  },
  {
   "cell_type": "code",
   "execution_count": 9,
   "id": "d90c2cda-27a8-4530-96b7-1d75743d91e3",
   "metadata": {},
   "outputs": [],
   "source": [
    "import pandas as pd\n",
    "import numpy as np\n",
    "\n",
    "s3 = boto3.client(\"s3\")"
   ]
  },
  {
   "cell_type": "markdown",
   "id": "02fb67a7-fe7a-4b7e-9a73-313ba0697642",
   "metadata": {
    "id": "02fb67a7-fe7a-4b7e-9a73-313ba0697642"
   },
   "source": [
    "# Converting InstantCart CSV dataset into Parquet"
   ]
  },
  {
   "cell_type": "code",
   "execution_count": 10,
   "id": "0baa781f-43f5-4b39-b6e5-f1b54a856b2a",
   "metadata": {
    "tags": []
   },
   "outputs": [],
   "source": [
    "filename = \"filtered_frequent_buyers_v1.csv\"\n",
    "csv_path = \"filtered_frequent_buyers_v1.csv\"\n",
    "df = pd.read_csv(csv_path)\n",
    "\n",
    "# Loading CSV from pandas and split 40% for training data\n",
    "train_df, remaining_df = train_test_split(df, train_size=0.4, random_state=42)\n",
    "\n",
    "# Split the remaining data into production and temp datasets (66% production, 33% temp)\n",
    "production_df, temp_df = train_test_split(remaining_df, train_size=0.666666, random_state=42)\n",
    "\n",
    "# Split the temp data into test and validation datasets (50% test, 50% validation)\n",
    "test_df, validation_df = train_test_split(temp_df, train_size=0.5, random_state=42)"
   ]
  },
  {
   "cell_type": "code",
   "execution_count": null,
   "id": "a5dd9fb1-94b0-40ed-97f1-d54d0af7f77f",
   "metadata": {
    "id": "a5dd9fb1-94b0-40ed-97f1-d54d0af7f77f",
    "outputId": "5ca7eb3c-3488-4ca7-e64b-675ba7a058e7",
    "tags": []
   },
   "outputs": [
    {
     "data": {
      "text/html": [
       "<pre style=\"white-space:pre;overflow-x:auto;line-height:normal;font-family:Menlo,'DejaVu Sans Mono',consolas,'Courier New',monospace\"><span style=\"color: #7fbfbf; text-decoration-color: #7fbfbf\">[02/05/25 01:13:06] </span><span style=\"color: #0069ff; text-decoration-color: #0069ff; font-weight: bold\">INFO    </span> Initializing a Ray instance                                               <a href=\"file:///opt/conda/lib/python3.11/site-packages/awswrangler/distributed/ray/_core.py\" target=\"_blank\"><span style=\"color: #7f7f7f; text-decoration-color: #7f7f7f\">_core.py</span></a><span style=\"color: #7f7f7f; text-decoration-color: #7f7f7f\">:</span><a href=\"file:///opt/conda/lib/python3.11/site-packages/awswrangler/distributed/ray/_core.py#202\" target=\"_blank\"><span style=\"color: #7f7f7f; text-decoration-color: #7f7f7f\">202</span></a>\n",
       "</pre>\n"
      ],
      "text/plain": [
       "\u001b[2;36m[02/05/25 01:13:06]\u001b[0m\u001b[2;36m \u001b[0m\u001b[1;38;2;0;105;255mINFO    \u001b[0m Initializing a Ray instance                                               \u001b]8;id=730438;file:///opt/conda/lib/python3.11/site-packages/awswrangler/distributed/ray/_core.py\u001b\\\u001b[2m_core.py\u001b[0m\u001b]8;;\u001b\\\u001b[2m:\u001b[0m\u001b]8;id=960625;file:///opt/conda/lib/python3.11/site-packages/awswrangler/distributed/ray/_core.py#202\u001b\\\u001b[2m202\u001b[0m\u001b]8;;\u001b\\\n"
      ]
     },
     "metadata": {},
     "output_type": "display_data"
    },
    {
     "name": "stderr",
     "output_type": "stream",
     "text": [
      "2025-02-05 01:13:10,476\tINFO worker.py:1786 -- Started a local Ray instance.\n"
     ]
    }
   ],
   "source": [
    "# Defining S3 paths\n",
    "parquet_output_path = \"s3://{}/data/parquet\".format(bucket)\n",
    "\n",
    "# Save each split dataset to Parquet with partitioning by 'department'\n",
    "wr.s3.to_parquet(\n",
    "    df=train_df,\n",
    "    path=parquet_output_path + \"train/\",\n",
    "    dataset=True,\n",
    "    mode=\"overwrite\",\n",
    "    partition_cols=[\"department\"],\n",
    "    compression=\"snappy\"\n",
    ")\n",
    "\n",
    "wr.s3.to_parquet(\n",
    "    df=production_df,\n",
    "    path=parquet_output_path + \"production/\",\n",
    "    dataset=True,\n",
    "    mode=\"overwrite\",\n",
    "    partition_cols=[\"department\"],\n",
    "    compression=\"snappy\"\n",
    ")\n",
    "\n",
    "wr.s3.to_parquet(\n",
    "    df=test_df,\n",
    "    path=parquet_output_path + \"test/\",\n",
    "    dataset=True,\n",
    "    mode=\"overwrite\",\n",
    "    partition_cols=[\"department\"],\n",
    "    compression=\"snappy\"\n",
    ")\n",
    "\n",
    "wr.s3.to_parquet(\n",
    "    df=validation_df,\n",
    "    path=parquet_output_path + \"validation/\",\n",
    "    dataset=True,\n",
    "    mode=\"overwrite\",\n",
    "    partition_cols=[\"department\"],\n",
    "    compression=\"snappy\"\n",
    ")"
   ]
  },
  {
   "cell_type": "code",
   "execution_count": null,
   "id": "e3f21dad-a19a-4ae1-9837-309c03a512e8",
   "metadata": {
    "tags": []
   },
   "outputs": [],
   "source": [
    "# Create the database if it doesn't exist\n",
    "database_name = \"instacart_db\"\n",
    "try:\n",
    "    # Create the database in AWS Glue\n",
    "    wr.catalog.create_database(name=database_name)\n",
    "    print(f\"Database '{database_name}' created successfully!\")\n",
    "except Exception as e:\n",
    "    print(f\"Error creating database: {e}\")"
   ]
  },
  {
   "cell_type": "code",
   "execution_count": null,
   "id": "8388c247-6de3-430a-8bc2-db52b7939466",
   "metadata": {
    "tags": []
   },
   "outputs": [],
   "source": [
    "# Register the Parquet tables in AWS Glue\n",
    "table_name = \"instacart_orders\"\n",
    "\n",
    "wr.catalog.create_parquet_table(\n",
    "    database=database_name,\n",
    "    table=table_name,\n",
    "    path=parquet_output_path + \"train/\",\n",
    "    columns_types={\n",
    "        \"order_id\": \"bigint\",\n",
    "        \"product_id\": \"bigint\",\n",
    "        \"add_to_cart_order\": \"int\",\n",
    "        \"reordered\": \"int\",\n",
    "        \"user_id\": \"bigint\",\n",
    "        \"product_name\": \"string\",\n",
    "        \"aisle_id\": \"int\",\n",
    "        \"department_id\": \"int\",\n",
    "        \"aisle\": \"string\",\n",
    "        \"department\": \"string\"\n",
    "    },\n",
    "    partitions_types={\"department\": \"string\"},\n",
    "    description=\"Partitioned Instacart orders dataset for optimized Athena queries.\"\n",
    ")\n",
    "\n",
    "print(\"Partitioned Parquet table registered in AWS Glue successfully.\")\n"
   ]
  },
  {
   "cell_type": "markdown",
   "id": "31f84aa7-e0a2-435c-a01a-ec42b64091fe",
   "metadata": {
    "id": "31f84aa7-e0a2-435c-a01a-ec42b64091fe"
   },
   "source": [
    "# Setting up Database for InstantCart"
   ]
  },
  {
   "cell_type": "code",
   "execution_count": null,
   "id": "4b7d4ecd-a14f-4500-a30d-6192f8dd178a",
   "metadata": {
    "id": "4b7d4ecd-a14f-4500-a30d-6192f8dd178a",
    "outputId": "8c34daea-ccc7-4456-a133-38fd8d0ff870",
    "tags": []
   },
   "outputs": [],
   "source": [
    "from pyathena import connect\n",
    "\n",
    "# Defineing AWS Resources\n",
    "bucket_name = bucket\n",
    "region = \"us-east-1\"\n",
    "database_name = \"instacart_db\"\n",
    "table_name = \"instacart_orders\"\n",
    "s3_data_location = f\"s3://{bucket_name}/data-lake/project/partitioned/train/\"  # Using partitioned dataset\n",
    "\n",
    "# Defining Athena Staging Directory\n",
    "s3_staging_dir = f\"s3://{bucket_name}/athena/instacart_staging/\"\n",
    "\n",
    "# Creating Athena Connection\n",
    "try:\n",
    "    conn = connect(s3_staging_dir=s3_staging_dir, region_name=region)\n",
    "    cursor = conn.cursor()\n",
    "    print(\"Connected to Athena successfully.\")\n",
    "except Exception as e:\n",
    "    print(\"Error connecting to Athena:\", e)\n",
    "\n",
    "# Creating Database\n",
    "create_db_query = f\"CREATE DATABASE IF NOT EXISTS {database_name}\"\n",
    "cursor.execute(create_db_query)\n",
    "print(f\"Database '{database_name}' created successfully!\")\n",
    "\n",
    "# Verifying Database Creation\n",
    "cursor.execute(\"SHOW DATABASES\")\n",
    "databases = [row[0] for row in cursor.fetchall()]\n",
    "if database_name in databases:\n",
    "    print(f\"Database '{database_name}' exists!\")\n"
   ]
  },
  {
   "cell_type": "markdown",
   "id": "e697f17a-ef43-45dc-8c24-1f4b1f0d8ede",
   "metadata": {
    "id": "e697f17a-ef43-45dc-8c24-1f4b1f0d8ede"
   },
   "source": [
    "# Creating Athena database"
   ]
  },
  {
   "cell_type": "code",
   "execution_count": null,
   "id": "12de4447-4033-4cb6-9d17-ab1987fcf812",
   "metadata": {
    "id": "12de4447-4033-4cb6-9d17-ab1987fcf812",
    "outputId": "6d7b4364-a35f-47aa-9dc1-43f8982b5386",
    "tags": []
   },
   "outputs": [],
   "source": [
    "create_table_query = f\"\"\"\n",
    "CREATE EXTERNAL TABLE IF NOT EXISTS {database_name}.{table_name} (\n",
    "    order_id BIGINT,\n",
    "    product_id BIGINT,\n",
    "    add_to_cart_order INT,\n",
    "    reordered INT,\n",
    "    user_id BIGINT,\n",
    "    product_name STRING,\n",
    "    aisle_id INT,\n",
    "    department_id INT,\n",
    "    aisle STRING\n",
    ")\n",
    "PARTITIONED BY (department STRING)  -- Partitioned by 'department'\n",
    "STORED AS PARQUET\n",
    "LOCATION 's3://{bucket_name}/data-lake/project/partitioned/train/'  \n",
    "TBLPROPERTIES ('parquet.compression'='SNAPPY');\n",
    "\"\"\"\n",
    "\n",
    "# Execute Table Creation Query\n",
    "cursor.execute(create_table_query)\n",
    "print(f\"Table '{table_name}' created successfully in database '{database_name}'.\")"
   ]
  },
  {
   "cell_type": "code",
   "execution_count": null,
   "id": "bfae1798-26dc-4cff-bd45-296cf61280f2",
   "metadata": {
    "tags": []
   },
   "outputs": [],
   "source": [
    "# Running MSCK REPAIR to Load Partitions\n",
    "cursor.execute(f\"MSCK REPAIR TABLE {database_name}.{table_name}\")\n",
    "print(\"Partitions updated successfully.\")"
   ]
  },
  {
   "cell_type": "code",
   "execution_count": null,
   "id": "e42f7e49-205d-42dd-a4be-1e376847f845",
   "metadata": {
    "id": "e42f7e49-205d-42dd-a4be-1e376847f845",
    "outputId": "ff7a0470-166d-402b-c646-2598944a948f",
    "tags": []
   },
   "outputs": [],
   "source": [
    "cursor.execute(\"SHOW DATABASES\")\n",
    "databases = [row[0] for row in cursor.fetchall()]\n",
    "if database_name in databases:\n",
    "    print(f\"Database '{database_name}' exists in Athena!\")\n",
    "else:\n",
    "    print(f\"Database '{database_name}' does not exist.\")"
   ]
  },
  {
   "cell_type": "code",
   "execution_count": null,
   "id": "51461bba-8c7e-4d2e-8bbc-cc5b9062155e",
   "metadata": {
    "tags": []
   },
   "outputs": [],
   "source": [
    "import boto3\n",
    "\n",
    "s3 = boto3.client('s3')\n",
    "response = s3.list_objects_v2(Bucket=bucket, Prefix=prefix)\n",
    "for obj in response.get('Contents', []):\n",
    "    print(obj['Key'])"
   ]
  },
  {
   "cell_type": "markdown",
   "id": "4d2b1605-100c-4c3e-b0be-1de0c720cde9",
   "metadata": {},
   "source": [
    "# Test"
   ]
  },
  {
   "cell_type": "code",
   "execution_count": null,
   "id": "5a008a6e-55de-4845-8165-7e9784276f24",
   "metadata": {},
   "outputs": [],
   "source": [
    "from pyathena import connect\n",
    "import pandas as pd"
   ]
  },
  {
   "cell_type": "code",
   "execution_count": null,
   "id": "476489bc-1ec4-41d5-9a0f-ee160de2185e",
   "metadata": {},
   "outputs": [],
   "source": [
    "statement = \"SELECT * FROM instacart_orders;\""
   ]
  },
  {
   "cell_type": "code",
   "execution_count": null,
   "id": "3fd2aa83-fc22-4903-b4df-aafd08108530",
   "metadata": {},
   "outputs": [],
   "source": [
    "df = pd.read_sql(statement, conn)"
   ]
  },
  {
   "cell_type": "markdown",
   "id": "f9f1494c-9616-40d3-8152-8812b4e3cf09",
   "metadata": {},
   "source": [
    "# Not Working"
   ]
  },
  {
   "cell_type": "code",
   "execution_count": null,
   "id": "9e052ae5-86d4-4488-aa92-f8dd34333bd6",
   "metadata": {
    "tags": []
   },
   "outputs": [],
   "source": [
    "# Running a Sample Query to Verify Data\n",
    "test_query = f\"SELECT count(*) FROM {database_name}.{table_name} ;\"\n",
    "cursor.execute(test_query)\n",
    "rows = cursor.fetchall()\n",
    "\n",
    "print(\"Sample Query Results:\")\n",
    "for row in rows:\n",
    "    print(row)"
   ]
  },
  {
   "cell_type": "code",
   "execution_count": null,
   "id": "36014144-3e39-403a-9716-b6862c162278",
   "metadata": {
    "tags": []
   },
   "outputs": [],
   "source": [
    "cursor.execute(f\"SHOW PARTITIONS {database_name}.{table_name}\")\n",
    "partitions = cursor.fetchall()\n",
    "if partitions:\n",
    "    print(f\"Partitions found in table '{table_name}': {partitions}\")\n",
    "else:\n",
    "    print(f\"No partitions found in table '{table_name}'.\")\n"
   ]
  },
  {
   "cell_type": "markdown",
   "id": "ef01ab03-bf04-446e-ad32-eb06ec27bca0",
   "metadata": {
    "id": "ef01ab03-bf04-446e-ad32-eb06ec27bca0"
   },
   "source": [
    "# Exploratory Data Analysis"
   ]
  },
  {
   "cell_type": "markdown",
   "id": "30baf4bf-c1a9-45c2-a68c-2ff8ef4b2416",
   "metadata": {
    "id": "30baf4bf-c1a9-45c2-a68c-2ff8ef4b2416"
   },
   "source": [
    "## Checking the Total Orders and Unique Users"
   ]
  },
  {
   "cell_type": "code",
   "execution_count": null,
   "id": "63fea81b-f3b0-4603-ad63-7392347c2f77",
   "metadata": {
    "id": "63fea81b-f3b0-4603-ad63-7392347c2f77",
    "outputId": "4f81f322-d10c-4954-9d59-9c0a89c7be54",
    "tags": []
   },
   "outputs": [],
   "source": [
    "# First Query: Total Orders & Unique Users\n",
    "query = f\"\"\"\n",
    "SELECT\n",
    "    COUNT(DISTINCT order_id) AS total_orders,\n",
    "    COUNT(DISTINCT user_id) AS unique_users\n",
    "FROM {database_name}.{table_name};\n",
    "\"\"\"\n",
    "\n",
    "# Executing query\n",
    "cursor.execute(query)\n",
    "rows = cursor.fetchall()\n",
    "\n",
    "# Printing results\n",
    "print(\"Total Orders & Unique Users:\")\n",
    "for row in rows:\n",
    "    print(row)\n"
   ]
  },
  {
   "cell_type": "markdown",
   "id": "071cd3ac-1828-46aa-a398-4586d857b8a1",
   "metadata": {
    "id": "071cd3ac-1828-46aa-a398-4586d857b8a1"
   },
   "source": [
    "## Top 10 Most Ordered Products\n"
   ]
  },
  {
   "cell_type": "code",
   "execution_count": null,
   "id": "95fd4715-2841-481a-93e6-f7ac5db0c01b",
   "metadata": {
    "id": "95fd4715-2841-481a-93e6-f7ac5db0c01b",
    "outputId": "2ea8664e-b9c9-4a91-bd20-3cbffc419529",
    "tags": []
   },
   "outputs": [],
   "source": [
    "query = f\"\"\"\n",
    "SELECT product_name, COUNT(*) AS total_orders\n",
    "FROM {database_name}.{table_name}\n",
    "GROUP BY product_name\n",
    "ORDER BY total_orders DESC\n",
    "LIMIT 10;\n",
    "\"\"\"\n",
    "cursor.execute(query)\n",
    "rows = cursor.fetchall()\n",
    "print(\"Top 10 Most Ordered Products:\")\n",
    "for row in rows:\n",
    "    print(row)\n"
   ]
  },
  {
   "cell_type": "code",
   "execution_count": null,
   "id": "b4471052-14a6-4c52-a512-b9f5786cd506",
   "metadata": {
    "id": "b4471052-14a6-4c52-a512-b9f5786cd506",
    "outputId": "b494a801-795f-4ec2-f11f-1f3032bb9393",
    "tags": []
   },
   "outputs": [],
   "source": [
    "# ===========================\n",
    "#  Bar Chart: Top 10 Most Ordered Products\n",
    "# ===========================\n",
    "\n",
    "products = [\"Banana\", \"Bag of Organic Bananas\", \"Organic Strawberries\", \"Organic Hass Avocado\",\n",
    "            \"Organic Baby Spinach\", \"Organic Raspberries\", \"Organic Avocado\", \"Organic Whole Milk\",\n",
    "            \"Limes\", \"Large Lemon\"]\n",
    "total_orders = [52073, 46964, 39311, 31555, 29459, 21479, 19582, 19211, 17136, 16719]\n",
    "\n",
    "# Creating DataFrame\n",
    "df_products = pd.DataFrame({\"Product Name\": products, \"Total Orders\": total_orders})\n",
    "\n",
    "# Plotting Bar Chart\n",
    "plt.figure(figsize=(12, 6))\n",
    "sns.barplot(x=\"Total Orders\", y=\"Product Name\", data=df_products, palette=\"viridis\")\n",
    "plt.xlabel(\"Total Orders\")\n",
    "plt.ylabel(\"Product Name\")\n",
    "plt.title(\"Top 10 Most Ordered Products\")\n",
    "plt.show()\n"
   ]
  },
  {
   "cell_type": "markdown",
   "id": "8458ad80-ca5c-4908-9bf9-53bedfe0809a",
   "metadata": {
    "id": "8458ad80-ca5c-4908-9bf9-53bedfe0809a"
   },
   "source": [
    "### Insights\n",
    "\n",
    "- Bananas are the most ordered item with 52073 orders.\n",
    "- Organic produce is extremely popular. Where 7 out of 10 items are organic.\n",
    "- Dairy products like Whole Milk rank in the Top 10.\n",
    "- Cirtrus fruits like Limes and Lemons are in high demand."
   ]
  },
  {
   "cell_type": "markdown",
   "id": "f3c1007f-d878-4154-994f-1ae2467c364c",
   "metadata": {
    "id": "f3c1007f-d878-4154-994f-1ae2467c364c"
   },
   "source": [
    "## Reorder Rate per Product"
   ]
  },
  {
   "cell_type": "code",
   "execution_count": null,
   "id": "e7d9e50c-405e-46a0-8684-01b8eb5fb777",
   "metadata": {
    "id": "e7d9e50c-405e-46a0-8684-01b8eb5fb777",
    "outputId": "4d137e89-1bbb-4ec4-f830-e15272d8bb32",
    "tags": []
   },
   "outputs": [],
   "source": [
    "query = f\"\"\"\n",
    "SELECT\n",
    "    product_name,\n",
    "    COUNT(*) AS total_orders,\n",
    "    SUM(reordered) AS total_reorders,\n",
    "    ROUND(100.0 * SUM(reordered) / COUNT(*), 2) AS reorder_rate\n",
    "FROM {database_name}.{table_name}\n",
    "GROUP BY product_name\n",
    "ORDER BY reorder_rate DESC\n",
    "LIMIT 10;\n",
    "\"\"\"\n",
    "cursor.execute(query)\n",
    "rows = cursor.fetchall()\n",
    "print(\"Top 10 Products with Highest Reorder Rate:\")\n",
    "for row in rows:\n",
    "    print(row)\n"
   ]
  },
  {
   "cell_type": "markdown",
   "id": "faa2a01e-99cf-4274-b56f-0e32c1db0bde",
   "metadata": {
    "id": "faa2a01e-99cf-4274-b56f-0e32c1db0bde"
   },
   "source": [
    "### Insights for Top 10 Products with Highest Reorder Rate:\n",
    "\n",
    "- **100% Lactose-Free Milk** has a **100% reorder rate**, indicating it is a highly demanded product among lactose-intolerant customers who consistently reorder it.\n",
    "- **Salted Sweet Cream Butter Quarters**, **Sparkling Water Bottles**, and **Premium Lots of Pulp Orange Juice** also show a **100% reorder rate**, signifying that these are popular products with strong customer loyalty and recurring demand.\n",
    "- **Classic Baby Creamers Potatoes** and **Peru Sweet Onions** are products with **100% reorder rate**, pointing to their continued preference and high re-purchase frequency among customers.\n",
    "- **Thirst Quencher Caffeine-Free Naturally Flavored Citrus Soda** and **Smoked Whitefish Salad** reflect **100% reorder rates**, highlighting that these items are consistently chosen by customers who keep coming back for more.\n",
    "- **Seltzer Water** and **Green Bananas** demonstrate high reorder demand, each maintaining **100% reorder rate**, suggesting these are staple items that customers rely on regularly."
   ]
  },
  {
   "cell_type": "markdown",
   "id": "bb9bd2b1-66a6-44d0-a767-b0e049c2541c",
   "metadata": {
    "id": "bb9bd2b1-66a6-44d0-a767-b0e049c2541c"
   },
   "source": [
    "## Orders by Department"
   ]
  },
  {
   "cell_type": "code",
   "execution_count": null,
   "id": "098c076c-dde7-4c55-a0ae-b69e97506334",
   "metadata": {
    "id": "098c076c-dde7-4c55-a0ae-b69e97506334",
    "outputId": "6dbba839-6fab-43e3-998e-4cbc00208ca1",
    "tags": []
   },
   "outputs": [],
   "source": [
    "query = f\"\"\"\n",
    "SELECT department, COUNT(*) AS total_orders\n",
    "FROM {database_name}.{table_name}\n",
    "GROUP BY department\n",
    "ORDER BY total_orders DESC;\n",
    "\"\"\"\n",
    "cursor.execute(query)\n",
    "rows = cursor.fetchall()\n",
    "print(\"Orders by Department:\")\n",
    "for row in rows:\n",
    "    print(row)\n"
   ]
  },
  {
   "cell_type": "code",
   "execution_count": null,
   "id": "1ea43f60-4912-4e54-9d0f-c3e5c4ef420c",
   "metadata": {
    "id": "1ea43f60-4912-4e54-9d0f-c3e5c4ef420c",
    "outputId": "a1a957d0-7764-49f0-ddfa-80850ced4990",
    "tags": []
   },
   "outputs": [],
   "source": [
    "# ===========================\n",
    "# Bar Chart: Orders by Department\n",
    "# ===========================\n",
    "\n",
    "# Data from previous query (Department, Total Orders)\n",
    "departments = [\"produce\", \"dairy eggs\", \"snacks\", \"beverages\", \"frozen\",\n",
    "               \"pantry\", \"bakery\", \"deli\", \"canned goods\", \"dry goods pasta\"]\n",
    "total_orders = [1116850, 619999, 294213, 234613, 201359, 138924, 127884, 114349, 102416, 84651]\n",
    "\n",
    "# Creating DataFrame\n",
    "df_orders_by_department = pd.DataFrame({\"Department\": departments, \"Total Orders\": total_orders})\n",
    "\n",
    "# Plotting Bar Chart\n",
    "plt.figure(figsize=(12, 6))\n",
    "sns.barplot(x=\"Total Orders\", y=\"Department\", data=df_orders_by_department, palette=\"magma\")\n",
    "plt.xlabel(\"Total Orders\")\n",
    "plt.ylabel(\"Department\")\n",
    "plt.title(\"Total Orders by Department\")\n",
    "plt.show()\n"
   ]
  },
  {
   "cell_type": "markdown",
   "id": "cb6bbe33-9478-447a-9633-613e7a0ed593",
   "metadata": {
    "id": "cb6bbe33-9478-447a-9633-613e7a0ed593"
   },
   "source": [
    "### Insights\n",
    "\n",
    "- Produce is the most ordered department with ~1.11 million orders. This aligns with the earlier Top Ordered Products (bananas, avocados, berries). On another hand, Fresh produce is frequently bought and likely reordered often.\n",
    "- Dairy & Eggs ranks second with 619K orders.\n",
    "- Snacks are the third most popular category (294K orders).\n",
    "    - Expect chips, granola bars, and nuts to dominate.\n",
    "- Beverages & Frozen Foods also have strong demand.\n",
    "    - Beverages (~234K orders) likely include popular items like bottled water, juices, and coffee.\n",
    "    - Frozen Foods (~201K orders) suggest customers stock up on frozen essentials.\n",
    "- Pantry Staples, Bakery, and Deli also contribute significantly. It could likely contain bread, canned goods, and dry pasta."
   ]
  },
  {
   "cell_type": "markdown",
   "id": "57306664-46cb-4b7f-b245-105a8518da35",
   "metadata": {
    "id": "57306664-46cb-4b7f-b245-105a8518da35"
   },
   "source": [
    "## Most Popular Aisles"
   ]
  },
  {
   "cell_type": "code",
   "execution_count": null,
   "id": "7f72ad88-c2a1-46b2-a65e-37944de8df85",
   "metadata": {
    "id": "7f72ad88-c2a1-46b2-a65e-37944de8df85",
    "outputId": "be190742-ecc2-4fa2-b8e3-c942c2f7d013",
    "tags": []
   },
   "outputs": [],
   "source": [
    "query = f\"\"\"\n",
    "SELECT aisle, COUNT(*) AS total_orders\n",
    "FROM {database_name}.{table_name}\n",
    "GROUP BY aisle\n",
    "ORDER BY total_orders DESC\n",
    "LIMIT 10;\n",
    "\"\"\"\n",
    "cursor.execute(query)\n",
    "rows = cursor.fetchall()\n",
    "print(\"Top 10 Aisles:\")\n",
    "for row in rows:\n",
    "    print(row)\n"
   ]
  },
  {
   "cell_type": "code",
   "execution_count": null,
   "id": "75d5a216-31e7-4b13-9628-c696064aab6e",
   "metadata": {
    "id": "75d5a216-31e7-4b13-9628-c696064aab6e",
    "outputId": "30f9a8d8-1ebc-4ede-a903-aa5ee7516587",
    "tags": []
   },
   "outputs": [],
   "source": [
    "# ===========================\n",
    "# Bar Chart: Most Popular Aisles\n",
    "# ===========================\n",
    "\n",
    "# Data from previous query (Aisle, Total Orders)\n",
    "aisles = [\"fresh fruits\", \"fresh vegetables\", \"packaged vegetables fruits\", \"yogurt\",\n",
    "          \"packaged cheese\", \"milk\", \"water seltzer sparkling water\", \"chips pretzels\",\n",
    "          \"soy lactosefree\", \"bread\"]\n",
    "aisle_orders = [450026, 404252, 205492, 184903, 112690, 103953, 78019, 74536, 68786, 65469]\n",
    "\n",
    "# Creating DataFrame\n",
    "df_aisles = pd.DataFrame({\"Aisle\": aisles, \"Total Orders\": aisle_orders})\n",
    "\n",
    "# Plotting Bar Chart\n",
    "plt.figure(figsize=(12, 6))\n",
    "sns.barplot(x=\"Total Orders\", y=\"Aisle\", data=df_aisles, palette=\"coolwarm\")\n",
    "plt.xlabel(\"Total Orders\")\n",
    "plt.ylabel(\"Aisle\")\n",
    "plt.title(\"Top 10 Most Popular Aisles\")\n",
    "plt.show()"
   ]
  },
  {
   "cell_type": "markdown",
   "id": "c24db1ca-63f9-4b26-b45f-4e4039e7f836",
   "metadata": {
    "id": "c24db1ca-63f9-4b26-b45f-4e4039e7f836"
   },
   "source": [
    "### Insights\n",
    "- Fresh Produce Dominance:\n",
    "    - Fresh Fruits (450K orders) and Fresh Vegetables (404K orders) are the top two aisles.\n",
    "    - Combined, these two alone account for over 950K orders, which reinforces why Produce is the top department.\n",
    "\n",
    "- Dairy is Highly Popular:\n",
    "    - Yogurt (184K orders) and Packaged Cheese (112K orders) show strong demand.\n",
    "    - Milk (103K orders) further confirms that dairy products are household essentials.\n",
    "\n",
    "- Beverages are a Major Category:\n",
    "    - Water, Seltzer, and Sparkling Water (78K orders) ranks #7, showing strong demand for bottled drinks.\n",
    "\n",
    "- Snacks & Bread are Key Pantry Items\n",
    "    - Chips & Pretzels (74K orders) are among the most frequently purchased snacks.\n",
    "    - Bread (65K orders) confirms why Bakery is among the top departments.\n",
    "\n",
    "- Plant-Based Alternatives are Growing\n",
    "    - Soy & Lactose-Free Products (68K orders) indicate increased demand for dairy-free alternatives."
   ]
  },
  {
   "cell_type": "markdown",
   "id": "7397578b-076f-41c1-a8ae-9138fa4af15b",
   "metadata": {
    "id": "7397578b-076f-41c1-a8ae-9138fa4af15b"
   },
   "source": [
    "##  Reorder Ratio by Department"
   ]
  },
  {
   "cell_type": "code",
   "execution_count": null,
   "id": "1aed8321-7c0c-4842-91bb-4bf675f70764",
   "metadata": {
    "id": "1aed8321-7c0c-4842-91bb-4bf675f70764",
    "outputId": "6b3533fb-a800-48e7-d6a6-47c313663545",
    "tags": []
   },
   "outputs": [],
   "source": [
    "query = f\"\"\"\n",
    "SELECT\n",
    "    department,\n",
    "    COUNT(*) AS total_orders,\n",
    "    SUM(reordered) AS total_reorders,\n",
    "    ROUND(100.0 * SUM(reordered) / COUNT(*), 2) AS reorder_ratio\n",
    "FROM {database_name}.{table_name}\n",
    "GROUP BY department\n",
    "ORDER BY reorder_ratio DESC;\n",
    "\"\"\"\n",
    "cursor.execute(query)\n",
    "rows = cursor.fetchall()\n",
    "print(\"Reorder Ratio by Department:\")\n",
    "for row in rows:\n",
    "    print(row)\n"
   ]
  },
  {
   "cell_type": "markdown",
   "id": "5400ed06-20af-481e-9cbe-3745fcac1021",
   "metadata": {
    "id": "5400ed06-20af-481e-9cbe-3745fcac1021"
   },
   "source": [
    "### Insights\n",
    "\n",
    "- Dairy & Eggs Have the Highest Reorder Rate (82.73%)\n",
    "    - Most frequently reordered category.\n",
    "    - Milk, Yogurt, and Cheese are household staples → high repurchase behavior.\n",
    "\n",
    "- Beverages Rank #2 in Reorders (80.85%)\n",
    "    - Bottled Water, Sparkling Water, and Coffee/Tea are commonly repurchased.\n",
    "    - These items are frequently consumed & replaced regularly.\n",
    "\n",
    "- Produce Has a High Reorder Rate (80.71%)\n",
    "    - Fruits and vegetables have a high purchase frequency.\n",
    "    - Bananas, Avocados, and Berries from previous queries reinforce this trend.\n",
    "\n",
    "- Bakery (80.43%) & Deli (78.53%) Show Strong Reorder Loyalty\n",
    "    - Bread, Bagels, and Pre-packaged Deli Items are regularly bought items.\n",
    "    - Customers often stick to the same brands.\n",
    "\n",
    "- Snacks & Frozen Foods Have Moderate Reorder Rates (~70%)\n",
    "    - Chips, Pretzels, and Frozen Meals are repurchased but less frequently than fresh foods.\n",
    "\n",
    "- Canned Goods & Dry Goods Have Lower Reorder Rates (~65%)\n",
    "    - Longer shelf life → not purchased as frequently.\n",
    "\n",
    "- Pasta, sauces, and canned vegetables last longer → lower immediate repurchase need.\n",
    "\n",
    "- Pantry Has the Lowest Reorder Rate (57.26%)\n",
    "    - Less frequent purchases of pantry staples like flour, condiments, and spices."
   ]
  },
  {
   "cell_type": "code",
   "execution_count": null,
   "id": "a367d871-b8d1-40c4-9656-5eafe1562a3c",
   "metadata": {
    "id": "a367d871-b8d1-40c4-9656-5eafe1562a3c",
    "outputId": "628c273a-7864-4f2b-b6e0-82973e0595d0",
    "tags": []
   },
   "outputs": [],
   "source": [
    "# ===========================\n",
    "# Pie Chart: Reorder Ratio by Department\n",
    "# ===========================\n",
    "\n",
    "# Data from previous query (Department, Reorder Ratio)\n",
    "departments = [\"dairy eggs\", \"beverages\", \"produce\", \"bakery\", \"deli\",\n",
    "               \"snacks\", \"frozen\", \"canned goods\", \"dry goods pasta\", \"pantry\"]\n",
    "reorder_ratio = [82.73, 80.85, 80.71, 80.43, 78.53, 74.01, 71.87, 65.51, 65.33, 57.26]\n",
    "\n",
    "# Create DataFrame\n",
    "df_departments = pd.DataFrame({\"Department\": departments, \"Reorder Ratio\": reorder_ratio})\n",
    "\n",
    "# Plot Pie Chart\n",
    "plt.figure(figsize=(10, 6))\n",
    "plt.pie(df_departments[\"Reorder Ratio\"], labels=df_departments[\"Department\"],\n",
    "        autopct=\"%1.1f%%\", colors=sns.color_palette(\"viridis\", len(departments)), startangle=140)\n",
    "plt.title(\"Reorder Ratio by Department\")\n",
    "plt.axis(\"equal\")  # Equal aspect ratio ensures the pie is drawn as a circle\n",
    "plt.show()"
   ]
  },
  {
   "cell_type": "code",
   "execution_count": null,
   "id": "c924db71-e43c-4a28-9b7b-40ca5be0418d",
   "metadata": {
    "id": "c924db71-e43c-4a28-9b7b-40ca5be0418d",
    "outputId": "6b8211df-e6ca-4845-9d72-8a8708745545",
    "tags": []
   },
   "outputs": [],
   "source": [
    "# ===========================\n",
    "# Stacked Bar Chart: Reordered vs Non-Reordered Orders by Department\n",
    "# ===========================\n",
    "\n",
    "# Data from previous query (Department, Reordered Orders)\n",
    "departments = [\"dairy eggs\", \"beverages\", \"produce\", \"bakery\", \"deli\",\n",
    "               \"snacks\", \"frozen\", \"canned goods\", \"dry goods pasta\", \"pantry\"]\n",
    "total_orders = [619999, 234613, 1116850, 127884, 114349, 294213, 201359, 102416, 84651, 138924]\n",
    "reordered = [512956, 189692, 901358, 102853, 89802, 217758, 144719, 67094, 55299, 79541]\n",
    "non_reordered = [total - reorder for total, reorder in zip(total_orders, reordered)]\n",
    "\n",
    "# Create DataFrame\n",
    "df_reorders = pd.DataFrame({\"Department\": departments, \"Reordered\": reordered, \"Non-Reordered\": non_reordered})\n",
    "\n",
    "# Plot Stacked Bar Chart (Reordered vs Non-Reordered)\n",
    "df_reorders.set_index(\"Department\")[[\"Reordered\", \"Non-Reordered\"]].plot(kind=\"bar\", stacked=True, figsize=(12, 6), colormap=\"viridis\")\n",
    "plt.xlabel(\"Department\")\n",
    "plt.ylabel(\"Number of Orders\")\n",
    "plt.title(\"Reordered vs Non-Reordered Orders by Department\")\n",
    "plt.legend([\"Reordered\", \"Non-Reordered\"])\n",
    "plt.xticks(rotation=45)\n",
    "plt.show()"
   ]
  },
  {
   "cell_type": "markdown",
   "id": "52e9a1d8-b23f-4872-a79c-7c3e7ad61ed2",
   "metadata": {
    "id": "52e9a1d8-b23f-4872-a79c-7c3e7ad61ed2"
   },
   "source": [
    "**Analysis for reordered vs non-reordered orders by department**:\n",
    "    \n",
    "1. Produce has the highest number of orders overall\n",
    "\n",
    "    - Most of these orders are reorders, confirming that fruits and vegetables are frequently repurchased.\n",
    "\n",
    "2. Dairy & Eggs have the highest reorder percentage\n",
    "    - Consistently repurchased products like milk, cheese, and yogurt drive these numbers.\n",
    "\n",
    "3. Snacks and Frozen Foods have moderate reorder levels\n",
    "    - Customers repurchase snacks and frozen goods but at a slightly lower frequency than fresh items.\n",
    "\n",
    "4. Pantry and Canned Goods have the lowest reorder rates\n",
    "    - These products have a longer shelf life, reducing the need for frequent repurchasing."
   ]
  },
  {
   "cell_type": "markdown",
   "id": "67dca0d4-f965-4ec1-9359-cabeb6b3a511",
   "metadata": {
    "id": "67dca0d4-f965-4ec1-9359-cabeb6b3a511"
   },
   "source": [
    "## Correlation Analysis"
   ]
  },
  {
   "cell_type": "code",
   "execution_count": null,
   "id": "53b1b9ce-e9af-438c-bed2-b8b522251d2b",
   "metadata": {
    "id": "53b1b9ce-e9af-438c-bed2-b8b522251d2b",
    "outputId": "87fbdfe0-7000-4935-a592-61e579335f20",
    "tags": []
   },
   "outputs": [],
   "source": [
    "# Data: Numerical Features for Correlation Analysis\n",
    "departments = [\"dairy eggs\", \"beverages\", \"produce\", \"bakery\", \"deli\",\n",
    "               \"snacks\", \"frozen\", \"canned goods\", \"dry goods pasta\", \"pantry\"]\n",
    "total_orders = [619999, 234613, 1116850, 127884, 114349, 294213, 201359, 102416, 84651, 138924]\n",
    "reordered = [512956, 189692, 901358, 102853, 89802, 217758, 144719, 67094, 55299, 79541]\n",
    "reorder_ratio = [82.73, 80.85, 80.71, 80.43, 78.53, 74.01, 71.87, 65.51, 65.33, 57.26]\n",
    "\n",
    "# Creating DataFrame\n",
    "df_correlation = pd.DataFrame({\n",
    "    \"Total Orders\": total_orders,\n",
    "    \"Reordered Orders\": reordered,\n",
    "    \"Reorder Ratio (%)\": reorder_ratio\n",
    "})\n",
    "\n",
    "# Computing Correlation Matrix\n",
    "correlation_matrix = df_correlation.corr()\n",
    "\n",
    "# Plotting Correlation Heatmap\n",
    "plt.figure(figsize=(8, 6))\n",
    "sns.heatmap(correlation_matrix, annot=True, cmap=\"coolwarm\", fmt=\".2f\", linewidths=0.5)\n",
    "plt.title(\"Correlation Matrix of Order Features\")\n",
    "plt.show()\n"
   ]
  },
  {
   "cell_type": "markdown",
   "id": "4046bfdb-0681-4490-a61e-e924bf8f8c5a",
   "metadata": {
    "id": "4046bfdb-0681-4490-a61e-e924bf8f8c5a"
   },
   "source": [
    "- Total Orders & Reordered Orders (Correlation = 1.00)\n",
    "    - This confirms that departments with high total orders also have high reorders.\n",
    "    - Produce, Dairy, and Beverages are likely contributing to this trend.\n",
    "\n",
    "- Total Orders & Reorder Ratio (Correlation = 0.49)\n",
    "    - Moderate positive correlation → Higher orders somewhat influence the reorder rate, but not always.\n",
    "    - Some departments may have high first-time purchases but lower reorder rates (e.g., snacks, pantry items).\n",
    "\n",
    "- Reordered Orders & Reorder Ratio (Correlation = 0.52)\n",
    "    - A moderate correlation suggests that higher reorder volumes influence reorder ratio but not perfectly.\n",
    "    - Some products (like dairy & produce) are reordered very frequently, while others (like pantry goods) less frequently.\n"
   ]
  },
  {
   "cell_type": "markdown",
   "id": "8CTXjesgcyv7",
   "metadata": {
    "id": "8CTXjesgcyv7"
   },
   "source": [
    "# Feature Engineering"
   ]
  },
  {
   "cell_type": "markdown",
   "id": "QXUyFSf-dkCl",
   "metadata": {
    "id": "QXUyFSf-dkCl"
   },
   "source": [
    "For creating ML Feature features, I am going to use the following labels:\n",
    "\n",
    "- User ID: \tThis tracks individual purchase behavior.\n",
    "- Product ID: Helps identify frequently reordered products.\n",
    "- Department ID: Some departments have higher reorder rates.\n",
    "- Aisle ID: Aisle-level trends impact reorder likelihood.\n",
    "- Total Orders: Highly correlated with reorder behavior.\n",
    "- Reorder Ratio: Strong predictor of repeat purchases.\n",
    "- Total items in Orders: \tDetermines if larger orders influence reorders.\n",
    "- User Order Frequency: Identifies frequent vs. occasional buyers.\n",
    "- User Reorder Percentage: Determines likelihood of repeat purchases.\n",
    "- Product popularity: Captures demand for the product.\n",
    "- Department reorder ratio: Some departments have stronger reorder trends.\n",
    "- Aisle Reorder ratio: Aisle-specific reorder behavior.\n",
    "- Product Reorder trend:  Helps detect seasonal or trending products.\n"
   ]
  },
  {
   "cell_type": "markdown",
   "id": "lWUKol76c2IY",
   "metadata": {
    "id": "lWUKol76c2IY"
   },
   "source": [
    "Strongest predictions for EDA:\n",
    "\n",
    "1. Reorder Ratio: strongly correlated with reorders.\n",
    "2. Total Orders: high correlation with reorder likelihood.\n",
    "3. User Reorder percerntage: Helps preduct if a user is likely to reorder.\n",
    "4. Product Popularity: popular items have higher reorders.\n",
    "5. Department and Aisle reorder ratios: certain categories drive higher reorders.\n"
   ]
  }
 ],
 "metadata": {
  "availableInstances": [
   {
    "_defaultOrder": 0,
    "_isFastLaunch": true,
    "category": "General purpose",
    "gpuNum": 0,
    "hideHardwareSpecs": false,
    "memoryGiB": 4,
    "name": "ml.t3.medium",
    "vcpuNum": 2
   },
   {
    "_defaultOrder": 1,
    "_isFastLaunch": false,
    "category": "General purpose",
    "gpuNum": 0,
    "hideHardwareSpecs": false,
    "memoryGiB": 8,
    "name": "ml.t3.large",
    "vcpuNum": 2
   },
   {
    "_defaultOrder": 2,
    "_isFastLaunch": false,
    "category": "General purpose",
    "gpuNum": 0,
    "hideHardwareSpecs": false,
    "memoryGiB": 16,
    "name": "ml.t3.xlarge",
    "vcpuNum": 4
   },
   {
    "_defaultOrder": 3,
    "_isFastLaunch": false,
    "category": "General purpose",
    "gpuNum": 0,
    "hideHardwareSpecs": false,
    "memoryGiB": 32,
    "name": "ml.t3.2xlarge",
    "vcpuNum": 8
   },
   {
    "_defaultOrder": 4,
    "_isFastLaunch": true,
    "category": "General purpose",
    "gpuNum": 0,
    "hideHardwareSpecs": false,
    "memoryGiB": 8,
    "name": "ml.m5.large",
    "vcpuNum": 2
   },
   {
    "_defaultOrder": 5,
    "_isFastLaunch": false,
    "category": "General purpose",
    "gpuNum": 0,
    "hideHardwareSpecs": false,
    "memoryGiB": 16,
    "name": "ml.m5.xlarge",
    "vcpuNum": 4
   },
   {
    "_defaultOrder": 6,
    "_isFastLaunch": false,
    "category": "General purpose",
    "gpuNum": 0,
    "hideHardwareSpecs": false,
    "memoryGiB": 32,
    "name": "ml.m5.2xlarge",
    "vcpuNum": 8
   },
   {
    "_defaultOrder": 7,
    "_isFastLaunch": false,
    "category": "General purpose",
    "gpuNum": 0,
    "hideHardwareSpecs": false,
    "memoryGiB": 64,
    "name": "ml.m5.4xlarge",
    "vcpuNum": 16
   },
   {
    "_defaultOrder": 8,
    "_isFastLaunch": false,
    "category": "General purpose",
    "gpuNum": 0,
    "hideHardwareSpecs": false,
    "memoryGiB": 128,
    "name": "ml.m5.8xlarge",
    "vcpuNum": 32
   },
   {
    "_defaultOrder": 9,
    "_isFastLaunch": false,
    "category": "General purpose",
    "gpuNum": 0,
    "hideHardwareSpecs": false,
    "memoryGiB": 192,
    "name": "ml.m5.12xlarge",
    "vcpuNum": 48
   },
   {
    "_defaultOrder": 10,
    "_isFastLaunch": false,
    "category": "General purpose",
    "gpuNum": 0,
    "hideHardwareSpecs": false,
    "memoryGiB": 256,
    "name": "ml.m5.16xlarge",
    "vcpuNum": 64
   },
   {
    "_defaultOrder": 11,
    "_isFastLaunch": false,
    "category": "General purpose",
    "gpuNum": 0,
    "hideHardwareSpecs": false,
    "memoryGiB": 384,
    "name": "ml.m5.24xlarge",
    "vcpuNum": 96
   },
   {
    "_defaultOrder": 12,
    "_isFastLaunch": false,
    "category": "General purpose",
    "gpuNum": 0,
    "hideHardwareSpecs": false,
    "memoryGiB": 8,
    "name": "ml.m5d.large",
    "vcpuNum": 2
   },
   {
    "_defaultOrder": 13,
    "_isFastLaunch": false,
    "category": "General purpose",
    "gpuNum": 0,
    "hideHardwareSpecs": false,
    "memoryGiB": 16,
    "name": "ml.m5d.xlarge",
    "vcpuNum": 4
   },
   {
    "_defaultOrder": 14,
    "_isFastLaunch": false,
    "category": "General purpose",
    "gpuNum": 0,
    "hideHardwareSpecs": false,
    "memoryGiB": 32,
    "name": "ml.m5d.2xlarge",
    "vcpuNum": 8
   },
   {
    "_defaultOrder": 15,
    "_isFastLaunch": false,
    "category": "General purpose",
    "gpuNum": 0,
    "hideHardwareSpecs": false,
    "memoryGiB": 64,
    "name": "ml.m5d.4xlarge",
    "vcpuNum": 16
   },
   {
    "_defaultOrder": 16,
    "_isFastLaunch": false,
    "category": "General purpose",
    "gpuNum": 0,
    "hideHardwareSpecs": false,
    "memoryGiB": 128,
    "name": "ml.m5d.8xlarge",
    "vcpuNum": 32
   },
   {
    "_defaultOrder": 17,
    "_isFastLaunch": false,
    "category": "General purpose",
    "gpuNum": 0,
    "hideHardwareSpecs": false,
    "memoryGiB": 192,
    "name": "ml.m5d.12xlarge",
    "vcpuNum": 48
   },
   {
    "_defaultOrder": 18,
    "_isFastLaunch": false,
    "category": "General purpose",
    "gpuNum": 0,
    "hideHardwareSpecs": false,
    "memoryGiB": 256,
    "name": "ml.m5d.16xlarge",
    "vcpuNum": 64
   },
   {
    "_defaultOrder": 19,
    "_isFastLaunch": false,
    "category": "General purpose",
    "gpuNum": 0,
    "hideHardwareSpecs": false,
    "memoryGiB": 384,
    "name": "ml.m5d.24xlarge",
    "vcpuNum": 96
   },
   {
    "_defaultOrder": 20,
    "_isFastLaunch": false,
    "category": "General purpose",
    "gpuNum": 0,
    "hideHardwareSpecs": true,
    "memoryGiB": 0,
    "name": "ml.geospatial.interactive",
    "supportedImageNames": [
     "sagemaker-geospatial-v1-0"
    ],
    "vcpuNum": 0
   },
   {
    "_defaultOrder": 21,
    "_isFastLaunch": true,
    "category": "Compute optimized",
    "gpuNum": 0,
    "hideHardwareSpecs": false,
    "memoryGiB": 4,
    "name": "ml.c5.large",
    "vcpuNum": 2
   },
   {
    "_defaultOrder": 22,
    "_isFastLaunch": false,
    "category": "Compute optimized",
    "gpuNum": 0,
    "hideHardwareSpecs": false,
    "memoryGiB": 8,
    "name": "ml.c5.xlarge",
    "vcpuNum": 4
   },
   {
    "_defaultOrder": 23,
    "_isFastLaunch": false,
    "category": "Compute optimized",
    "gpuNum": 0,
    "hideHardwareSpecs": false,
    "memoryGiB": 16,
    "name": "ml.c5.2xlarge",
    "vcpuNum": 8
   },
   {
    "_defaultOrder": 24,
    "_isFastLaunch": false,
    "category": "Compute optimized",
    "gpuNum": 0,
    "hideHardwareSpecs": false,
    "memoryGiB": 32,
    "name": "ml.c5.4xlarge",
    "vcpuNum": 16
   },
   {
    "_defaultOrder": 25,
    "_isFastLaunch": false,
    "category": "Compute optimized",
    "gpuNum": 0,
    "hideHardwareSpecs": false,
    "memoryGiB": 72,
    "name": "ml.c5.9xlarge",
    "vcpuNum": 36
   },
   {
    "_defaultOrder": 26,
    "_isFastLaunch": false,
    "category": "Compute optimized",
    "gpuNum": 0,
    "hideHardwareSpecs": false,
    "memoryGiB": 96,
    "name": "ml.c5.12xlarge",
    "vcpuNum": 48
   },
   {
    "_defaultOrder": 27,
    "_isFastLaunch": false,
    "category": "Compute optimized",
    "gpuNum": 0,
    "hideHardwareSpecs": false,
    "memoryGiB": 144,
    "name": "ml.c5.18xlarge",
    "vcpuNum": 72
   },
   {
    "_defaultOrder": 28,
    "_isFastLaunch": false,
    "category": "Compute optimized",
    "gpuNum": 0,
    "hideHardwareSpecs": false,
    "memoryGiB": 192,
    "name": "ml.c5.24xlarge",
    "vcpuNum": 96
   },
   {
    "_defaultOrder": 29,
    "_isFastLaunch": true,
    "category": "Accelerated computing",
    "gpuNum": 1,
    "hideHardwareSpecs": false,
    "memoryGiB": 16,
    "name": "ml.g4dn.xlarge",
    "vcpuNum": 4
   },
   {
    "_defaultOrder": 30,
    "_isFastLaunch": false,
    "category": "Accelerated computing",
    "gpuNum": 1,
    "hideHardwareSpecs": false,
    "memoryGiB": 32,
    "name": "ml.g4dn.2xlarge",
    "vcpuNum": 8
   },
   {
    "_defaultOrder": 31,
    "_isFastLaunch": false,
    "category": "Accelerated computing",
    "gpuNum": 1,
    "hideHardwareSpecs": false,
    "memoryGiB": 64,
    "name": "ml.g4dn.4xlarge",
    "vcpuNum": 16
   },
   {
    "_defaultOrder": 32,
    "_isFastLaunch": false,
    "category": "Accelerated computing",
    "gpuNum": 1,
    "hideHardwareSpecs": false,
    "memoryGiB": 128,
    "name": "ml.g4dn.8xlarge",
    "vcpuNum": 32
   },
   {
    "_defaultOrder": 33,
    "_isFastLaunch": false,
    "category": "Accelerated computing",
    "gpuNum": 4,
    "hideHardwareSpecs": false,
    "memoryGiB": 192,
    "name": "ml.g4dn.12xlarge",
    "vcpuNum": 48
   },
   {
    "_defaultOrder": 34,
    "_isFastLaunch": false,
    "category": "Accelerated computing",
    "gpuNum": 1,
    "hideHardwareSpecs": false,
    "memoryGiB": 256,
    "name": "ml.g4dn.16xlarge",
    "vcpuNum": 64
   },
   {
    "_defaultOrder": 35,
    "_isFastLaunch": false,
    "category": "Accelerated computing",
    "gpuNum": 1,
    "hideHardwareSpecs": false,
    "memoryGiB": 61,
    "name": "ml.p3.2xlarge",
    "vcpuNum": 8
   },
   {
    "_defaultOrder": 36,
    "_isFastLaunch": false,
    "category": "Accelerated computing",
    "gpuNum": 4,
    "hideHardwareSpecs": false,
    "memoryGiB": 244,
    "name": "ml.p3.8xlarge",
    "vcpuNum": 32
   },
   {
    "_defaultOrder": 37,
    "_isFastLaunch": false,
    "category": "Accelerated computing",
    "gpuNum": 8,
    "hideHardwareSpecs": false,
    "memoryGiB": 488,
    "name": "ml.p3.16xlarge",
    "vcpuNum": 64
   },
   {
    "_defaultOrder": 38,
    "_isFastLaunch": false,
    "category": "Accelerated computing",
    "gpuNum": 8,
    "hideHardwareSpecs": false,
    "memoryGiB": 768,
    "name": "ml.p3dn.24xlarge",
    "vcpuNum": 96
   },
   {
    "_defaultOrder": 39,
    "_isFastLaunch": false,
    "category": "Memory Optimized",
    "gpuNum": 0,
    "hideHardwareSpecs": false,
    "memoryGiB": 16,
    "name": "ml.r5.large",
    "vcpuNum": 2
   },
   {
    "_defaultOrder": 40,
    "_isFastLaunch": false,
    "category": "Memory Optimized",
    "gpuNum": 0,
    "hideHardwareSpecs": false,
    "memoryGiB": 32,
    "name": "ml.r5.xlarge",
    "vcpuNum": 4
   },
   {
    "_defaultOrder": 41,
    "_isFastLaunch": false,
    "category": "Memory Optimized",
    "gpuNum": 0,
    "hideHardwareSpecs": false,
    "memoryGiB": 64,
    "name": "ml.r5.2xlarge",
    "vcpuNum": 8
   },
   {
    "_defaultOrder": 42,
    "_isFastLaunch": false,
    "category": "Memory Optimized",
    "gpuNum": 0,
    "hideHardwareSpecs": false,
    "memoryGiB": 128,
    "name": "ml.r5.4xlarge",
    "vcpuNum": 16
   },
   {
    "_defaultOrder": 43,
    "_isFastLaunch": false,
    "category": "Memory Optimized",
    "gpuNum": 0,
    "hideHardwareSpecs": false,
    "memoryGiB": 256,
    "name": "ml.r5.8xlarge",
    "vcpuNum": 32
   },
   {
    "_defaultOrder": 44,
    "_isFastLaunch": false,
    "category": "Memory Optimized",
    "gpuNum": 0,
    "hideHardwareSpecs": false,
    "memoryGiB": 384,
    "name": "ml.r5.12xlarge",
    "vcpuNum": 48
   },
   {
    "_defaultOrder": 45,
    "_isFastLaunch": false,
    "category": "Memory Optimized",
    "gpuNum": 0,
    "hideHardwareSpecs": false,
    "memoryGiB": 512,
    "name": "ml.r5.16xlarge",
    "vcpuNum": 64
   },
   {
    "_defaultOrder": 46,
    "_isFastLaunch": false,
    "category": "Memory Optimized",
    "gpuNum": 0,
    "hideHardwareSpecs": false,
    "memoryGiB": 768,
    "name": "ml.r5.24xlarge",
    "vcpuNum": 96
   },
   {
    "_defaultOrder": 47,
    "_isFastLaunch": false,
    "category": "Accelerated computing",
    "gpuNum": 1,
    "hideHardwareSpecs": false,
    "memoryGiB": 16,
    "name": "ml.g5.xlarge",
    "vcpuNum": 4
   },
   {
    "_defaultOrder": 48,
    "_isFastLaunch": false,
    "category": "Accelerated computing",
    "gpuNum": 1,
    "hideHardwareSpecs": false,
    "memoryGiB": 32,
    "name": "ml.g5.2xlarge",
    "vcpuNum": 8
   },
   {
    "_defaultOrder": 49,
    "_isFastLaunch": false,
    "category": "Accelerated computing",
    "gpuNum": 1,
    "hideHardwareSpecs": false,
    "memoryGiB": 64,
    "name": "ml.g5.4xlarge",
    "vcpuNum": 16
   },
   {
    "_defaultOrder": 50,
    "_isFastLaunch": false,
    "category": "Accelerated computing",
    "gpuNum": 1,
    "hideHardwareSpecs": false,
    "memoryGiB": 128,
    "name": "ml.g5.8xlarge",
    "vcpuNum": 32
   },
   {
    "_defaultOrder": 51,
    "_isFastLaunch": false,
    "category": "Accelerated computing",
    "gpuNum": 1,
    "hideHardwareSpecs": false,
    "memoryGiB": 256,
    "name": "ml.g5.16xlarge",
    "vcpuNum": 64
   },
   {
    "_defaultOrder": 52,
    "_isFastLaunch": false,
    "category": "Accelerated computing",
    "gpuNum": 4,
    "hideHardwareSpecs": false,
    "memoryGiB": 192,
    "name": "ml.g5.12xlarge",
    "vcpuNum": 48
   },
   {
    "_defaultOrder": 53,
    "_isFastLaunch": false,
    "category": "Accelerated computing",
    "gpuNum": 4,
    "hideHardwareSpecs": false,
    "memoryGiB": 384,
    "name": "ml.g5.24xlarge",
    "vcpuNum": 96
   },
   {
    "_defaultOrder": 54,
    "_isFastLaunch": false,
    "category": "Accelerated computing",
    "gpuNum": 8,
    "hideHardwareSpecs": false,
    "memoryGiB": 768,
    "name": "ml.g5.48xlarge",
    "vcpuNum": 192
   },
   {
    "_defaultOrder": 55,
    "_isFastLaunch": false,
    "category": "Accelerated computing",
    "gpuNum": 8,
    "hideHardwareSpecs": false,
    "memoryGiB": 1152,
    "name": "ml.p4d.24xlarge",
    "vcpuNum": 96
   },
   {
    "_defaultOrder": 56,
    "_isFastLaunch": false,
    "category": "Accelerated computing",
    "gpuNum": 8,
    "hideHardwareSpecs": false,
    "memoryGiB": 1152,
    "name": "ml.p4de.24xlarge",
    "vcpuNum": 96
   },
   {
    "_defaultOrder": 57,
    "_isFastLaunch": false,
    "category": "Accelerated computing",
    "gpuNum": 0,
    "hideHardwareSpecs": false,
    "memoryGiB": 32,
    "name": "ml.trn1.2xlarge",
    "vcpuNum": 8
   },
   {
    "_defaultOrder": 58,
    "_isFastLaunch": false,
    "category": "Accelerated computing",
    "gpuNum": 0,
    "hideHardwareSpecs": false,
    "memoryGiB": 512,
    "name": "ml.trn1.32xlarge",
    "vcpuNum": 128
   },
   {
    "_defaultOrder": 59,
    "_isFastLaunch": false,
    "category": "Accelerated computing",
    "gpuNum": 0,
    "hideHardwareSpecs": false,
    "memoryGiB": 512,
    "name": "ml.trn1n.32xlarge",
    "vcpuNum": 128
   }
  ],
  "colab": {
   "provenance": []
  },
  "instance_type": "ml.t3.medium",
  "kernelspec": {
   "display_name": "Python 3 (ipykernel)",
   "language": "python",
   "name": "python3"
  },
  "language_info": {
   "codemirror_mode": {
    "name": "ipython",
    "version": 3
   },
   "file_extension": ".py",
   "mimetype": "text/x-python",
   "name": "python",
   "nbconvert_exporter": "python",
   "pygments_lexer": "ipython3",
   "version": "3.11.11"
  }
 },
 "nbformat": 4,
 "nbformat_minor": 5
}
