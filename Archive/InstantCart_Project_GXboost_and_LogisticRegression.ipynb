{
  "cells": [
    {
      "cell_type": "markdown",
      "metadata": {
        "id": "view-in-github",
        "colab_type": "text"
      },
      "source": [
        "<a href=\"https://colab.research.google.com/github/J-Lehrer/aai_540_group_2_final_project/blob/main/InstantCart_Project_GXboost_and_LogisticRegression.ipynb\" target=\"_parent\"><img src=\"https://colab.research.google.com/assets/colab-badge.svg\" alt=\"Open In Colab\"/></a>"
      ]
    },
    {
      "cell_type": "markdown",
      "id": "fce9f3fa-6762-4b46-9dc4-399051bb300f",
      "metadata": {
        "id": "fce9f3fa-6762-4b46-9dc4-399051bb300f",
        "jp-MarkdownHeadingCollapsed": true,
        "tags": []
      },
      "source": [
        "# Installing necessary libraries"
      ]
    },
    {
      "cell_type": "code",
      "execution_count": null,
      "id": "d6c5153b-b092-4ff2-a52e-b3fcff4d9745",
      "metadata": {
        "id": "d6c5153b-b092-4ff2-a52e-b3fcff4d9745",
        "outputId": "34021161-a3d4-41ac-87d1-d051114f23f4",
        "tags": []
      },
      "outputs": [
        {
          "name": "stdout",
          "output_type": "stream",
          "text": [
            "Requirement already satisfied: pyathena in /opt/conda/lib/python3.11/site-packages (3.12.2)\n",
            "Requirement already satisfied: boto3>=1.26.4 in /opt/conda/lib/python3.11/site-packages (from pyathena) (1.34.131)\n",
            "Requirement already satisfied: botocore>=1.29.4 in /opt/conda/lib/python3.11/site-packages (from pyathena) (1.36.3)\n",
            "Requirement already satisfied: fsspec in /opt/conda/lib/python3.11/site-packages (from pyathena) (2025.2.0)\n",
            "Requirement already satisfied: python-dateutil in /opt/conda/lib/python3.11/site-packages (from pyathena) (2.9.0)\n",
            "Requirement already satisfied: tenacity>=4.1.0 in /opt/conda/lib/python3.11/site-packages (from pyathena) (8.4.1)\n",
            "Collecting botocore>=1.29.4 (from pyathena)\n",
            "  Using cached botocore-1.34.162-py3-none-any.whl.metadata (5.7 kB)\n",
            "Requirement already satisfied: jmespath<2.0.0,>=0.7.1 in /opt/conda/lib/python3.11/site-packages (from boto3>=1.26.4->pyathena) (1.0.1)\n",
            "Requirement already satisfied: s3transfer<0.11.0,>=0.10.0 in /opt/conda/lib/python3.11/site-packages (from boto3>=1.26.4->pyathena) (0.10.1)\n",
            "Requirement already satisfied: urllib3!=2.2.0,<3,>=1.25.4 in /opt/conda/lib/python3.11/site-packages (from botocore>=1.29.4->pyathena) (2.1.0)\n",
            "Requirement already satisfied: six>=1.5 in /opt/conda/lib/python3.11/site-packages (from python-dateutil->pyathena) (1.16.0)\n",
            "Using cached botocore-1.34.162-py3-none-any.whl (12.5 MB)\n",
            "Installing collected packages: botocore\n",
            "  Attempting uninstall: botocore\n",
            "    Found existing installation: botocore 1.36.3\n",
            "    Uninstalling botocore-1.36.3:\n",
            "      Successfully uninstalled botocore-1.36.3\n",
            "\u001b[31mERROR: pip's dependency resolver does not currently take into account all the packages that are installed. This behaviour is the source of the following dependency conflicts.\n",
            "awscli 1.33.13 requires botocore==1.34.131, but you have botocore 1.34.162 which is incompatible.\n",
            "aiobotocore 2.19.0 requires botocore<1.36.4,>=1.36.0, but you have botocore 1.34.162 which is incompatible.\u001b[0m\u001b[31m\n",
            "\u001b[0mSuccessfully installed botocore-1.34.162\n",
            "\u001b[33mWARNING: Running pip as the 'root' user can result in broken permissions and conflicting behaviour with the system package manager. It is recommended to use a virtual environment instead: https://pip.pypa.io/warnings/venv\u001b[0m\u001b[33m\n",
            "\u001b[0m"
          ]
        }
      ],
      "source": [
        "! pip install pyathena"
      ]
    },
    {
      "cell_type": "code",
      "execution_count": null,
      "id": "cfd00c1e-8288-4ccd-ac63-cc4f7ca7256b",
      "metadata": {
        "id": "cfd00c1e-8288-4ccd-ac63-cc4f7ca7256b",
        "outputId": "0d724940-547b-4b6e-bcc6-daecb95ea73c",
        "tags": []
      },
      "outputs": [
        {
          "name": "stdout",
          "output_type": "stream",
          "text": [
            "Requirement already satisfied: awswrangler in /opt/conda/lib/python3.11/site-packages (3.11.0)\n",
            "Requirement already satisfied: boto3<2.0.0,>=1.20.32 in /opt/conda/lib/python3.11/site-packages (from awswrangler) (1.34.131)\n",
            "Requirement already satisfied: botocore<2.0.0,>=1.23.32 in /opt/conda/lib/python3.11/site-packages (from awswrangler) (1.34.162)\n",
            "Requirement already satisfied: numpy<3.0,>=1.26 in /opt/conda/lib/python3.11/site-packages (from awswrangler) (1.26.4)\n",
            "Requirement already satisfied: packaging<25.0,>=21.1 in /opt/conda/lib/python3.11/site-packages (from awswrangler) (23.2)\n",
            "Requirement already satisfied: pandas<3.0.0,>=1.2.0 in /opt/conda/lib/python3.11/site-packages (from awswrangler) (2.2.2)\n",
            "Requirement already satisfied: pyarrow<19.0.0,>=8.0.0 in /opt/conda/lib/python3.11/site-packages (from awswrangler) (16.1.0)\n",
            "Requirement already satisfied: typing-extensions<5.0.0,>=4.4.0 in /opt/conda/lib/python3.11/site-packages (from awswrangler) (4.12.2)\n",
            "Requirement already satisfied: jmespath<2.0.0,>=0.7.1 in /opt/conda/lib/python3.11/site-packages (from boto3<2.0.0,>=1.20.32->awswrangler) (1.0.1)\n",
            "Requirement already satisfied: s3transfer<0.11.0,>=0.10.0 in /opt/conda/lib/python3.11/site-packages (from boto3<2.0.0,>=1.20.32->awswrangler) (0.10.1)\n",
            "Requirement already satisfied: python-dateutil<3.0.0,>=2.1 in /opt/conda/lib/python3.11/site-packages (from botocore<2.0.0,>=1.23.32->awswrangler) (2.9.0)\n",
            "Requirement already satisfied: urllib3!=2.2.0,<3,>=1.25.4 in /opt/conda/lib/python3.11/site-packages (from botocore<2.0.0,>=1.23.32->awswrangler) (2.1.0)\n",
            "Requirement already satisfied: pytz>=2020.1 in /opt/conda/lib/python3.11/site-packages (from pandas<3.0.0,>=1.2.0->awswrangler) (2024.1)\n",
            "Requirement already satisfied: tzdata>=2022.7 in /opt/conda/lib/python3.11/site-packages (from pandas<3.0.0,>=1.2.0->awswrangler) (2024.1)\n",
            "Requirement already satisfied: six>=1.5 in /opt/conda/lib/python3.11/site-packages (from python-dateutil<3.0.0,>=2.1->botocore<2.0.0,>=1.23.32->awswrangler) (1.16.0)\n",
            "\u001b[33mWARNING: Running pip as the 'root' user can result in broken permissions and conflicting behaviour with the system package manager. It is recommended to use a virtual environment instead: https://pip.pypa.io/warnings/venv\u001b[0m\u001b[33m\n",
            "\u001b[0m"
          ]
        }
      ],
      "source": [
        "!pip install awswrangler"
      ]
    },
    {
      "cell_type": "code",
      "execution_count": null,
      "id": "ba8c93e9-570b-4497-97a5-e5eb2dc57408",
      "metadata": {
        "id": "ba8c93e9-570b-4497-97a5-e5eb2dc57408",
        "outputId": "78940998-5f6b-40f1-b48a-05d4e564b70d",
        "tags": []
      },
      "outputs": [
        {
          "name": "stdout",
          "output_type": "stream",
          "text": [
            "Requirement already satisfied: seaborn in /opt/conda/lib/python3.11/site-packages (0.13.2)\n",
            "Requirement already satisfied: numpy!=1.24.0,>=1.20 in /opt/conda/lib/python3.11/site-packages (from seaborn) (1.26.4)\n",
            "Requirement already satisfied: pandas>=1.2 in /opt/conda/lib/python3.11/site-packages (from seaborn) (2.2.2)\n",
            "Requirement already satisfied: matplotlib!=3.6.1,>=3.4 in /opt/conda/lib/python3.11/site-packages (from seaborn) (3.8.4)\n",
            "Requirement already satisfied: contourpy>=1.0.1 in /opt/conda/lib/python3.11/site-packages (from matplotlib!=3.6.1,>=3.4->seaborn) (1.2.1)\n",
            "Requirement already satisfied: cycler>=0.10 in /opt/conda/lib/python3.11/site-packages (from matplotlib!=3.6.1,>=3.4->seaborn) (0.12.1)\n",
            "Requirement already satisfied: fonttools>=4.22.0 in /opt/conda/lib/python3.11/site-packages (from matplotlib!=3.6.1,>=3.4->seaborn) (4.53.0)\n",
            "Requirement already satisfied: kiwisolver>=1.3.1 in /opt/conda/lib/python3.11/site-packages (from matplotlib!=3.6.1,>=3.4->seaborn) (1.4.5)\n",
            "Requirement already satisfied: packaging>=20.0 in /opt/conda/lib/python3.11/site-packages (from matplotlib!=3.6.1,>=3.4->seaborn) (23.2)\n",
            "Requirement already satisfied: pillow>=8 in /opt/conda/lib/python3.11/site-packages (from matplotlib!=3.6.1,>=3.4->seaborn) (10.3.0)\n",
            "Requirement already satisfied: pyparsing>=2.3.1 in /opt/conda/lib/python3.11/site-packages (from matplotlib!=3.6.1,>=3.4->seaborn) (3.1.2)\n",
            "Requirement already satisfied: python-dateutil>=2.7 in /opt/conda/lib/python3.11/site-packages (from matplotlib!=3.6.1,>=3.4->seaborn) (2.9.0)\n",
            "Requirement already satisfied: pytz>=2020.1 in /opt/conda/lib/python3.11/site-packages (from pandas>=1.2->seaborn) (2024.1)\n",
            "Requirement already satisfied: tzdata>=2022.7 in /opt/conda/lib/python3.11/site-packages (from pandas>=1.2->seaborn) (2024.1)\n",
            "Requirement already satisfied: six>=1.5 in /opt/conda/lib/python3.11/site-packages (from python-dateutil>=2.7->matplotlib!=3.6.1,>=3.4->seaborn) (1.16.0)\n",
            "\u001b[33mWARNING: Running pip as the 'root' user can result in broken permissions and conflicting behaviour with the system package manager. It is recommended to use a virtual environment instead: https://pip.pypa.io/warnings/venv\u001b[0m\u001b[33m\n",
            "\u001b[0m"
          ]
        }
      ],
      "source": [
        "!pip install seaborn"
      ]
    },
    {
      "cell_type": "code",
      "execution_count": null,
      "id": "725c262c-5004-4bfd-8ae2-83ef834b2413",
      "metadata": {
        "tags": [],
        "id": "725c262c-5004-4bfd-8ae2-83ef834b2413",
        "outputId": "37dbec0c-79ad-4cd4-ca2b-0c7847ea5944"
      },
      "outputs": [
        {
          "name": "stdout",
          "output_type": "stream",
          "text": [
            "Requirement already satisfied: s3fs in /opt/conda/lib/python3.11/site-packages (2025.2.0)\n",
            "Requirement already satisfied: aiobotocore in /opt/conda/lib/python3.11/site-packages (2.19.0)\n",
            "Requirement already satisfied: botocore in /opt/conda/lib/python3.11/site-packages (1.34.162)\n",
            "Collecting botocore\n",
            "  Using cached botocore-1.36.16-py3-none-any.whl.metadata (5.7 kB)\n",
            "Requirement already satisfied: fsspec==2025.2.0.* in /opt/conda/lib/python3.11/site-packages (from s3fs) (2025.2.0)\n",
            "Requirement already satisfied: aiohttp!=4.0.0a0,!=4.0.0a1 in /opt/conda/lib/python3.11/site-packages (from s3fs) (3.11.12)\n",
            "Requirement already satisfied: aioitertools<1.0.0,>=0.5.1 in /opt/conda/lib/python3.11/site-packages (from aiobotocore) (0.12.0)\n",
            "  Using cached botocore-1.36.3-py3-none-any.whl.metadata (5.7 kB)\n",
            "Requirement already satisfied: python-dateutil<3.0.0,>=2.1 in /opt/conda/lib/python3.11/site-packages (from aiobotocore) (2.9.0)\n",
            "Requirement already satisfied: jmespath<2.0.0,>=0.7.1 in /opt/conda/lib/python3.11/site-packages (from aiobotocore) (1.0.1)\n",
            "Requirement already satisfied: multidict<7.0.0,>=6.0.0 in /opt/conda/lib/python3.11/site-packages (from aiobotocore) (6.1.0)\n",
            "Requirement already satisfied: urllib3!=2.2.0,<3,>=1.25.4 in /opt/conda/lib/python3.11/site-packages (from aiobotocore) (2.1.0)\n",
            "Requirement already satisfied: wrapt<2.0.0,>=1.10.10 in /opt/conda/lib/python3.11/site-packages (from aiobotocore) (1.17.2)\n",
            "Requirement already satisfied: aiohappyeyeballs>=2.3.0 in /opt/conda/lib/python3.11/site-packages (from aiohttp!=4.0.0a0,!=4.0.0a1->s3fs) (2.4.6)\n",
            "Requirement already satisfied: aiosignal>=1.1.2 in /opt/conda/lib/python3.11/site-packages (from aiohttp!=4.0.0a0,!=4.0.0a1->s3fs) (1.3.2)\n",
            "Requirement already satisfied: attrs>=17.3.0 in /opt/conda/lib/python3.11/site-packages (from aiohttp!=4.0.0a0,!=4.0.0a1->s3fs) (23.2.0)\n",
            "Requirement already satisfied: frozenlist>=1.1.1 in /opt/conda/lib/python3.11/site-packages (from aiohttp!=4.0.0a0,!=4.0.0a1->s3fs) (1.5.0)\n",
            "Requirement already satisfied: propcache>=0.2.0 in /opt/conda/lib/python3.11/site-packages (from aiohttp!=4.0.0a0,!=4.0.0a1->s3fs) (0.2.1)\n",
            "Requirement already satisfied: yarl<2.0,>=1.17.0 in /opt/conda/lib/python3.11/site-packages (from aiohttp!=4.0.0a0,!=4.0.0a1->s3fs) (1.18.3)\n",
            "Requirement already satisfied: six>=1.5 in /opt/conda/lib/python3.11/site-packages (from python-dateutil<3.0.0,>=2.1->aiobotocore) (1.16.0)\n",
            "Requirement already satisfied: idna>=2.0 in /opt/conda/lib/python3.11/site-packages (from yarl<2.0,>=1.17.0->aiohttp!=4.0.0a0,!=4.0.0a1->s3fs) (3.7)\n",
            "Using cached botocore-1.36.3-py3-none-any.whl (13.3 MB)\n",
            "Installing collected packages: botocore\n",
            "  Attempting uninstall: botocore\n",
            "    Found existing installation: botocore 1.34.162\n",
            "    Uninstalling botocore-1.34.162:\n",
            "      Successfully uninstalled botocore-1.34.162\n",
            "\u001b[31mERROR: pip's dependency resolver does not currently take into account all the packages that are installed. This behaviour is the source of the following dependency conflicts.\n",
            "awscli 1.33.13 requires botocore==1.34.131, but you have botocore 1.36.3 which is incompatible.\n",
            "boto3 1.34.131 requires botocore<1.35.0,>=1.34.131, but you have botocore 1.36.3 which is incompatible.\u001b[0m\u001b[31m\n",
            "\u001b[0mSuccessfully installed botocore-1.36.3\n",
            "\u001b[33mWARNING: Running pip as the 'root' user can result in broken permissions and conflicting behaviour with the system package manager. It is recommended to use a virtual environment instead: https://pip.pypa.io/warnings/venv\u001b[0m\u001b[33m\n",
            "\u001b[0m"
          ]
        }
      ],
      "source": [
        "!pip install --upgrade s3fs aiobotocore botocore\n",
        "\n"
      ]
    },
    {
      "cell_type": "code",
      "execution_count": null,
      "id": "3c9d026d-20e2-498a-b926-43cd1e0828f6",
      "metadata": {
        "tags": [],
        "id": "3c9d026d-20e2-498a-b926-43cd1e0828f6",
        "outputId": "e05cda84-524e-424c-da9e-9c17420c4d44"
      },
      "outputs": [
        {
          "name": "stdout",
          "output_type": "stream",
          "text": [
            "s3fs version: 2025.2.0\n",
            "botocore version: 1.36.3\n"
          ]
        }
      ],
      "source": [
        "import s3fs\n",
        "import botocore\n",
        "\n",
        "print(f\"s3fs version: {s3fs.__version__}\")\n",
        "print(f\"botocore version: {botocore.__version__}\")\n"
      ]
    },
    {
      "cell_type": "markdown",
      "id": "a089055f-c4f8-4c14-9a78-a250e664e3ed",
      "metadata": {
        "id": "a089055f-c4f8-4c14-9a78-a250e664e3ed"
      },
      "source": [
        "## Importing necessary libraries"
      ]
    },
    {
      "cell_type": "code",
      "execution_count": null,
      "id": "23a21976-431a-4ae6-91f4-0dcbefc3177b",
      "metadata": {
        "id": "23a21976-431a-4ae6-91f4-0dcbefc3177b",
        "tags": []
      },
      "outputs": [],
      "source": [
        "from pyathena import connect"
      ]
    },
    {
      "cell_type": "code",
      "execution_count": null,
      "id": "151b2d57-48de-4632-ae57-2959490ce6bb",
      "metadata": {
        "id": "151b2d57-48de-4632-ae57-2959490ce6bb",
        "tags": []
      },
      "outputs": [],
      "source": [
        "import awswrangler as wr\n",
        "import pandas as pd\n"
      ]
    },
    {
      "cell_type": "code",
      "execution_count": null,
      "id": "52dbf3bc-6fed-4244-8230-c048063e36c0",
      "metadata": {
        "id": "52dbf3bc-6fed-4244-8230-c048063e36c0",
        "tags": []
      },
      "outputs": [],
      "source": [
        "import matplotlib.pyplot as plt\n",
        "import seaborn as sns\n",
        "from sklearn.model_selection import train_test_split\n"
      ]
    },
    {
      "cell_type": "markdown",
      "id": "02fb67a7-fe7a-4b7e-9a73-313ba0697642",
      "metadata": {
        "id": "02fb67a7-fe7a-4b7e-9a73-313ba0697642",
        "jp-MarkdownHeadingCollapsed": true,
        "tags": []
      },
      "source": [
        "# Converting InstantCart CSV dataset into Parquet"
      ]
    },
    {
      "cell_type": "code",
      "execution_count": null,
      "id": "0baa781f-43f5-4b39-b6e5-f1b54a856b2a",
      "metadata": {
        "tags": [],
        "id": "0baa781f-43f5-4b39-b6e5-f1b54a856b2a"
      },
      "outputs": [],
      "source": [
        "csv_path = \"s3://sagemaker-us-east-1-921916832724/data-lake/Project/filtered_frequent_buyers_v1.csv\"\n",
        "df = pd.read_csv(csv_path)\n",
        "# Loading CSV from S3\n",
        "\n",
        "train_df, remaining_df = train_test_split(df, train_size=0.4, random_state=42)\n",
        "\n",
        "# Split the remaining data into production and temp datasets (66% production, 33% temp)\n",
        "production_df, temp_df = train_test_split(remaining_df, train_size=0.666666, random_state=42)\n",
        "\n",
        "# Split the temp data into test and validation datasets (50% test, 50% validation)\n",
        "test_df, validation_df = train_test_split(temp_df, train_size=0.5, random_state=42)"
      ]
    },
    {
      "cell_type": "code",
      "execution_count": null,
      "id": "a5dd9fb1-94b0-40ed-97f1-d54d0af7f77f",
      "metadata": {
        "id": "a5dd9fb1-94b0-40ed-97f1-d54d0af7f77f",
        "outputId": "5ca7eb3c-3488-4ca7-e64b-675ba7a058e7",
        "tags": []
      },
      "outputs": [
        {
          "data": {
            "text/plain": [
              "{'paths': ['s3://sagemaker-us-east-1-921916832724/data-lake/Project/partitioned_split/validation/department=bakery/d4c662bd11ec4e36a6d97eba6ff50b1a.snappy.parquet',\n",
              "  's3://sagemaker-us-east-1-921916832724/data-lake/Project/partitioned_split/validation/department=beverages/d4c662bd11ec4e36a6d97eba6ff50b1a.snappy.parquet',\n",
              "  's3://sagemaker-us-east-1-921916832724/data-lake/Project/partitioned_split/validation/department=canned goods/d4c662bd11ec4e36a6d97eba6ff50b1a.snappy.parquet',\n",
              "  's3://sagemaker-us-east-1-921916832724/data-lake/Project/partitioned_split/validation/department=dairy eggs/d4c662bd11ec4e36a6d97eba6ff50b1a.snappy.parquet',\n",
              "  's3://sagemaker-us-east-1-921916832724/data-lake/Project/partitioned_split/validation/department=deli/d4c662bd11ec4e36a6d97eba6ff50b1a.snappy.parquet',\n",
              "  's3://sagemaker-us-east-1-921916832724/data-lake/Project/partitioned_split/validation/department=dry goods pasta/d4c662bd11ec4e36a6d97eba6ff50b1a.snappy.parquet',\n",
              "  's3://sagemaker-us-east-1-921916832724/data-lake/Project/partitioned_split/validation/department=frozen/d4c662bd11ec4e36a6d97eba6ff50b1a.snappy.parquet',\n",
              "  's3://sagemaker-us-east-1-921916832724/data-lake/Project/partitioned_split/validation/department=pantry/d4c662bd11ec4e36a6d97eba6ff50b1a.snappy.parquet',\n",
              "  's3://sagemaker-us-east-1-921916832724/data-lake/Project/partitioned_split/validation/department=produce/d4c662bd11ec4e36a6d97eba6ff50b1a.snappy.parquet',\n",
              "  's3://sagemaker-us-east-1-921916832724/data-lake/Project/partitioned_split/validation/department=snacks/d4c662bd11ec4e36a6d97eba6ff50b1a.snappy.parquet'],\n",
              " 'partitions_values': {'s3://sagemaker-us-east-1-921916832724/data-lake/Project/partitioned_split/validation/department=bakery/': ['bakery'],\n",
              "  's3://sagemaker-us-east-1-921916832724/data-lake/Project/partitioned_split/validation/department=beverages/': ['beverages'],\n",
              "  's3://sagemaker-us-east-1-921916832724/data-lake/Project/partitioned_split/validation/department=canned goods/': ['canned goods'],\n",
              "  's3://sagemaker-us-east-1-921916832724/data-lake/Project/partitioned_split/validation/department=dairy eggs/': ['dairy eggs'],\n",
              "  's3://sagemaker-us-east-1-921916832724/data-lake/Project/partitioned_split/validation/department=deli/': ['deli'],\n",
              "  's3://sagemaker-us-east-1-921916832724/data-lake/Project/partitioned_split/validation/department=dry goods pasta/': ['dry goods pasta'],\n",
              "  's3://sagemaker-us-east-1-921916832724/data-lake/Project/partitioned_split/validation/department=frozen/': ['frozen'],\n",
              "  's3://sagemaker-us-east-1-921916832724/data-lake/Project/partitioned_split/validation/department=pantry/': ['pantry'],\n",
              "  's3://sagemaker-us-east-1-921916832724/data-lake/Project/partitioned_split/validation/department=produce/': ['produce'],\n",
              "  's3://sagemaker-us-east-1-921916832724/data-lake/Project/partitioned_split/validation/department=snacks/': ['snacks']}}"
            ]
          },
          "execution_count": 7,
          "metadata": {},
          "output_type": "execute_result"
        }
      ],
      "source": [
        "# Defining S3 paths\n",
        "parquet_output_path = \"s3://sagemaker-us-east-1-921916832724/data-lake/Project/partitioned_split/\"\n",
        "\n",
        "\n",
        "# Save each split dataset to Parquet with partitioning by 'department'\n",
        "wr.s3.to_parquet(\n",
        "    df=train_df,\n",
        "    path=parquet_output_path + \"train/\",\n",
        "    dataset=True,\n",
        "    mode=\"overwrite\",\n",
        "    partition_cols=[\"department\"],\n",
        "    compression=\"snappy\"\n",
        ")\n",
        "\n",
        "wr.s3.to_parquet(\n",
        "    df=production_df,\n",
        "    path=parquet_output_path + \"production/\",\n",
        "    dataset=True,\n",
        "    mode=\"overwrite\",\n",
        "    partition_cols=[\"department\"],\n",
        "    compression=\"snappy\"\n",
        ")\n",
        "\n",
        "wr.s3.to_parquet(\n",
        "    df=test_df,\n",
        "    path=parquet_output_path + \"test/\",\n",
        "    dataset=True,\n",
        "    mode=\"overwrite\",\n",
        "    partition_cols=[\"department\"],\n",
        "    compression=\"snappy\"\n",
        ")\n",
        "\n",
        "wr.s3.to_parquet(\n",
        "    df=validation_df,\n",
        "    path=parquet_output_path + \"validation/\",\n",
        "    dataset=True,\n",
        "    mode=\"overwrite\",\n",
        "    partition_cols=[\"department\"],\n",
        "    compression=\"snappy\"\n",
        ")\n",
        "\n",
        "\n"
      ]
    },
    {
      "cell_type": "code",
      "execution_count": null,
      "id": "e3f21dad-a19a-4ae1-9837-309c03a512e8",
      "metadata": {
        "tags": [],
        "id": "e3f21dad-a19a-4ae1-9837-309c03a512e8",
        "outputId": "afc3fcb6-e896-4297-d022-f2db4496c7bc"
      },
      "outputs": [
        {
          "name": "stdout",
          "output_type": "stream",
          "text": [
            "Database 'instacart_db_split' created successfully!\n"
          ]
        }
      ],
      "source": [
        "# Create the database if it doesn't exist\n",
        "database_name = \"instacart_db_split\"\n",
        "try:\n",
        "    # Create the database in AWS Glue\n",
        "    wr.catalog.create_database(name=database_name)\n",
        "    print(f\"Database '{database_name}' created successfully!\")\n",
        "except Exception as e:\n",
        "    print(f\"Error creating database: {e}\")"
      ]
    },
    {
      "cell_type": "code",
      "execution_count": null,
      "id": "8388c247-6de3-430a-8bc2-db52b7939466",
      "metadata": {
        "tags": [],
        "id": "8388c247-6de3-430a-8bc2-db52b7939466",
        "outputId": "408ccad7-dd42-4884-9e60-697b1ec08677"
      },
      "outputs": [
        {
          "name": "stdout",
          "output_type": "stream",
          "text": [
            "Partitioned Parquet table registered in AWS Glue successfully.\n"
          ]
        }
      ],
      "source": [
        "# Register the Parquet tables in AWS Glue\n",
        "table_name = \"instacart_orders\"\n",
        "\n",
        "wr.catalog.create_parquet_table(\n",
        "    database=database_name,\n",
        "    table=table_name,\n",
        "    path=parquet_output_path + \"train/\",\n",
        "    columns_types={\n",
        "        \"order_id\": \"bigint\",\n",
        "        \"product_id\": \"bigint\",\n",
        "        \"add_to_cart_order\": \"int\",\n",
        "        \"reordered\": \"int\",\n",
        "        \"user_id\": \"bigint\",\n",
        "        \"product_name\": \"string\",\n",
        "        \"aisle_id\": \"int\",\n",
        "        \"department_id\": \"int\",\n",
        "        \"aisle\": \"string\",\n",
        "        \"department\": \"string\"\n",
        "    },\n",
        "    partitions_types={\"department\": \"string\"},\n",
        "    description=\"Partitioned Instacart orders dataset for optimized Athena queries.\"\n",
        ")\n",
        "\n",
        "print(\"Partitioned Parquet table registered in AWS Glue successfully.\")\n"
      ]
    },
    {
      "cell_type": "markdown",
      "id": "31f84aa7-e0a2-435c-a01a-ec42b64091fe",
      "metadata": {
        "id": "31f84aa7-e0a2-435c-a01a-ec42b64091fe",
        "jp-MarkdownHeadingCollapsed": true,
        "tags": []
      },
      "source": [
        "# Setting up Database for InstantCart"
      ]
    },
    {
      "cell_type": "code",
      "execution_count": null,
      "id": "4b7d4ecd-a14f-4500-a30d-6192f8dd178a",
      "metadata": {
        "id": "4b7d4ecd-a14f-4500-a30d-6192f8dd178a",
        "outputId": "8c34daea-ccc7-4456-a133-38fd8d0ff870",
        "tags": []
      },
      "outputs": [
        {
          "name": "stdout",
          "output_type": "stream",
          "text": [
            "Connected to Athena successfully.\n",
            "Database 'instacart_db_split' created successfully!\n",
            "Database 'instacart_db_split' exists!\n"
          ]
        }
      ],
      "source": [
        "from pyathena import connect\n",
        "\n",
        "# Defineing AWS Resources\n",
        "bucket_name = \"sagemaker-us-east-1-921916832724\"\n",
        "region = \"us-east-1\"\n",
        "database_name = \"instacart_db_split\"\n",
        "table_name = \"instacart_orders\"\n",
        "s3_data_location = f\"s3://{bucket_name}/data-lake/Project/partitioned_split/train/\"  # Using partitioned dataset\n",
        "\n",
        "# Defining Athena Staging Directory\n",
        "s3_staging_dir = f\"s3://{bucket_name}/athena/instacart_staging_split/\"\n",
        "\n",
        "# Creating Athena Connection\n",
        "try:\n",
        "    conn = connect(s3_staging_dir=s3_staging_dir, region_name=region)\n",
        "    cursor = conn.cursor()\n",
        "    print(\"Connected to Athena successfully.\")\n",
        "except Exception as e:\n",
        "    print(\"Error connecting to Athena:\", e)\n",
        "\n",
        "# Creating Database\n",
        "create_db_query = f\"CREATE DATABASE IF NOT EXISTS {database_name}\"\n",
        "cursor.execute(create_db_query)\n",
        "print(f\"Database '{database_name}' created successfully!\")\n",
        "\n",
        "# Verifying Database Creation\n",
        "cursor.execute(\"SHOW DATABASES\")\n",
        "databases = [row[0] for row in cursor.fetchall()]\n",
        "if database_name in databases:\n",
        "    print(f\"Database '{database_name}' exists!\")\n"
      ]
    },
    {
      "cell_type": "markdown",
      "id": "e697f17a-ef43-45dc-8c24-1f4b1f0d8ede",
      "metadata": {
        "id": "e697f17a-ef43-45dc-8c24-1f4b1f0d8ede",
        "jp-MarkdownHeadingCollapsed": true,
        "tags": []
      },
      "source": [
        "DROP TABLE instacart_db_split.instacart_orders;\n",
        "# Creating Athena database"
      ]
    },
    {
      "cell_type": "code",
      "execution_count": null,
      "id": "a5cea5dd-0097-4641-9732-da8e6885deb8",
      "metadata": {
        "tags": [],
        "id": "a5cea5dd-0097-4641-9732-da8e6885deb8",
        "outputId": "0e24cb50-fd82-41ee-fa21-8e6fc8f71149"
      },
      "outputs": [
        {
          "name": "stdout",
          "output_type": "stream",
          "text": [
            "Table 'instacart_orders' created successfully in database 'instacart_db_split'.\n"
          ]
        }
      ],
      "source": [
        "# Define the SQL query to create the table\n",
        "create_table_query = \"\"\"\n",
        "CREATE EXTERNAL TABLE IF NOT EXISTS instacart_db_split.instacart_orders (\n",
        "    order_id BIGINT,\n",
        "    product_id BIGINT,\n",
        "    add_to_cart_order INT,\n",
        "    reordered INT,\n",
        "    user_id BIGINT,\n",
        "    product_name STRING,\n",
        "    aisle_id INT,\n",
        "    department_id INT,\n",
        "    aisle STRING\n",
        ")\n",
        "PARTITIONED BY (department STRING)  -- Partitioned by department\n",
        "STORED AS PARQUET\n",
        "LOCATION 's3://sagemaker-us-east-1-921916832724/data-lake/Project/partitioned_split/train/'\n",
        "TBLPROPERTIES ('parquet.compression'='SNAPPY');\n",
        "\"\"\"\n",
        "\n",
        "# Execute the SQL query in Athena\n",
        "cursor.execute(create_table_query)\n",
        "print(\"Table 'instacart_orders' created successfully in database 'instacart_db_split'.\")\n",
        "\n"
      ]
    },
    {
      "cell_type": "code",
      "execution_count": null,
      "id": "bfae1798-26dc-4cff-bd45-296cf61280f2",
      "metadata": {
        "tags": [],
        "id": "bfae1798-26dc-4cff-bd45-296cf61280f2",
        "outputId": "f9103f9f-3b57-44f5-a94f-4427e6a6320e"
      },
      "outputs": [
        {
          "name": "stdout",
          "output_type": "stream",
          "text": [
            "Partitions updated successfully.\n"
          ]
        }
      ],
      "source": [
        "\n",
        "# Running MSCK REPAIR to Load Partitions\n",
        "cursor.execute(f\"MSCK REPAIR TABLE {database_name}.{table_name}\")\n",
        "print(\"Partitions updated successfully.\")"
      ]
    },
    {
      "cell_type": "code",
      "execution_count": null,
      "id": "e42f7e49-205d-42dd-a4be-1e376847f845",
      "metadata": {
        "id": "e42f7e49-205d-42dd-a4be-1e376847f845",
        "outputId": "ff7a0470-166d-402b-c646-2598944a948f",
        "tags": []
      },
      "outputs": [
        {
          "name": "stdout",
          "output_type": "stream",
          "text": [
            "Database 'instacart_db_split' exists in Athena!\n"
          ]
        }
      ],
      "source": [
        "cursor.execute(\"SHOW DATABASES\")\n",
        "databases = [row[0] for row in cursor.fetchall()]\n",
        "if database_name in databases:\n",
        "    print(f\"Database '{database_name}' exists in Athena!\")\n",
        "else:\n",
        "    print(f\"Database '{database_name}' does not exist.\")\n"
      ]
    },
    {
      "cell_type": "code",
      "execution_count": null,
      "id": "51461bba-8c7e-4d2e-8bbc-cc5b9062155e",
      "metadata": {
        "tags": [],
        "id": "51461bba-8c7e-4d2e-8bbc-cc5b9062155e",
        "outputId": "cab33c70-bd0c-4d25-d777-b0d875851623"
      },
      "outputs": [
        {
          "name": "stdout",
          "output_type": "stream",
          "text": [
            "data-lake/Project/partitioned_split/train/department=bakery/934698bd96d5445dbb1a737f5a354225.snappy.parquet\n",
            "data-lake/Project/partitioned_split/train/department=beverages/934698bd96d5445dbb1a737f5a354225.snappy.parquet\n",
            "data-lake/Project/partitioned_split/train/department=canned goods/934698bd96d5445dbb1a737f5a354225.snappy.parquet\n",
            "data-lake/Project/partitioned_split/train/department=dairy eggs/934698bd96d5445dbb1a737f5a354225.snappy.parquet\n",
            "data-lake/Project/partitioned_split/train/department=deli/934698bd96d5445dbb1a737f5a354225.snappy.parquet\n",
            "data-lake/Project/partitioned_split/train/department=dry goods pasta/934698bd96d5445dbb1a737f5a354225.snappy.parquet\n",
            "data-lake/Project/partitioned_split/train/department=frozen/934698bd96d5445dbb1a737f5a354225.snappy.parquet\n",
            "data-lake/Project/partitioned_split/train/department=pantry/934698bd96d5445dbb1a737f5a354225.snappy.parquet\n",
            "data-lake/Project/partitioned_split/train/department=produce/934698bd96d5445dbb1a737f5a354225.snappy.parquet\n",
            "data-lake/Project/partitioned_split/train/department=snacks/934698bd96d5445dbb1a737f5a354225.snappy.parquet\n"
          ]
        }
      ],
      "source": [
        "import boto3\n",
        "\n",
        "s3 = boto3.client('s3')\n",
        "response = s3.list_objects_v2(Bucket='sagemaker-us-east-1-921916832724', Prefix='data-lake/Project/partitioned_split/train/')\n",
        "for obj in response.get('Contents', []):\n",
        "    print(obj['Key'])\n"
      ]
    },
    {
      "cell_type": "code",
      "execution_count": null,
      "id": "9e052ae5-86d4-4488-aa92-f8dd34333bd6",
      "metadata": {
        "tags": [],
        "id": "9e052ae5-86d4-4488-aa92-f8dd34333bd6",
        "outputId": "671b11ad-2322-4489-837b-f24d66a0462f"
      },
      "outputs": [
        {
          "name": "stdout",
          "output_type": "stream",
          "text": [
            "Sample Query Results:\n",
            "(3035258,)\n"
          ]
        }
      ],
      "source": [
        "# Running a Sample Query to Verify Data\n",
        "test_query = f\"SELECT count(*) FROM {database_name}.{table_name} ;\"\n",
        "cursor.execute(test_query)\n",
        "rows = cursor.fetchall()\n",
        "\n",
        "print(\"Sample Query Results:\")\n",
        "for row in rows:\n",
        "    print(row)"
      ]
    },
    {
      "cell_type": "code",
      "execution_count": null,
      "id": "36014144-3e39-403a-9716-b6862c162278",
      "metadata": {
        "tags": [],
        "id": "36014144-3e39-403a-9716-b6862c162278",
        "outputId": "0a9f2e20-36e1-44fd-aef1-e71a4400d57f"
      },
      "outputs": [
        {
          "name": "stdout",
          "output_type": "stream",
          "text": [
            "Partitions found in table 'instacart_orders': [('department=produce',), ('department=dairy eggs',), ('department=snacks',), ('department=deli',), ('department=frozen',), ('department=pantry',), ('department=beverages',), ('department=canned goods',), ('department=bakery',), ('department=dry goods pasta',)]\n"
          ]
        }
      ],
      "source": [
        "cursor.execute(f\"SHOW PARTITIONS {database_name}.{table_name}\")\n",
        "partitions = cursor.fetchall()\n",
        "if partitions:\n",
        "    print(f\"Partitions found in table '{table_name}': {partitions}\")\n",
        "else:\n",
        "    print(f\"No partitions found in table '{table_name}'.\")\n"
      ]
    },
    {
      "cell_type": "markdown",
      "id": "ef01ab03-bf04-446e-ad32-eb06ec27bca0",
      "metadata": {
        "id": "ef01ab03-bf04-446e-ad32-eb06ec27bca0",
        "tags": []
      },
      "source": [
        "# Exploratory Data Analysis in the training set"
      ]
    },
    {
      "cell_type": "markdown",
      "id": "30baf4bf-c1a9-45c2-a68c-2ff8ef4b2416",
      "metadata": {
        "id": "30baf4bf-c1a9-45c2-a68c-2ff8ef4b2416"
      },
      "source": [
        "## Checking the Total Orders and Unique Users"
      ]
    },
    {
      "cell_type": "code",
      "execution_count": null,
      "id": "63fea81b-f3b0-4603-ad63-7392347c2f77",
      "metadata": {
        "id": "63fea81b-f3b0-4603-ad63-7392347c2f77",
        "outputId": "4f81f322-d10c-4954-9d59-9c0a89c7be54",
        "tags": []
      },
      "outputs": [
        {
          "name": "stdout",
          "output_type": "stream",
          "text": [
            "Total Orders & Unique Users:\n",
            "(552593, 11033)\n"
          ]
        }
      ],
      "source": [
        "\n",
        "# First Query: Total Orders & Unique Users\n",
        "query = f\"\"\"\n",
        "SELECT\n",
        "    COUNT(DISTINCT order_id) AS total_orders,\n",
        "    COUNT(DISTINCT user_id) AS unique_users\n",
        "FROM {database_name}.{table_name};\n",
        "\"\"\"\n",
        "\n",
        "# Executing query\n",
        "cursor.execute(query)\n",
        "rows = cursor.fetchall()\n",
        "\n",
        "# Printing results\n",
        "print(\"Total Orders & Unique Users:\")\n",
        "for row in rows:\n",
        "    print(row)\n"
      ]
    },
    {
      "cell_type": "markdown",
      "id": "071cd3ac-1828-46aa-a398-4586d857b8a1",
      "metadata": {
        "id": "071cd3ac-1828-46aa-a398-4586d857b8a1"
      },
      "source": [
        "## Top 10 Most Ordered Products\n"
      ]
    },
    {
      "cell_type": "code",
      "execution_count": null,
      "id": "95fd4715-2841-481a-93e6-f7ac5db0c01b",
      "metadata": {
        "id": "95fd4715-2841-481a-93e6-f7ac5db0c01b",
        "outputId": "2ea8664e-b9c9-4a91-bd20-3cbffc419529",
        "tags": []
      },
      "outputs": [
        {
          "name": "stdout",
          "output_type": "stream",
          "text": [
            "Top 10 Most Ordered Products:\n",
            "('Banana', 52073)\n",
            "('Bag of Organic Bananas', 46964)\n",
            "('Organic Strawberries', 39311)\n",
            "('Organic Hass Avocado', 31555)\n",
            "('Organic Baby Spinach', 29459)\n",
            "('Organic Raspberries', 21479)\n",
            "('Organic Avocado', 19582)\n",
            "('Organic Whole Milk', 19211)\n",
            "('Limes', 17136)\n",
            "('Large Lemon', 16719)\n"
          ]
        }
      ],
      "source": [
        "query = f\"\"\"\n",
        "SELECT product_name, COUNT(*) AS total_orders\n",
        "FROM {database_name}.{table_name}\n",
        "GROUP BY product_name\n",
        "ORDER BY total_orders DESC\n",
        "LIMIT 10;\n",
        "\"\"\"\n",
        "cursor.execute(query)\n",
        "rows = cursor.fetchall()\n",
        "print(\"Top 10 Most Ordered Products:\")\n",
        "for row in rows:\n",
        "    print(row)\n"
      ]
    },
    {
      "cell_type": "code",
      "execution_count": null,
      "id": "b4471052-14a6-4c52-a512-b9f5786cd506",
      "metadata": {
        "id": "b4471052-14a6-4c52-a512-b9f5786cd506",
        "outputId": "b494a801-795f-4ec2-f11f-1f3032bb9393",
        "tags": []
      },
      "outputs": [
        {
          "name": "stderr",
          "output_type": "stream",
          "text": [
            "/tmp/ipykernel_234/1557864825.py:15: FutureWarning: \n",
            "\n",
            "Passing `palette` without assigning `hue` is deprecated and will be removed in v0.14.0. Assign the `y` variable to `hue` and set `legend=False` for the same effect.\n",
            "\n",
            "  sns.barplot(x=\"Total Orders\", y=\"Product Name\", data=df_products, palette=\"viridis\")\n"
          ]
        },
        {
          "data": {
            "image/png": "[encoded data removed]",
            "text/plain": [
              "<Figure size 1200x600 with 1 Axes>"
            ]
          },
          "metadata": {},
          "output_type": "display_data"
        }
      ],
      "source": [
        "# ===========================\n",
        "#  Bar Chart: Top 10 Most Ordered Products\n",
        "# ===========================\n",
        "\n",
        "products = [\"Banana\", \"Bag of Organic Bananas\", \"Organic Strawberries\", \"Organic Hass Avocado\",\n",
        "            \"Organic Baby Spinach\", \"Organic Raspberries\", \"Organic Avocado\", \"Organic Whole Milk\",\n",
        "            \"Limes\", \"Large Lemon\"]\n",
        "total_orders = [52073, 46964, 39311, 31555, 29459, 21479, 19582, 19211, 17136, 16719]\n",
        "\n",
        "# Creating DataFrame\n",
        "df_products = pd.DataFrame({\"Product Name\": products, \"Total Orders\": total_orders})\n",
        "\n",
        "# Plotting Bar Chart\n",
        "plt.figure(figsize=(12, 6))\n",
        "sns.barplot(x=\"Total Orders\", y=\"Product Name\", data=df_products, palette=\"viridis\")\n",
        "plt.xlabel(\"Total Orders\")\n",
        "plt.ylabel(\"Product Name\")\n",
        "plt.title(\"Top 10 Most Ordered Products\")\n",
        "plt.show()\n"
      ]
    },
    {
      "cell_type": "markdown",
      "id": "8458ad80-ca5c-4908-9bf9-53bedfe0809a",
      "metadata": {
        "id": "8458ad80-ca5c-4908-9bf9-53bedfe0809a"
      },
      "source": [
        "### Insights\n",
        "\n",
        "- Bananas are the most ordered item with 52073 orders.\n",
        "- Organic produce is extremely popular. Where 7 out of 10 items are organic.\n",
        "- Dairy products like Whole Milk rank in the Top 10.\n",
        "- Cirtrus fruits like Limes and Lemons are in high demand."
      ]
    },
    {
      "cell_type": "markdown",
      "id": "f3c1007f-d878-4154-994f-1ae2467c364c",
      "metadata": {
        "id": "f3c1007f-d878-4154-994f-1ae2467c364c"
      },
      "source": [
        "## Reorder Rate per Product"
      ]
    },
    {
      "cell_type": "code",
      "execution_count": null,
      "id": "e7d9e50c-405e-46a0-8684-01b8eb5fb777",
      "metadata": {
        "id": "e7d9e50c-405e-46a0-8684-01b8eb5fb777",
        "outputId": "4d137e89-1bbb-4ec4-f830-e15272d8bb32",
        "tags": []
      },
      "outputs": [
        {
          "name": "stdout",
          "output_type": "stream",
          "text": [
            "Top 10 Products with Highest Reorder Rate:\n",
            "('Salted Sweet Cream Butter Quarters', 1, 1, 100.0)\n",
            "('Green Bananas', 3, 3, 100.0)\n",
            "('Premium Lots of Pulp Orange Juice', 6, 6, 100.0)\n",
            "('Sparkling Water, Bottles', 3, 3, 100.0)\n",
            "('100% Lactose Free Milk', 6, 6, 100.0)\n",
            "('Peru Sweet Onions', 2, 2, 100.0)\n",
            "('Smoked Whitefish Salad', 33, 33, 100.0)\n",
            "('Seltzer Water', 15, 15, 100.0)\n",
            "('Thirst Quencher Caffeine Free Naturally Flavored Citrus Soda', 28, 28, 100.0)\n",
            "('Classic Baby Creamers Potatoes', 7, 7, 100.0)\n"
          ]
        }
      ],
      "source": [
        "query = f\"\"\"\n",
        "SELECT\n",
        "    product_name,\n",
        "    COUNT(*) AS total_orders,\n",
        "    SUM(reordered) AS total_reorders,\n",
        "    ROUND(100.0 * SUM(reordered) / COUNT(*), 2) AS reorder_rate\n",
        "FROM {database_name}.{table_name}\n",
        "GROUP BY product_name\n",
        "ORDER BY reorder_rate DESC\n",
        "LIMIT 10;\n",
        "\"\"\"\n",
        "cursor.execute(query)\n",
        "rows = cursor.fetchall()\n",
        "print(\"Top 10 Products with Highest Reorder Rate:\")\n",
        "for row in rows:\n",
        "    print(row)\n"
      ]
    },
    {
      "cell_type": "markdown",
      "id": "faa2a01e-99cf-4274-b56f-0e32c1db0bde",
      "metadata": {
        "id": "faa2a01e-99cf-4274-b56f-0e32c1db0bde"
      },
      "source": [
        "### Insights for Top 10 Products with Highest Reorder Rate:\n",
        "\n",
        "- **100% Lactose-Free Milk** has a **100% reorder rate**, indicating it is a highly demanded product among lactose-intolerant customers who consistently reorder it.\n",
        "- **Salted Sweet Cream Butter Quarters**, **Sparkling Water Bottles**, and **Premium Lots of Pulp Orange Juice** also show a **100% reorder rate**, signifying that these are popular products with strong customer loyalty and recurring demand.\n",
        "- **Classic Baby Creamers Potatoes** and **Peru Sweet Onions** are products with **100% reorder rate**, pointing to their continued preference and high re-purchase frequency among customers.\n",
        "- **Thirst Quencher Caffeine-Free Naturally Flavored Citrus Soda** and **Smoked Whitefish Salad** reflect **100% reorder rates**, highlighting that these items are consistently chosen by customers who keep coming back for more.\n",
        "- **Seltzer Water** and **Green Bananas** demonstrate high reorder demand, each maintaining **100% reorder rate**, suggesting these are staple items that customers rely on regularly."
      ]
    },
    {
      "cell_type": "markdown",
      "id": "bb9bd2b1-66a6-44d0-a767-b0e049c2541c",
      "metadata": {
        "id": "bb9bd2b1-66a6-44d0-a767-b0e049c2541c"
      },
      "source": [
        "## Orders by Department"
      ]
    },
    {
      "cell_type": "code",
      "execution_count": null,
      "id": "098c076c-dde7-4c55-a0ae-b69e97506334",
      "metadata": {
        "id": "098c076c-dde7-4c55-a0ae-b69e97506334",
        "outputId": "6dbba839-6fab-43e3-998e-4cbc00208ca1",
        "tags": []
      },
      "outputs": [
        {
          "name": "stdout",
          "output_type": "stream",
          "text": [
            "Orders by Department:\n",
            "('produce', 1116850)\n",
            "('dairy eggs', 619999)\n",
            "('snacks', 294213)\n",
            "('beverages', 234613)\n",
            "('frozen', 201359)\n",
            "('pantry', 138924)\n",
            "('bakery', 127884)\n",
            "('deli', 114349)\n",
            "('canned goods', 102416)\n",
            "('dry goods pasta', 84651)\n"
          ]
        }
      ],
      "source": [
        "query = f\"\"\"\n",
        "SELECT department, COUNT(*) AS total_orders\n",
        "FROM {database_name}.{table_name}\n",
        "GROUP BY department\n",
        "ORDER BY total_orders DESC;\n",
        "\"\"\"\n",
        "cursor.execute(query)\n",
        "rows = cursor.fetchall()\n",
        "print(\"Orders by Department:\")\n",
        "for row in rows:\n",
        "    print(row)\n"
      ]
    },
    {
      "cell_type": "code",
      "execution_count": null,
      "id": "1ea43f60-4912-4e54-9d0f-c3e5c4ef420c",
      "metadata": {
        "id": "1ea43f60-4912-4e54-9d0f-c3e5c4ef420c",
        "outputId": "a1a957d0-7764-49f0-ddfa-80850ced4990",
        "tags": []
      },
      "outputs": [
        {
          "name": "stderr",
          "output_type": "stream",
          "text": [
            "/tmp/ipykernel_234/1099213901.py:15: FutureWarning: \n",
            "\n",
            "Passing `palette` without assigning `hue` is deprecated and will be removed in v0.14.0. Assign the `y` variable to `hue` and set `legend=False` for the same effect.\n",
            "\n",
            "  sns.barplot(x=\"Total Orders\", y=\"Department\", data=df_orders_by_department, palette=\"magma\")\n"
          ]
        },
        {
          "data": {
            "image/png": "[encoded data removed]",
            "text/plain": [
              "<Figure size 1200x600 with 1 Axes>"
            ]
          },
          "metadata": {},
          "output_type": "display_data"
        }
      ],
      "source": [
        "# ===========================\n",
        "# Bar Chart: Orders by Department\n",
        "# ===========================\n",
        "\n",
        "# Data from previous query (Department, Total Orders)\n",
        "departments = [\"produce\", \"dairy eggs\", \"snacks\", \"beverages\", \"frozen\",\n",
        "               \"pantry\", \"bakery\", \"deli\", \"canned goods\", \"dry goods pasta\"]\n",
        "total_orders = [1116850, 619999, 294213, 234613, 201359, 138924, 127884, 114349, 102416, 84651]\n",
        "\n",
        "# Creating DataFrame\n",
        "df_orders_by_department = pd.DataFrame({\"Department\": departments, \"Total Orders\": total_orders})\n",
        "\n",
        "# Plotting Bar Chart\n",
        "plt.figure(figsize=(12, 6))\n",
        "sns.barplot(x=\"Total Orders\", y=\"Department\", data=df_orders_by_department, palette=\"magma\")\n",
        "plt.xlabel(\"Total Orders\")\n",
        "plt.ylabel(\"Department\")\n",
        "plt.title(\"Total Orders by Department\")\n",
        "plt.show()\n"
      ]
    },
    {
      "cell_type": "markdown",
      "id": "cb6bbe33-9478-447a-9633-613e7a0ed593",
      "metadata": {
        "id": "cb6bbe33-9478-447a-9633-613e7a0ed593"
      },
      "source": [
        "### Insights\n",
        "\n",
        "- Produce is the most ordered department with ~1.11 million orders. This aligns with the earlier Top Ordered Products (bananas, avocados, berries). On another hand, Fresh produce is frequently bought and likely reordered often.\n",
        "- Dairy & Eggs ranks second with 619K orders.\n",
        "- Snacks are the third most popular category (294K orders).\n",
        "    - Expect chips, granola bars, and nuts to dominate.\n",
        "- Beverages & Frozen Foods also have strong demand.\n",
        "    - Beverages (~234K orders) likely include popular items like bottled water, juices, and coffee.\n",
        "    - Frozen Foods (~201K orders) suggest customers stock up on frozen essentials.\n",
        "- Pantry Staples, Bakery, and Deli also contribute significantly. It could likely contain bread, canned goods, and dry pasta."
      ]
    },
    {
      "cell_type": "markdown",
      "id": "57306664-46cb-4b7f-b245-105a8518da35",
      "metadata": {
        "id": "57306664-46cb-4b7f-b245-105a8518da35"
      },
      "source": [
        "## Most Popular Aisles"
      ]
    },
    {
      "cell_type": "code",
      "execution_count": null,
      "id": "7f72ad88-c2a1-46b2-a65e-37944de8df85",
      "metadata": {
        "id": "7f72ad88-c2a1-46b2-a65e-37944de8df85",
        "outputId": "be190742-ecc2-4fa2-b8e3-c942c2f7d013",
        "tags": []
      },
      "outputs": [
        {
          "name": "stdout",
          "output_type": "stream",
          "text": [
            "Top 10 Aisles:\n",
            "('fresh fruits', 450026)\n",
            "('fresh vegetables', 404252)\n",
            "('packaged vegetables fruits', 205492)\n",
            "('yogurt', 184903)\n",
            "('packaged cheese', 112690)\n",
            "('milk', 103953)\n",
            "('water seltzer sparkling water', 78019)\n",
            "('chips pretzels', 74536)\n",
            "('soy lactosefree', 68786)\n",
            "('bread', 65469)\n"
          ]
        }
      ],
      "source": [
        "query = f\"\"\"\n",
        "SELECT aisle, COUNT(*) AS total_orders\n",
        "FROM {database_name}.{table_name}\n",
        "GROUP BY aisle\n",
        "ORDER BY total_orders DESC\n",
        "LIMIT 10;\n",
        "\"\"\"\n",
        "cursor.execute(query)\n",
        "rows = cursor.fetchall()\n",
        "print(\"Top 10 Aisles:\")\n",
        "for row in rows:\n",
        "    print(row)\n"
      ]
    },
    {
      "cell_type": "code",
      "execution_count": null,
      "id": "75d5a216-31e7-4b13-9628-c696064aab6e",
      "metadata": {
        "id": "75d5a216-31e7-4b13-9628-c696064aab6e",
        "outputId": "30f9a8d8-1ebc-4ede-a903-aa5ee7516587",
        "tags": []
      },
      "outputs": [
        {
          "name": "stderr",
          "output_type": "stream",
          "text": [
            "/tmp/ipykernel_234/4010282009.py:16: FutureWarning: \n",
            "\n",
            "Passing `palette` without assigning `hue` is deprecated and will be removed in v0.14.0. Assign the `y` variable to `hue` and set `legend=False` for the same effect.\n",
            "\n",
            "  sns.barplot(x=\"Total Orders\", y=\"Aisle\", data=df_aisles, palette=\"coolwarm\")\n"
          ]
        },
        {
          "data": {
            "image/png": "[encoded data removed]",
            "text/plain": [
              "<Figure size 1200x600 with 1 Axes>"
            ]
          },
          "metadata": {},
          "output_type": "display_data"
        }
      ],
      "source": [
        "# ===========================\n",
        "# Bar Chart: Most Popular Aisles\n",
        "# ===========================\n",
        "\n",
        "# Data from previous query (Aisle, Total Orders)\n",
        "aisles = [\"fresh fruits\", \"fresh vegetables\", \"packaged vegetables fruits\", \"yogurt\",\n",
        "          \"packaged cheese\", \"milk\", \"water seltzer sparkling water\", \"chips pretzels\",\n",
        "          \"soy lactosefree\", \"bread\"]\n",
        "aisle_orders = [450026, 404252, 205492, 184903, 112690, 103953, 78019, 74536, 68786, 65469]\n",
        "\n",
        "# Creating DataFrame\n",
        "df_aisles = pd.DataFrame({\"Aisle\": aisles, \"Total Orders\": aisle_orders})\n",
        "\n",
        "# Plotting Bar Chart\n",
        "plt.figure(figsize=(12, 6))\n",
        "sns.barplot(x=\"Total Orders\", y=\"Aisle\", data=df_aisles, palette=\"coolwarm\")\n",
        "plt.xlabel(\"Total Orders\")\n",
        "plt.ylabel(\"Aisle\")\n",
        "plt.title(\"Top 10 Most Popular Aisles\")\n",
        "plt.show()"
      ]
    },
    {
      "cell_type": "markdown",
      "id": "c24db1ca-63f9-4b26-b45f-4e4039e7f836",
      "metadata": {
        "id": "c24db1ca-63f9-4b26-b45f-4e4039e7f836"
      },
      "source": [
        "### Insights\n",
        "- Fresh Produce Dominance:\n",
        "    - Fresh Fruits (450K orders) and Fresh Vegetables (404K orders) are the top two aisles.\n",
        "    - Combined, these two alone account for over 950K orders, which reinforces why Produce is the top department.\n",
        "\n",
        "- Dairy is Highly Popular:\n",
        "    - Yogurt (184K orders) and Packaged Cheese (112K orders) show strong demand.\n",
        "    - Milk (103K orders) further confirms that dairy products are household essentials.\n",
        "\n",
        "- Beverages are a Major Category:\n",
        "    - Water, Seltzer, and Sparkling Water (78K orders) ranks #7, showing strong demand for bottled drinks.\n",
        "\n",
        "- Snacks & Bread are Key Pantry Items\n",
        "    - Chips & Pretzels (74K orders) are among the most frequently purchased snacks.\n",
        "    - Bread (65K orders) confirms why Bakery is among the top departments.\n",
        "\n",
        "- Plant-Based Alternatives are Growing\n",
        "    - Soy & Lactose-Free Products (68K orders) indicate increased demand for dairy-free alternatives."
      ]
    },
    {
      "cell_type": "markdown",
      "id": "7397578b-076f-41c1-a8ae-9138fa4af15b",
      "metadata": {
        "id": "7397578b-076f-41c1-a8ae-9138fa4af15b"
      },
      "source": [
        "##  Reorder Ratio by Department"
      ]
    },
    {
      "cell_type": "code",
      "execution_count": null,
      "id": "1aed8321-7c0c-4842-91bb-4bf675f70764",
      "metadata": {
        "id": "1aed8321-7c0c-4842-91bb-4bf675f70764",
        "outputId": "6b3533fb-a800-48e7-d6a6-47c313663545",
        "tags": []
      },
      "outputs": [
        {
          "name": "stdout",
          "output_type": "stream",
          "text": [
            "Reorder Ratio by Department:\n",
            "('dairy eggs', 619999, 512956, 82.73)\n",
            "('beverages', 234613, 189692, 80.85)\n",
            "('produce', 1116850, 901358, 80.71)\n",
            "('bakery', 127884, 102853, 80.43)\n",
            "('deli', 114349, 89802, 78.53)\n",
            "('snacks', 294213, 217758, 74.01)\n",
            "('frozen', 201359, 144719, 71.87)\n",
            "('canned goods', 102416, 67094, 65.51)\n",
            "('dry goods pasta', 84651, 55299, 65.33)\n",
            "('pantry', 138924, 79541, 57.26)\n"
          ]
        }
      ],
      "source": [
        "query = f\"\"\"\n",
        "SELECT\n",
        "    department,\n",
        "    COUNT(*) AS total_orders,\n",
        "    SUM(reordered) AS total_reorders,\n",
        "    ROUND(100.0 * SUM(reordered) / COUNT(*), 2) AS reorder_ratio\n",
        "FROM {database_name}.{table_name}\n",
        "GROUP BY department\n",
        "ORDER BY reorder_ratio DESC;\n",
        "\"\"\"\n",
        "cursor.execute(query)\n",
        "rows = cursor.fetchall()\n",
        "print(\"Reorder Ratio by Department:\")\n",
        "for row in rows:\n",
        "    print(row)\n"
      ]
    },
    {
      "cell_type": "markdown",
      "id": "5400ed06-20af-481e-9cbe-3745fcac1021",
      "metadata": {
        "id": "5400ed06-20af-481e-9cbe-3745fcac1021"
      },
      "source": [
        "### Insights\n",
        "\n",
        "- Dairy & Eggs Have the Highest Reorder Rate (82.73%)\n",
        "    - Most frequently reordered category.\n",
        "    - Milk, Yogurt, and Cheese are household staples → high repurchase behavior.\n",
        "\n",
        "- Beverages Rank #2 in Reorders (80.85%)\n",
        "    - Bottled Water, Sparkling Water, and Coffee/Tea are commonly repurchased.\n",
        "    - These items are frequently consumed & replaced regularly.\n",
        "\n",
        "- Produce Has a High Reorder Rate (80.71%)\n",
        "    - Fruits and vegetables have a high purchase frequency.\n",
        "    - Bananas, Avocados, and Berries from previous queries reinforce this trend.\n",
        "\n",
        "- Bakery (80.43%) & Deli (78.53%) Show Strong Reorder Loyalty\n",
        "    - Bread, Bagels, and Pre-packaged Deli Items are regularly bought items.\n",
        "    - Customers often stick to the same brands.\n",
        "\n",
        "- Snacks & Frozen Foods Have Moderate Reorder Rates (~70%)\n",
        "    - Chips, Pretzels, and Frozen Meals are repurchased but less frequently than fresh foods.\n",
        "\n",
        "- Canned Goods & Dry Goods Have Lower Reorder Rates (~65%)\n",
        "    - Longer shelf life → not purchased as frequently.\n",
        "\n",
        "- Pasta, sauces, and canned vegetables last longer → lower immediate repurchase need.\n",
        "\n",
        "- Pantry Has the Lowest Reorder Rate (57.26%)\n",
        "    - Less frequent purchases of pantry staples like flour, condiments, and spices."
      ]
    },
    {
      "cell_type": "code",
      "execution_count": null,
      "id": "a367d871-b8d1-40c4-9656-5eafe1562a3c",
      "metadata": {
        "id": "a367d871-b8d1-40c4-9656-5eafe1562a3c",
        "outputId": "628c273a-7864-4f2b-b6e0-82973e0595d0",
        "tags": []
      },
      "outputs": [
        {
          "data": {
            "image/png": "[encoded data removed]",
            "text/plain": [
              "<Figure size 1000x600 with 1 Axes>"
            ]
          },
          "metadata": {},
          "output_type": "display_data"
        }
      ],
      "source": [
        "# ===========================\n",
        "# Pie Chart: Reorder Ratio by Department\n",
        "# ===========================\n",
        "\n",
        "# Data from previous query (Department, Reorder Ratio)\n",
        "departments = [\"dairy eggs\", \"beverages\", \"produce\", \"bakery\", \"deli\",\n",
        "               \"snacks\", \"frozen\", \"canned goods\", \"dry goods pasta\", \"pantry\"]\n",
        "reorder_ratio = [82.73, 80.85, 80.71, 80.43, 78.53, 74.01, 71.87, 65.51, 65.33, 57.26]\n",
        "\n",
        "# Create DataFrame\n",
        "df_departments = pd.DataFrame({\"Department\": departments, \"Reorder Ratio\": reorder_ratio})\n",
        "\n",
        "# Plot Pie Chart\n",
        "plt.figure(figsize=(10, 6))\n",
        "plt.pie(df_departments[\"Reorder Ratio\"], labels=df_departments[\"Department\"],\n",
        "        autopct=\"%1.1f%%\", colors=sns.color_palette(\"viridis\", len(departments)), startangle=140)\n",
        "plt.title(\"Reorder Ratio by Department\")\n",
        "plt.axis(\"equal\")  # Equal aspect ratio ensures the pie is drawn as a circle\n",
        "plt.show()"
      ]
    },
    {
      "cell_type": "code",
      "execution_count": null,
      "id": "c924db71-e43c-4a28-9b7b-40ca5be0418d",
      "metadata": {
        "id": "c924db71-e43c-4a28-9b7b-40ca5be0418d",
        "outputId": "6b8211df-e6ca-4845-9d72-8a8708745545",
        "tags": []
      },
      "outputs": [
        {
          "data": {
            "image/png": "[encoded data removed]",
            "text/plain": [
              "<Figure size 1200x600 with 1 Axes>"
            ]
          },
          "metadata": {},
          "output_type": "display_data"
        }
      ],
      "source": [
        "# ===========================\n",
        "# Stacked Bar Chart: Reordered vs Non-Reordered Orders by Department\n",
        "# ===========================\n",
        "\n",
        "# Data from previous query (Department, Reordered Orders)\n",
        "departments = [\"dairy eggs\", \"beverages\", \"produce\", \"bakery\", \"deli\",\n",
        "               \"snacks\", \"frozen\", \"canned goods\", \"dry goods pasta\", \"pantry\"]\n",
        "total_orders = [619999, 234613, 1116850, 127884, 114349, 294213, 201359, 102416, 84651, 138924]\n",
        "reordered = [512956, 189692, 901358, 102853, 89802, 217758, 144719, 67094, 55299, 79541]\n",
        "non_reordered = [total - reorder for total, reorder in zip(total_orders, reordered)]\n",
        "\n",
        "# Create DataFrame\n",
        "df_reorders = pd.DataFrame({\"Department\": departments, \"Reordered\": reordered, \"Non-Reordered\": non_reordered})\n",
        "\n",
        "# Plot Stacked Bar Chart (Reordered vs Non-Reordered)\n",
        "df_reorders.set_index(\"Department\")[[\"Reordered\", \"Non-Reordered\"]].plot(kind=\"bar\", stacked=True, figsize=(12, 6), colormap=\"viridis\")\n",
        "plt.xlabel(\"Department\")\n",
        "plt.ylabel(\"Number of Orders\")\n",
        "plt.title(\"Reordered vs Non-Reordered Orders by Department\")\n",
        "plt.legend([\"Reordered\", \"Non-Reordered\"])\n",
        "plt.xticks(rotation=45)\n",
        "plt.show()"
      ]
    },
    {
      "cell_type": "markdown",
      "id": "52e9a1d8-b23f-4872-a79c-7c3e7ad61ed2",
      "metadata": {
        "id": "52e9a1d8-b23f-4872-a79c-7c3e7ad61ed2"
      },
      "source": [
        "**Analysis for reordered vs non-reordered orders by department**:\n",
        "    \n",
        "1. Produce has the highest number of orders overall\n",
        "\n",
        "    - Most of these orders are reorders, confirming that fruits and vegetables are frequently repurchased.\n",
        "\n",
        "2. Dairy & Eggs have the highest reorder percentage\n",
        "    - Consistently repurchased products like milk, cheese, and yogurt drive these numbers.\n",
        "\n",
        "3. Snacks and Frozen Foods have moderate reorder levels\n",
        "    - Customers repurchase snacks and frozen goods but at a slightly lower frequency than fresh items.\n",
        "\n",
        "4. Pantry and Canned Goods have the lowest reorder rates\n",
        "    - These products have a longer shelf life, reducing the need for frequent repurchasing."
      ]
    },
    {
      "cell_type": "markdown",
      "id": "67dca0d4-f965-4ec1-9359-cabeb6b3a511",
      "metadata": {
        "id": "67dca0d4-f965-4ec1-9359-cabeb6b3a511",
        "tags": []
      },
      "source": [
        "## Correlation Analysis"
      ]
    },
    {
      "cell_type": "code",
      "execution_count": null,
      "id": "53b1b9ce-e9af-438c-bed2-b8b522251d2b",
      "metadata": {
        "id": "53b1b9ce-e9af-438c-bed2-b8b522251d2b",
        "outputId": "87fbdfe0-7000-4935-a592-61e579335f20",
        "tags": []
      },
      "outputs": [
        {
          "data": {
            "image/png": "[encoded data removed]",
            "text/plain": [
              "<Figure size 800x600 with 2 Axes>"
            ]
          },
          "metadata": {},
          "output_type": "display_data"
        }
      ],
      "source": [
        "# Data: Numerical Features for Correlation Analysis\n",
        "departments = [\"dairy eggs\", \"beverages\", \"produce\", \"bakery\", \"deli\",\n",
        "               \"snacks\", \"frozen\", \"canned goods\", \"dry goods pasta\", \"pantry\"]\n",
        "total_orders = [619999, 234613, 1116850, 127884, 114349, 294213, 201359, 102416, 84651, 138924]\n",
        "reordered = [512956, 189692, 901358, 102853, 89802, 217758, 144719, 67094, 55299, 79541]\n",
        "reorder_ratio = [82.73, 80.85, 80.71, 80.43, 78.53, 74.01, 71.87, 65.51, 65.33, 57.26]\n",
        "\n",
        "# Creating DataFrame\n",
        "df_correlation = pd.DataFrame({  # Fix this correlation analysis to show up the departments.\n",
        "    \"Total Orders\": total_orders,\n",
        "    \"Reordered Orders\": reordered,\n",
        "    \"Reorder Ratio (%)\": reorder_ratio\n",
        "})\n",
        "\n",
        "# Computing Correlation Matrix\n",
        "correlation_matrix = df_correlation.corr()\n",
        "\n",
        "# Plotting Correlation Heatmap\n",
        "plt.figure(figsize=(8, 6))\n",
        "sns.heatmap(correlation_matrix, annot=True, cmap=\"coolwarm\", fmt=\".2f\", linewidths=0.5)\n",
        "plt.title(\"Correlation Matrix of Order Features\")\n",
        "plt.show()\n"
      ]
    },
    {
      "cell_type": "markdown",
      "id": "4046bfdb-0681-4490-a61e-e924bf8f8c5a",
      "metadata": {
        "id": "4046bfdb-0681-4490-a61e-e924bf8f8c5a"
      },
      "source": [
        "- Total Orders & Reordered Orders (Correlation = 1.00)\n",
        "    - This confirms that departments with high total orders also have high reorders.\n",
        "    - Produce, Dairy, and Beverages are likely contributing to this trend.\n",
        "\n",
        "- Total Orders & Reorder Ratio (Correlation = 0.49)\n",
        "    - Moderate positive correlation → Higher orders somewhat influence the reorder rate, but not always.\n",
        "    - Some departments may have high first-time purchases but lower reorder rates (e.g., snacks, pantry items).\n",
        "\n",
        "- Reordered Orders & Reorder Ratio (Correlation = 0.52)\n",
        "    - A moderate correlation suggests that higher reorder volumes influence reorder ratio but not perfectly.\n",
        "    - Some products (like dairy & produce) are reordered very frequently, while others (like pantry goods) less frequently.\n"
      ]
    },
    {
      "cell_type": "markdown",
      "id": "8CTXjesgcyv7",
      "metadata": {
        "id": "8CTXjesgcyv7"
      },
      "source": [
        "## Analysis of the training EDA"
      ]
    },
    {
      "cell_type": "markdown",
      "id": "QXUyFSf-dkCl",
      "metadata": {
        "id": "QXUyFSf-dkCl"
      },
      "source": [
        "For creating ML Feature features, I am going to use the following labels:\n",
        "\n",
        "- User ID: \tThis tracks individual purchase behavior.\n",
        "- Product ID: Helps identify frequently reordered products.\n",
        "- Department ID: Some departments have higher reorder rates.\n",
        "- Aisle ID: Aisle-level trends impact reorder likelihood.\n",
        "- Total Orders: Highly correlated with reorder behavior.\n",
        "- Reorder Ratio: Strong predictor of repeat purchases.\n",
        "- Total items in Orders: \tDetermines if larger orders influence reorders.\n",
        "- User Order Frequency: Identifies frequent vs. occasional buyers.\n",
        "- User Reorder Percentage: Determines likelihood of repeat purchases.\n",
        "- Product popularity: Captures demand for the product.\n",
        "- Department reorder ratio: Some departments have stronger reorder trends.\n",
        "- Aisle Reorder ratio: Aisle-specific reorder behavior.\n",
        "- Product Reorder trend:  Helps detect seasonal or trending products.\n"
      ]
    },
    {
      "cell_type": "markdown",
      "id": "lWUKol76c2IY",
      "metadata": {
        "id": "lWUKol76c2IY"
      },
      "source": [
        "Strongest predictions for EDA:\n",
        "\n",
        "1. Reorder Ratio: strongly correlated with reorders.\n",
        "2. Total Orders: high correlation with reorder likelihood.\n",
        "3. User Reorder percerntage: Helps preduct if a user is likely to reorder.\n",
        "4. Product Popularity: popular items have higher reorders.\n",
        "5. Department and Aisle reorder ratios: certain categories drive higher reorders.\n"
      ]
    },
    {
      "cell_type": "markdown",
      "id": "66a1322c-2665-4330-a20f-75297c25aca9",
      "metadata": {
        "jp-MarkdownHeadingCollapsed": true,
        "tags": [],
        "id": "66a1322c-2665-4330-a20f-75297c25aca9"
      },
      "source": [
        "# Feature Store ( Aggregated Features)"
      ]
    },
    {
      "cell_type": "markdown",
      "id": "ebff6df0-aa8d-458a-a335-1ec558f16ba6",
      "metadata": {
        "id": "ebff6df0-aa8d-458a-a335-1ec558f16ba6"
      },
      "source": [
        "Plan for Feature store:\n",
        "\n",
        "- We will definig the feature to store for:\n",
        "    - Product-level\n",
        "    - user-level\n",
        "    - department-level\n",
        "- Then, we will be creating the feature store in SageMaker\n",
        "    - Using boto3 and sagemaker.feature_store.feature_group\n",
        "- Next, we will ingest the engineered features\n",
        "    - We will be saving both offline (in S3 parquet format) and online ( real-time queryable)\n",
        "- Lastly, we will query the features from the Feature Store.\n",
        "    - We will retrieve features for training and inference."
      ]
    },
    {
      "cell_type": "markdown",
      "id": "37328cbb-3ac7-463f-bb87-a730b77d1d70",
      "metadata": {
        "id": "37328cbb-3ac7-463f-bb87-a730b77d1d70"
      },
      "source": [
        "The Feture Store will base computed and aggregated based on the following features:\n",
        "\n",
        "- User-Based Features\n",
        "\n",
        "    - user_total_orders: total number of orders a user has placed\n",
        "    - user_reorder_ratio: percentage of the user’s past orders that contained reorders\n",
        "    - user_avg_items_per_order: average number of items per order for the user\n",
        "    \n",
        "- Product-Based Features\n",
        "\n",
        "    - product_total_orders: number of times the product was ordered overall\n",
        "    - product_reorder_ratio: how often the product gets reordered\n",
        "    - product_unique_users: number of unique users who ordered the product\n",
        "    \n",
        "- Department-Based Features\n",
        "\n",
        "    - department_reorder_ratio: average reorder ratio for all products in the department\n",
        "    - aisle_reorder_ratio: average reorder ratio for all products in the aisle"
      ]
    },
    {
      "cell_type": "markdown",
      "id": "d74a1e87-6093-425a-83ea-2731d6c04836",
      "metadata": {
        "id": "d74a1e87-6093-425a-83ea-2731d6c04836"
      },
      "source": [
        "In the next code, I am going to aggregate user, product, and department-level features from the training dataset stored in Athena."
      ]
    },
    {
      "cell_type": "code",
      "execution_count": null,
      "id": "9a15dbb7-b7b6-494c-b037-7f43f4f54c1d",
      "metadata": {
        "tags": [],
        "id": "9a15dbb7-b7b6-494c-b037-7f43f4f54c1d",
        "outputId": "840b0489-c703-455a-e273-fa946989adaa"
      },
      "outputs": [
        {
          "name": "stdout",
          "output_type": "stream",
          "text": [
            "Feature Engineering Completed Successfully!\n",
            "   user_id  product_id       department                    aisle  \\\n",
            "0    22795       29898  dry goods pasta                dry pasta   \n",
            "1    32267       12872  dry goods pasta                dry pasta   \n",
            "2   127049       29311  dry goods pasta  grains rice dried goods   \n",
            "3   139823       43076  dry goods pasta                dry pasta   \n",
            "4   148666        7010  dry goods pasta  grains rice dried goods   \n",
            "\n",
            "   user_total_orders  user_reorder_ratio  user_avg_items_per_order  \\\n",
            "0                 44                   0                         6   \n",
            "1                 55                   0                         3   \n",
            "2                 88                   0                         4   \n",
            "3                 62                   0                         3   \n",
            "4                 61                   0                         4   \n",
            "\n",
            "   product_total_orders  product_reorder_ratio  product_unique_users  \\\n",
            "0                  1049                      0                   539   \n",
            "1                  1120                      0                   514   \n",
            "2                   499                      0                   261   \n",
            "3                   471                      0                   335   \n",
            "4                   636                      0                   318   \n",
            "\n",
            "   department_reorder_ratio  aisle_reorder_ratio  \n",
            "0                         0                    0  \n",
            "1                         0                    0  \n",
            "2                         0                    0  \n",
            "3                         0                    0  \n",
            "4                         0                    0  \n",
            "Feature dataset saved to S3!\n"
          ]
        }
      ],
      "source": [
        "# Athena Database & Table\n",
        "database_name = \"instacart_db_split\"\n",
        "table_name = \"instacart_orders\"\n",
        "\n",
        "# ==========================\n",
        "# 🔹 1. Compute User-Level Features\n",
        "# ==========================\n",
        "user_query = f\"\"\"\n",
        "SELECT\n",
        "    user_id,\n",
        "    COUNT(DISTINCT order_id) AS user_total_orders,\n",
        "    SUM(reordered) / COUNT(*) AS user_reorder_ratio,\n",
        "    COUNT(*) / COUNT(DISTINCT order_id) AS user_avg_items_per_order\n",
        "FROM {database_name}.{table_name}\n",
        "GROUP BY user_id;\n",
        "\"\"\"\n",
        "user_features = wr.athena.read_sql_query(user_query, database=database_name)\n",
        "\n",
        "# ==========================\n",
        "# 🔹 2. Compute Product-Level Features\n",
        "# ==========================\n",
        "product_query = f\"\"\"\n",
        "SELECT\n",
        "    product_id,\n",
        "    COUNT(*) AS product_total_orders,\n",
        "    SUM(reordered) / COUNT(*) AS product_reorder_ratio,\n",
        "    COUNT(DISTINCT user_id) AS product_unique_users\n",
        "FROM {database_name}.{table_name}\n",
        "GROUP BY product_id;\n",
        "\"\"\"\n",
        "product_features = wr.athena.read_sql_query(product_query, database=database_name)\n",
        "\n",
        "# ==========================\n",
        "# 🔹 3. Compute Department & Aisle Features\n",
        "# ==========================\n",
        "department_query = f\"\"\"\n",
        "SELECT\n",
        "    department,\n",
        "    SUM(reordered) / COUNT(*) AS department_reorder_ratio\n",
        "FROM {database_name}.{table_name}\n",
        "GROUP BY department;\n",
        "\"\"\"\n",
        "department_features = wr.athena.read_sql_query(department_query, database=database_name)\n",
        "\n",
        "aisle_query = f\"\"\"\n",
        "SELECT\n",
        "    aisle,\n",
        "    SUM(reordered) / COUNT(*) AS aisle_reorder_ratio\n",
        "FROM {database_name}.{table_name}\n",
        "GROUP BY aisle;\n",
        "\"\"\"\n",
        "aisle_features = wr.athena.read_sql_query(aisle_query, database=database_name)\n",
        "\n",
        "# ==========================\n",
        "# 🔹 4. Load Training Data to Get User-Product Mapping\n",
        "# ==========================\n",
        "mapping_query = f\"\"\"\n",
        "SELECT user_id, product_id, department, aisle\n",
        "FROM {database_name}.{table_name}\n",
        "\"\"\"\n",
        "df_mapping = wr.athena.read_sql_query(mapping_query, database=database_name)\n",
        "\n",
        "# ==========================\n",
        "# 🔹 5. Merge Features into a Single Dataset\n",
        "# ==========================\n",
        "df_features = (\n",
        "    df_mapping\n",
        "    .merge(user_features, on=\"user_id\", how=\"left\")  # Merge user features\n",
        "    .merge(product_features, on=\"product_id\", how=\"left\")  # Merge product features\n",
        "    .merge(department_features, on=\"department\", how=\"left\")  # Merge department features\n",
        "    .merge(aisle_features, on=\"aisle\", how=\"left\")  # Merge aisle features\n",
        ")\n",
        "\n",
        "print(\"Feature Engineering Completed Successfully!\")\n",
        "print(df_features.head())\n",
        "\n",
        "# ==========================\n",
        "# 🔹 6. Save Engineered Features to S3\n",
        "# ==========================\n",
        "parquet_output_path = \"s3://sagemaker-us-east-1-921916832724/data-lake/Project/features/\"\n",
        "wr.s3.to_parquet(\n",
        "    df=df_features,\n",
        "    path=parquet_output_path,\n",
        "    dataset=True,\n",
        "    mode=\"overwrite\",\n",
        "    partition_cols=[\"department\"],\n",
        "    compression=\"snappy\"\n",
        ")\n",
        "\n",
        "print(\"Feature dataset saved to S3!\")\n",
        "\n"
      ]
    },
    {
      "cell_type": "markdown",
      "id": "b1ff325e-d978-4226-a52e-1ff96e499f5d",
      "metadata": {
        "jp-MarkdownHeadingCollapsed": true,
        "tags": [],
        "id": "b1ff325e-d978-4226-a52e-1ff96e499f5d"
      },
      "source": [
        "# Optional. Run the following code just in case the VM stops and you lose the connection with the Athena database. This code is only valid for Checking the existence of Feature Store that was made in the previous step"
      ]
    },
    {
      "cell_type": "code",
      "execution_count": null,
      "id": "0f0128fb-2997-4a8d-b87a-3aa32b6da7dd",
      "metadata": {
        "tags": [],
        "id": "0f0128fb-2997-4a8d-b87a-3aa32b6da7dd"
      },
      "outputs": [],
      "source": [
        "# Note. Make sure to install the and import the necessary libraries first."
      ]
    },
    {
      "cell_type": "code",
      "execution_count": null,
      "id": "92238f6b-630a-4ff4-b999-46dad46887d0",
      "metadata": {
        "tags": [],
        "id": "92238f6b-630a-4ff4-b999-46dad46887d0",
        "outputId": "203f4e3f-4504-461c-d347-45cb6290bae1"
      },
      "outputs": [
        {
          "name": "stdout",
          "output_type": "stream",
          "text": [
            "✅ Reconnected to Athena.\n"
          ]
        }
      ],
      "source": [
        "\n",
        "from pyathena import connect\n",
        "import awswrangler as wr\n",
        "\n",
        "# AWS Configuration\n",
        "bucket_name = \"sagemaker-us-east-1-921916832724\"\n",
        "region = \"us-east-1\"\n",
        "database_name = \"instacart_db_split\"\n",
        "table_name = \"instacart_orders\"\n",
        "\n",
        "# Define Athena Staging Directory\n",
        "s3_staging_dir = f\"s3://{bucket_name}/athena/instacart_staging_split/\"\n",
        "\n",
        "# Reconnect to Athena\n",
        "conn = connect(s3_staging_dir=s3_staging_dir, region_name=region)\n",
        "cursor = conn.cursor()\n",
        "\n",
        "print(\"✅ Reconnected to Athena.\")\n"
      ]
    },
    {
      "cell_type": "code",
      "execution_count": null,
      "id": "0eb6acf8-69d8-4bcb-ab3c-e05da904424b",
      "metadata": {
        "tags": [],
        "id": "0eb6acf8-69d8-4bcb-ab3c-e05da904424b",
        "outputId": "92b309a5-5a13-4698-9d23-934b78f3b62d"
      },
      "outputs": [
        {
          "name": "stdout",
          "output_type": "stream",
          "text": [
            "✅ Partitions found in table 'instacart_orders':\n",
            "('department=produce',)\n",
            "('department=dairy eggs',)\n",
            "('department=snacks',)\n",
            "('department=deli',)\n",
            "('department=frozen',)\n",
            "('department=pantry',)\n",
            "('department=beverages',)\n",
            "('department=canned goods',)\n",
            "('department=bakery',)\n",
            "('department=dry goods pasta',)\n"
          ]
        }
      ],
      "source": [
        "##Step 2: Verify Partitions Exist\n",
        "#Since features are stored per department, let's check if partitions are loaded correctly:\n",
        "\n",
        "\n",
        "cursor.execute(f\"SHOW PARTITIONS {database_name}.{table_name}\")\n",
        "partitions = cursor.fetchall()\n",
        "\n",
        "if partitions:\n",
        "    print(f\"✅ Partitions found in table '{table_name}':\")\n",
        "    for partition in partitions:\n",
        "        print(partition)\n",
        "else:\n",
        "    print(f\"❌ No partitions found in table '{table_name}'.\")\n"
      ]
    },
    {
      "cell_type": "code",
      "execution_count": null,
      "id": "5c28f34a-6e07-4409-8a0b-5772e406e205",
      "metadata": {
        "tags": [],
        "id": "5c28f34a-6e07-4409-8a0b-5772e406e205",
        "outputId": "b7e51581-33da-4736-d690-28fad75f7d20"
      },
      "outputs": [
        {
          "name": "stdout",
          "output_type": "stream",
          "text": [
            "✅ Sample Data from 'bakery' Department:\n",
            "(2303209, 35213, 7, 0, 128551, 'Organic Blues Bread with Blue Cornmeal Crust', 112, 3, 'bread', 'bakery')\n",
            "(1649643, 18027, 3, 1, 62525, 'Ezekiel 4:9 Bread Organic Sprouted Whole Grain', 112, 3, 'bread', 'bakery')\n",
            "(1977504, 15294, 14, 1, 54959, 'Butter Hamburger Buns', 43, 3, 'buns rolls', 'bakery')\n",
            "(2553548, 16262, 4, 1, 152685, 'Everything Bagels', 93, 3, 'breakfast bakery', 'bakery')\n",
            "(2964657, 30561, 8, 1, 21651, 'Plain Bagelettes', 93, 3, 'breakfast bakery', 'bakery')\n",
            "(644611, 20144, 8, 1, 131529, 'Organic Pack Peasant Bread', 112, 3, 'bread', 'bakery')\n",
            "(2932887, 29299, 3, 1, 27108, 'Dutch Country Smooth Texture 100% Whole Wheat Bread', 112, 3, 'bread', 'bakery')\n",
            "(1390467, 45948, 3, 1, 61868, 'Gluten Free 7 Grain Bread', 112, 3, 'bread', 'bakery')\n",
            "(373697, 18439, 14, 1, 125662, 'Sliced Sourdough Bread', 112, 3, 'bread', 'bakery')\n",
            "(1531239, 10337, 1, 0, 68880, \"UDI'S GLUTEN FREE WHOLE GRAIN BREAD\", 112, 3, 'bread', 'bakery')\n"
          ]
        }
      ],
      "source": [
        "#Step 3: Query Features for a Specific Department\n",
        "#Since features are partitioned by department, we must query them by department name:\n",
        "\n",
        "selected_department = \"bakery\"  # Change this to any department\n",
        "\n",
        "query = f\"\"\"\n",
        "SELECT *\n",
        "FROM {database_name}.{table_name}\n",
        "WHERE department = '{selected_department}'\n",
        "LIMIT 10;\n",
        "\"\"\"\n",
        "cursor.execute(query)\n",
        "rows = cursor.fetchall()\n",
        "\n",
        "print(f\"✅ Sample Data from '{selected_department}' Department:\")\n",
        "for row in rows:\n",
        "    print(row)\n"
      ]
    },
    {
      "cell_type": "code",
      "execution_count": null,
      "id": "f6f40bb7-fd3b-4f26-80cd-00ef53ee7035",
      "metadata": {
        "tags": [],
        "id": "f6f40bb7-fd3b-4f26-80cd-00ef53ee7035",
        "outputId": "d86e1d38-8645-443b-ffcf-22d9c382a379"
      },
      "outputs": [
        {
          "name": "stdout",
          "output_type": "stream",
          "text": [
            "✅ Feature files found in S3:\n",
            "data-lake/Project/features/department=bakery/6b0386f534ef486ebb21c9f107987503.snappy.parquet\n",
            "data-lake/Project/features/department=beverages/6b0386f534ef486ebb21c9f107987503.snappy.parquet\n",
            "data-lake/Project/features/department=canned goods/6b0386f534ef486ebb21c9f107987503.snappy.parquet\n",
            "data-lake/Project/features/department=dairy eggs/6b0386f534ef486ebb21c9f107987503.snappy.parquet\n",
            "data-lake/Project/features/department=deli/6b0386f534ef486ebb21c9f107987503.snappy.parquet\n",
            "data-lake/Project/features/department=dry goods pasta/6b0386f534ef486ebb21c9f107987503.snappy.parquet\n",
            "data-lake/Project/features/department=frozen/6b0386f534ef486ebb21c9f107987503.snappy.parquet\n",
            "data-lake/Project/features/department=pantry/6b0386f534ef486ebb21c9f107987503.snappy.parquet\n",
            "data-lake/Project/features/department=produce/6b0386f534ef486ebb21c9f107987503.snappy.parquet\n",
            "data-lake/Project/features/department=snacks/6b0386f534ef486ebb21c9f107987503.snappy.parquet\n"
          ]
        }
      ],
      "source": [
        "#Step 4: Verify Feature Files Exist in S3\n",
        "#Ensure feature files are actually in S3:\n",
        "\n",
        "import boto3\n",
        "\n",
        "s3 = boto3.client('s3')\n",
        "prefix = \"data-lake/Project/features/\"\n",
        "\n",
        "response = s3.list_objects_v2(Bucket=bucket_name, Prefix=prefix)\n",
        "\n",
        "if 'Contents' in response:\n",
        "    print(\"✅ Feature files found in S3:\")\n",
        "    for obj in response['Contents']:\n",
        "        print(obj['Key'])\n",
        "else:\n",
        "    print(\"❌ No feature files found in S3!\")\n"
      ]
    },
    {
      "cell_type": "code",
      "execution_count": null,
      "id": "0c66b324-e9f8-4981-96fc-e774f6ceb8cc",
      "metadata": {
        "tags": [],
        "id": "0c66b324-e9f8-4981-96fc-e774f6ceb8cc",
        "outputId": "3d736673-c05a-4839-84fe-e9681f6f95a9"
      },
      "outputs": [
        {
          "name": "stdout",
          "output_type": "stream",
          "text": [
            "✅ Feature dataset loaded successfully!\n",
            "   user_id  product_id             aisle  user_total_orders  \\\n",
            "0   128551       35213             bread                 29   \n",
            "1   152685       16262  breakfast bakery                 45   \n",
            "2    21651       30561  breakfast bakery                 67   \n",
            "3   131529       20144             bread                 36   \n",
            "4    27108       29299             bread                 54   \n",
            "\n",
            "   user_reorder_ratio  user_avg_items_per_order  product_total_orders  \\\n",
            "0                   0                         5                   331   \n",
            "1                   0                         4                  1150   \n",
            "2                   0                         6                  1039   \n",
            "3                   0                         6                   218   \n",
            "4                   0                         6                    42   \n",
            "\n",
            "   product_reorder_ratio  product_unique_users  department_reorder_ratio  \\\n",
            "0                      0                    89                         0   \n",
            "1                      0                   318                         0   \n",
            "2                      0                   360                         0   \n",
            "3                      0                    51                         0   \n",
            "4                      0                    11                         0   \n",
            "\n",
            "   aisle_reorder_ratio  \n",
            "0                    0  \n",
            "1                    0  \n",
            "2                    0  \n",
            "3                    0  \n",
            "4                    0  \n"
          ]
        }
      ],
      "source": [
        "#Step 5: Load Features from S3\n",
        "# If features exist in S3, reload them using awswrangler:\n",
        "\n",
        "feature_path = f\"s3://{bucket_name}/data-lake/Project/features/\"\n",
        "\n",
        "df_features = wr.s3.read_parquet(feature_path)\n",
        "\n",
        "print(\"✅ Feature dataset loaded successfully!\")\n",
        "print(df_features.head())\n"
      ]
    },
    {
      "cell_type": "markdown",
      "id": "68728062-0c76-4cc8-b35b-f1418531de31",
      "metadata": {
        "jp-MarkdownHeadingCollapsed": true,
        "tags": [],
        "id": "68728062-0c76-4cc8-b35b-f1418531de31"
      },
      "source": [
        "# Merging New Obtained Features into one single dataset"
      ]
    },
    {
      "cell_type": "code",
      "execution_count": null,
      "id": "93cfa7b2-d451-4d5a-886a-d6f1ca114973",
      "metadata": {
        "tags": [],
        "id": "93cfa7b2-d451-4d5a-886a-d6f1ca114973"
      },
      "outputs": [],
      "source": [
        "# Note: Since \"department\" is a parition column and it was not explicitly included in df_features. I am going to loop through all departments in the S3 feature store and concatenate them into a single DataFrame"
      ]
    },
    {
      "cell_type": "code",
      "execution_count": null,
      "id": "e385b767-5ce9-4398-8e36-108a55f91b97",
      "metadata": {
        "tags": [],
        "id": "e385b767-5ce9-4398-8e36-108a55f91b97",
        "outputId": "442ab81d-ecbe-4bd8-e757-2acf76a500d4"
      },
      "outputs": [
        {
          "name": "stdout",
          "output_type": "stream",
          "text": [
            "✅ Successfully loaded all department features!\n",
            "   user_id  product_id             aisle  user_total_orders  \\\n",
            "0   128551       35213             bread                 29   \n",
            "1   152685       16262  breakfast bakery                 45   \n",
            "2    21651       30561  breakfast bakery                 67   \n",
            "3   131529       20144             bread                 36   \n",
            "4    27108       29299             bread                 54   \n",
            "\n",
            "   user_reorder_ratio  user_avg_items_per_order  product_total_orders  \\\n",
            "0                   0                         5                   331   \n",
            "1                   0                         4                  1150   \n",
            "2                   0                         6                  1039   \n",
            "3                   0                         6                   218   \n",
            "4                   0                         6                    42   \n",
            "\n",
            "   product_reorder_ratio  product_unique_users  department_reorder_ratio  \\\n",
            "0                      0                    89                         0   \n",
            "1                      0                   318                         0   \n",
            "2                      0                   360                         0   \n",
            "3                      0                    51                         0   \n",
            "4                      0                    11                         0   \n",
            "\n",
            "   aisle_reorder_ratio department  \n",
            "0                    0     bakery  \n",
            "1                    0     bakery  \n",
            "2                    0     bakery  \n",
            "3                    0     bakery  \n",
            "4                    0     bakery  \n"
          ]
        }
      ],
      "source": [
        "import awswrangler as wr\n",
        "import pandas as pd\n",
        "\n",
        "# Listing of all departments\n",
        "departments = [\n",
        "    \"bakery\", \"beverages\", \"canned goods\", \"dairy eggs\", \"deli\",\n",
        "    \"dry goods pasta\", \"frozen\", \"pantry\", \"produce\", \"snacks\"\n",
        "]\n",
        "\n",
        "# S3 base path\n",
        "s3_base_path = \"s3://sagemaker-us-east-1-921916832724/data-lake/Project/features/\"\n",
        "\n",
        "# Loading and merging all department data\n",
        "df_list = []\n",
        "\n",
        "for dept in departments:\n",
        "    s3_path = f\"{s3_base_path}department={dept}/\"\n",
        "\n",
        "    # Loading department-specific features\n",
        "    df_dept = wr.s3.read_parquet(path=s3_path)\n",
        "\n",
        "    # Adding department column back\n",
        "    df_dept[\"department\"] = dept\n",
        "\n",
        "    df_list.append(df_dept)\n",
        "\n",
        "# Merging all departments into a single DataFrame\n",
        "df_all_departments = pd.concat(df_list, ignore_index=True)\n",
        "\n",
        "# Displaying result\n",
        "print(\"✅ Successfully loaded all department features!\")\n",
        "print(df_all_departments.head())\n"
      ]
    },
    {
      "cell_type": "code",
      "execution_count": null,
      "id": "43f998c1-4982-4f58-8894-97a69cf7c1cb",
      "metadata": {
        "tags": [],
        "id": "43f998c1-4982-4f58-8894-97a69cf7c1cb",
        "outputId": "91c4d7b6-0037-4232-b59b-ca6b35db4173"
      },
      "outputs": [
        {
          "name": "stdout",
          "output_type": "stream",
          "text": [
            " Merged feature dataset saved to S3!\n"
          ]
        }
      ],
      "source": [
        "# Now that we have successfully merged all department features, I am going to save the merged dataset back to S3\n",
        "\n",
        "# Defining output path for merged dataset\n",
        "merged_output_path = \"s3://sagemaker-us-east-1-921916832724/data-lake/Project/merged_features/\"\n",
        "\n",
        "# Saving merged features back to S3 (partitioned by department)\n",
        "wr.s3.to_parquet(\n",
        "    df=df_all_departments,\n",
        "    path=merged_output_path,\n",
        "    dataset=True,\n",
        "    mode=\"overwrite\",\n",
        "    partition_cols=[\"department\"],\n",
        "    compression=\"snappy\"\n",
        ")\n",
        "\n",
        "print(\" Merged feature dataset saved to S3!\")\n"
      ]
    },
    {
      "cell_type": "markdown",
      "id": "2e981cd3-b319-44f0-a3dc-0f3c420e3cf1",
      "metadata": {
        "jp-MarkdownHeadingCollapsed": true,
        "tags": [],
        "id": "2e981cd3-b319-44f0-a3dc-0f3c420e3cf1"
      },
      "source": [
        "# (EDA) on the Merged Dataset (Aggregated Feature)"
      ]
    },
    {
      "cell_type": "code",
      "execution_count": null,
      "id": "edce974a-1b02-4ec5-b0fd-d22e453d2068",
      "metadata": {
        "tags": [],
        "id": "edce974a-1b02-4ec5-b0fd-d22e453d2068",
        "outputId": "22bb749e-eb98-444d-d54b-ff8366209500"
      },
      "outputs": [
        {
          "data": {
            "image/png": "[encoded data removed]",
            "text/plain": [
              "<Figure size 1200x600 with 1 Axes>"
            ]
          },
          "metadata": {},
          "output_type": "display_data"
        }
      ],
      "source": [
        "# Checking  the distribution of orders across departments\n",
        "plt.figure(figsize=(12, 6))\n",
        "sns.countplot(y=df_all_departments[\"department\"], order=df_all_departments[\"department\"].value_counts().index)\n",
        "plt.xlabel(\"Total Orders\")\n",
        "plt.ylabel(\"Department\")\n",
        "plt.title(\"Total Orders by Department\")\n",
        "plt.show()\n"
      ]
    },
    {
      "cell_type": "markdown",
      "id": "b3f92a36-81b7-470d-8d56-5ac714d14a7f",
      "metadata": {
        "tags": [],
        "id": "b3f92a36-81b7-470d-8d56-5ac714d14a7f"
      },
      "source": [
        "# Preparing the Feature Store (Aggregated)  for Model Training"
      ]
    },
    {
      "cell_type": "code",
      "execution_count": null,
      "id": "14c5eeb5-0402-434f-ac66-66e708578be5",
      "metadata": {
        "tags": [],
        "id": "14c5eeb5-0402-434f-ac66-66e708578be5"
      },
      "outputs": [],
      "source": [
        "# We now have product-level, user-level, and department-level features. Next, We will structure the dataset for model training."
      ]
    },
    {
      "cell_type": "code",
      "execution_count": null,
      "id": "d559c7b6-56ce-4277-a4fe-45614889dfa2",
      "metadata": {
        "tags": [],
        "id": "d559c7b6-56ce-4277-a4fe-45614889dfa2",
        "outputId": "ea01fb87-5270-4319-8663-d56378216f9f"
      },
      "outputs": [
        {
          "name": "stdout",
          "output_type": "stream",
          "text": [
            "✅ Training-ready dataset saved to S3!\n"
          ]
        }
      ],
      "source": [
        "# Selecting relevant features for training\n",
        "features = [\n",
        "    \"user_total_orders\", \"user_reorder_ratio\", \"user_avg_items_per_order\",\n",
        "    \"product_total_orders\", \"product_reorder_ratio\", \"product_unique_users\",\n",
        "    \"department_reorder_ratio\", \"aisle_reorder_ratio\"\n",
        "]\n",
        "\n",
        "df_training = df_all_departments[features]\n",
        "\n",
        "# Saving training-ready dataset\n",
        "training_output_path = \"s3://sagemaker-us-east-1-921916832724/data-lake/Project/training_data/\"\n",
        "\n",
        "wr.s3.to_parquet(\n",
        "    df=df_training,\n",
        "    path=training_output_path,\n",
        "    dataset=True,\n",
        "    mode=\"overwrite\",\n",
        "    compression=\"snappy\"\n",
        ")\n",
        "\n",
        "print(\"✅ Training-ready dataset saved to S3!\")\n"
      ]
    },
    {
      "cell_type": "markdown",
      "id": "9a434ae4-ad2c-4bad-a303-b965cfef14ed",
      "metadata": {
        "tags": [],
        "id": "9a434ae4-ad2c-4bad-a303-b965cfef14ed"
      },
      "source": [
        "# Training Phase"
      ]
    },
    {
      "cell_type": "markdown",
      "id": "06125bf1-c847-44ea-b6c5-c47a838b9344",
      "metadata": {
        "tags": [],
        "id": "06125bf1-c847-44ea-b6c5-c47a838b9344"
      },
      "source": [
        "## Logistic Regression Model using the original Dataset"
      ]
    },
    {
      "cell_type": "markdown",
      "id": "8191c6dc-a36e-4b5b-969a-90e6d95c2e56",
      "metadata": {
        "tags": [],
        "id": "8191c6dc-a36e-4b5b-969a-90e6d95c2e56"
      },
      "source": [
        "### Loading required libraries"
      ]
    },
    {
      "cell_type": "code",
      "execution_count": null,
      "id": "9eb61658-c843-4984-ad2b-24783bea0a08",
      "metadata": {
        "tags": [],
        "id": "9eb61658-c843-4984-ad2b-24783bea0a08",
        "outputId": "77bfc1a0-b94e-473a-aa9e-fd9bbbb37d2b"
      },
      "outputs": [
        {
          "name": "stdout",
          "output_type": "stream",
          "text": [
            "Requirement already satisfied: scikit-learn in /opt/conda/lib/python3.11/site-packages (1.5.0)\n",
            "Requirement already satisfied: boto3 in /opt/conda/lib/python3.11/site-packages (1.34.131)\n",
            "Requirement already satisfied: awswrangler in /opt/conda/lib/python3.11/site-packages (3.11.0)\n",
            "Requirement already satisfied: pandas in /opt/conda/lib/python3.11/site-packages (2.2.2)\n",
            "Requirement already satisfied: numpy in /opt/conda/lib/python3.11/site-packages (1.26.4)\n",
            "Requirement already satisfied: scipy>=1.6.0 in /opt/conda/lib/python3.11/site-packages (from scikit-learn) (1.13.1)\n",
            "Requirement already satisfied: joblib>=1.2.0 in /opt/conda/lib/python3.11/site-packages (from scikit-learn) (1.4.2)\n",
            "Requirement already satisfied: threadpoolctl>=3.1.0 in /opt/conda/lib/python3.11/site-packages (from scikit-learn) (3.5.0)\n",
            "Requirement already satisfied: botocore<1.35.0,>=1.34.131 in /opt/conda/lib/python3.11/site-packages (from boto3) (1.34.131)\n",
            "Requirement already satisfied: jmespath<2.0.0,>=0.7.1 in /opt/conda/lib/python3.11/site-packages (from boto3) (1.0.1)\n",
            "Requirement already satisfied: s3transfer<0.11.0,>=0.10.0 in /opt/conda/lib/python3.11/site-packages (from boto3) (0.10.1)\n",
            "Requirement already satisfied: packaging<25.0,>=21.1 in /opt/conda/lib/python3.11/site-packages (from awswrangler) (23.2)\n",
            "Requirement already satisfied: pyarrow<19.0.0,>=8.0.0 in /opt/conda/lib/python3.11/site-packages (from awswrangler) (16.1.0)\n",
            "Requirement already satisfied: typing-extensions<5.0.0,>=4.4.0 in /opt/conda/lib/python3.11/site-packages (from awswrangler) (4.12.2)\n",
            "Requirement already satisfied: python-dateutil>=2.8.2 in /opt/conda/lib/python3.11/site-packages (from pandas) (2.9.0)\n",
            "Requirement already satisfied: pytz>=2020.1 in /opt/conda/lib/python3.11/site-packages (from pandas) (2024.1)\n",
            "Requirement already satisfied: tzdata>=2022.7 in /opt/conda/lib/python3.11/site-packages (from pandas) (2024.1)\n",
            "Requirement already satisfied: urllib3!=2.2.0,<3,>=1.25.4 in /opt/conda/lib/python3.11/site-packages (from botocore<1.35.0,>=1.34.131->boto3) (2.1.0)\n",
            "Requirement already satisfied: six>=1.5 in /opt/conda/lib/python3.11/site-packages (from python-dateutil>=2.8.2->pandas) (1.16.0)\n",
            "\u001b[33mWARNING: Running pip as the 'root' user can result in broken permissions and conflicting behaviour with the system package manager. It is recommended to use a virtual environment instead: https://pip.pypa.io/warnings/venv\u001b[0m\u001b[33m\n",
            "\u001b[0m"
          ]
        }
      ],
      "source": [
        "# Installing required libraries\n",
        "!pip install scikit-learn boto3 awswrangler pandas numpy\n",
        "\n",
        "# Importing libraries\n",
        "import boto3\n",
        "import awswrangler as wr\n",
        "import pandas as pd\n",
        "import numpy as np\n",
        "from sklearn.model_selection import train_test_split\n",
        "from sklearn.preprocessing import StandardScaler\n",
        "from sklearn.linear_model import LogisticRegression\n",
        "from sklearn.metrics import accuracy_score, precision_score, recall_score, f1_score\n"
      ]
    },
    {
      "cell_type": "markdown",
      "id": "c75849a2-e8f1-4f5a-bd43-38639981a71c",
      "metadata": {
        "tags": [],
        "id": "c75849a2-e8f1-4f5a-bd43-38639981a71c"
      },
      "source": [
        "### Loading the Raw Training and  Validation Dataset"
      ]
    },
    {
      "cell_type": "code",
      "execution_count": null,
      "id": "cf017d65-d76f-413f-8dec-916ae7c7edee",
      "metadata": {
        "tags": [],
        "id": "cf017d65-d76f-413f-8dec-916ae7c7edee",
        "outputId": "228cbbff-87ca-4d8f-e5c1-1d91ecbf12ef"
      },
      "outputs": [
        {
          "name": "stdout",
          "output_type": "stream",
          "text": [
            " Raw Training Dataset Loaded Successfully!\n",
            "   order_id  product_id  add_to_cart_order  reordered  user_id  \\\n",
            "0   2303209       35213                  7          0   128551   \n",
            "1   1649643       18027                  3          1    62525   \n",
            "2   1977504       15294                 14          1    54959   \n",
            "3   2553548       16262                  4          1   152685   \n",
            "4   2964657       30561                  8          1    21651   \n",
            "\n",
            "                                     product_name  aisle_id  department_id  \\\n",
            "0    Organic Blues Bread with Blue Cornmeal Crust       112              3   \n",
            "1  Ezekiel 4:9 Bread Organic Sprouted Whole Grain       112              3   \n",
            "2                           Butter Hamburger Buns        43              3   \n",
            "3                               Everything Bagels        93              3   \n",
            "4                                Plain Bagelettes        93              3   \n",
            "\n",
            "              aisle  \n",
            "0             bread  \n",
            "1             bread  \n",
            "2        buns rolls  \n",
            "3  breakfast bakery  \n",
            "4  breakfast bakery  \n",
            " Raw Validation Dataset Loaded Successfully!\n",
            "   order_id  product_id  add_to_cart_order  reordered  user_id  \\\n",
            "0    492768       48857                  3          1    98256   \n",
            "1   1273445       44533                  4          0   167445   \n",
            "2   1604633        5077                 17          1   170664   \n",
            "3   1818387       35168                 10          0    95740   \n",
            "4   2208013       25832                  4          1    71284   \n",
            "\n",
            "                               product_name  aisle_id  department_id  \\\n",
            "0                  Authentic French Brioche        93              3   \n",
            "1  French Baguettes, Take & Bake, Twin Pack       112              3   \n",
            "2                    100% Whole Wheat Bread       112              3   \n",
            "3      Ezekiel 4:9 Sprouted Grain Tortillas       128              3   \n",
            "4  Morning Rounds Muesli Fruit & Grain Buns        93              3   \n",
            "\n",
            "                  aisle  \n",
            "0      breakfast bakery  \n",
            "1                 bread  \n",
            "2                 bread  \n",
            "3  tortillas flat bread  \n",
            "4      breakfast bakery  \n"
          ]
        }
      ],
      "source": [
        "# Defining S3 paths for raw datasets\n",
        "raw_train_s3_path = \"s3://sagemaker-us-east-1-921916832724/data-lake/Project/partitioned_split/train/\"\n",
        "raw_validation_s3_path = \"s3://sagemaker-us-east-1-921916832724/data-lake/Project/partitioned_split/validation/\"\n",
        "\n",
        "# Loading raw training and validation datasets\n",
        "df_train_raw = wr.s3.read_parquet(raw_train_s3_path)\n",
        "df_validation_raw = wr.s3.read_parquet(raw_validation_s3_path)\n",
        "\n",
        "# Checking if datasets loaded correctly\n",
        "print(\" Raw Training Dataset Loaded Successfully!\")\n",
        "print(df_train_raw.head())\n",
        "\n",
        "print(\" Raw Validation Dataset Loaded Successfully!\")\n",
        "print(df_validation_raw.head())\n",
        "\n"
      ]
    },
    {
      "cell_type": "markdown",
      "id": "d77924d8-6099-4dd9-ac01-95b056bf0ca4",
      "metadata": {
        "id": "d77924d8-6099-4dd9-ac01-95b056bf0ca4"
      },
      "source": [
        "### Training Logistic Regression on Raw Data"
      ]
    },
    {
      "cell_type": "code",
      "execution_count": null,
      "id": "9dca46d7-4a65-4326-b84d-506322a468bd",
      "metadata": {
        "tags": [],
        "id": "9dca46d7-4a65-4326-b84d-506322a468bd",
        "outputId": "c805b7a9-0c19-43ec-aba6-133292efd7d4"
      },
      "outputs": [
        {
          "name": "stdout",
          "output_type": "stream",
          "text": [
            " Logistic Regression Performance on Raw Data:\n",
            "Accuracy: 0.7775264721967805\n",
            "              precision    recall  f1-score   support\n",
            "\n",
            "         0.0       0.00      0.00      0.00    135053\n",
            "         1.0       0.78      1.00      0.87    471999\n",
            "\n",
            "    accuracy                           0.78    607052\n",
            "   macro avg       0.39      0.50      0.44    607052\n",
            "weighted avg       0.60      0.78      0.68    607052\n",
            "\n"
          ]
        },
        {
          "name": "stderr",
          "output_type": "stream",
          "text": [
            "/opt/conda/lib/python3.11/site-packages/sklearn/metrics/_classification.py:1517: UndefinedMetricWarning: Precision is ill-defined and being set to 0.0 in labels with no predicted samples. Use `zero_division` parameter to control this behavior.\n",
            "  _warn_prf(average, modifier, f\"{metric.capitalize()} is\", len(result))\n",
            "/opt/conda/lib/python3.11/site-packages/sklearn/metrics/_classification.py:1517: UndefinedMetricWarning: Precision is ill-defined and being set to 0.0 in labels with no predicted samples. Use `zero_division` parameter to control this behavior.\n",
            "  _warn_prf(average, modifier, f\"{metric.capitalize()} is\", len(result))\n",
            "/opt/conda/lib/python3.11/site-packages/sklearn/metrics/_classification.py:1517: UndefinedMetricWarning: Precision is ill-defined and being set to 0.0 in labels with no predicted samples. Use `zero_division` parameter to control this behavior.\n",
            "  _warn_prf(average, modifier, f\"{metric.capitalize()} is\", len(result))\n"
          ]
        }
      ],
      "source": [
        "import awswrangler as wr\n",
        "import pandas as pd\n",
        "from sklearn.model_selection import train_test_split\n",
        "from sklearn.preprocessing import StandardScaler\n",
        "from sklearn.linear_model import LogisticRegression\n",
        "from sklearn.metrics import accuracy_score, classification_report\n",
        "\n",
        "#  Loading Raw Training Data\n",
        "raw_train_path = \"s3://sagemaker-us-east-1-921916832724/data-lake/Project/partitioned_split/train/\"\n",
        "df_raw = wr.s3.read_parquet(raw_train_path)\n",
        "\n",
        "#  Selecting Features & Target\n",
        "X_raw = df_raw[[\"user_id\", \"product_id\", \"aisle_id\", \"department_id\"]]\n",
        "y_raw = df_raw[\"reordered\"]\n",
        "\n",
        "#  Split Data into Train and Validation Sets\n",
        "X_train_raw, X_val_raw, y_train_raw, y_val_raw = train_test_split(X_raw, y_raw, test_size=0.2, random_state=42)\n",
        "\n",
        "#  Normalize Data (Optional)\n",
        "scaler = StandardScaler()\n",
        "X_train_raw_scaled = scaler.fit_transform(X_train_raw)\n",
        "X_val_raw_scaled = scaler.transform(X_val_raw)\n",
        "\n",
        "#  Train Logistic Regression Model on Raw Data\n",
        "log_reg_raw = LogisticRegression(max_iter=1000, random_state=42)\n",
        "log_reg_raw.fit(X_train_raw_scaled, y_train_raw)\n",
        "\n",
        "#  Predictions on Validation Set\n",
        "y_pred_raw = log_reg_raw.predict(X_val_raw_scaled)\n",
        "\n",
        "#  Evaluating Model\n",
        "print(\" Logistic Regression Performance on Raw Data:\")\n",
        "print(\"Accuracy:\", accuracy_score(y_val_raw, y_pred_raw))\n",
        "print(classification_report(y_val_raw, y_pred_raw))\n"
      ]
    },
    {
      "cell_type": "markdown",
      "id": "8ca36c97-88f1-4d10-be74-67bee7cb90cb",
      "metadata": {
        "id": "8ca36c97-88f1-4d10-be74-67bee7cb90cb"
      },
      "source": [
        "- **Observations from Logistic Regression on RAW Data**\n",
        "\n",
        "    - Accuracy: 77.75%\n",
        "    - F1-Score (Weighted Avg): 68%\n",
        "    - Precision for Class 0 is 0.00  (Model is not predicting non-reorders at all)\n",
        "    - Recall for Class 1 is 1.00, which means the model predicts almost everything as reordered (1).\n",
        "\n",
        "- Issues with the Model\n",
        "    - Severe Class Imbalance:\n",
        "        - The dataset has 471,999 reordered (1) vs. 135,053 not reordered (0).\n",
        "        - The model is likely biased toward predicting everything as reordered.\n",
        "\n",
        "- Zero Precision for Class 0:\n",
        "The model never predicts non-reorders, meaning it completely ignores that class.\n",
        "\n",
        "High Recall but Low Precision:\n",
        "It catches most reorders but makes many false positives.\n",
        "Not useful if we want accurate reorder predictions."
      ]
    },
    {
      "cell_type": "markdown",
      "id": "a021ca83-bf8f-4cbf-b169-13ac08e725f5",
      "metadata": {
        "id": "a021ca83-bf8f-4cbf-b169-13ac08e725f5"
      },
      "source": [
        "###  Updated Logistic Regression (With Class Weights)"
      ]
    },
    {
      "cell_type": "code",
      "execution_count": null,
      "id": "fb30c301-cd19-42cc-a544-4bf39d174ec5",
      "metadata": {
        "tags": [],
        "id": "fb30c301-cd19-42cc-a544-4bf39d174ec5",
        "outputId": "4e58861c-e867-414d-e616-e525fb2fc89a"
      },
      "outputs": [
        {
          "name": "stdout",
          "output_type": "stream",
          "text": [
            "🔹 Logistic Regression (Balanced Classes) Performance on Raw Data:\n",
            "Accuracy: 0.5492741972681088\n",
            "              precision    recall  f1-score   support\n",
            "\n",
            "         0.0       0.24      0.48      0.32    135053\n",
            "         1.0       0.79      0.57      0.66    471999\n",
            "\n",
            "    accuracy                           0.55    607052\n",
            "   macro avg       0.52      0.52      0.49    607052\n",
            "weighted avg       0.67      0.55      0.59    607052\n",
            "\n"
          ]
        }
      ],
      "source": [
        "# Training Logistic Regression with Class Weights\n",
        "log_reg_weighted = LogisticRegression(max_iter=1000, random_state=42, class_weight=\"balanced\")\n",
        "log_reg_weighted.fit(X_train_raw_scaled, y_train_raw)\n",
        "\n",
        "# Predictions\n",
        "y_pred_weighted = log_reg_weighted.predict(X_val_raw_scaled)\n",
        "\n",
        "# Evaluate Model\n",
        "print(\"🔹 Logistic Regression (Balanced Classes) Performance on Raw Data:\")\n",
        "print(\"Accuracy:\", accuracy_score(y_val_raw, y_pred_weighted))\n",
        "print(classification_report(y_val_raw, y_pred_weighted))\n"
      ]
    },
    {
      "cell_type": "markdown",
      "id": "bd6d2196-802c-4f69-9bd9-562cfad3f025",
      "metadata": {
        "id": "bd6d2196-802c-4f69-9bd9-562cfad3f025"
      },
      "source": [
        " **Observations from Logistic Regression (Balanced Classes) on RAW Data**\n",
        "\n",
        "\n",
        "- Accuracy: 54.9%  (Dropped from 77.75%)\n",
        "- Precision (Class 0): 24% (Now at least predicting some non-reorders)\n",
        "- Recall (Class 0): 48% (Improved from 0%)\n",
        "- Precision (Class 1): 79%  (Dropped, but still decent)\n",
        "- Recall (Class 1): 57%  (Worse than before, but balanced)\n",
        "- Weighted F1-Score: 59%  (More balanced than before)"
      ]
    },
    {
      "cell_type": "markdown",
      "id": "00c1929e-034a-4cae-9807-fac68b8c9e18",
      "metadata": {
        "id": "00c1929e-034a-4cae-9807-fac68b8c9e18"
      },
      "source": [
        "**Key Takeaways**\n",
        "\n",
        "- Improvement:\n",
        "\n",
        "    - The model now predicts some non-reorders (0), which is a step forward.\n",
        "    - The recall for non-reorders (48%) is better than before (0%).\n",
        "\n",
        "- Trade-offs:\n",
        "\n",
        "- Accuracy dropped (because the model is now making more mistakes overall)\n",
        "- Class 1 (Reorders) recall fell from 100% → 57%.\n",
        "\n",
        "Better balance overall, but not ideal. The model still struggles with predicting non-reorders accurately."
      ]
    },
    {
      "cell_type": "markdown",
      "id": "dbc183ab-2831-431c-be33-966cab03e19f",
      "metadata": {
        "tags": [],
        "id": "dbc183ab-2831-431c-be33-966cab03e19f"
      },
      "source": [
        "## Logistic Regression Model using the Feature Store Data (Aggregated)"
      ]
    },
    {
      "cell_type": "markdown",
      "id": "153e94a4-c495-42fe-bc67-9494104b783a",
      "metadata": {
        "id": "153e94a4-c495-42fe-bc67-9494104b783a"
      },
      "source": [
        "### Loading Feature-Engineered Dataset"
      ]
    },
    {
      "cell_type": "code",
      "execution_count": null,
      "id": "3472af55-f854-442d-b7b6-d874f5990ce0",
      "metadata": {
        "id": "3472af55-f854-442d-b7b6-d874f5990ce0"
      },
      "outputs": [],
      "source": [
        "# Adding \"reordered column back to the merged-feature-engineered-dataset\". This step is done since I forgot to add the target column to the feature engineering agreggated dataset."
      ]
    },
    {
      "cell_type": "code",
      "execution_count": null,
      "id": "c9773c10-9f36-479c-b0ff-ae1b99b40b65",
      "metadata": {
        "tags": [],
        "id": "c9773c10-9f36-479c-b0ff-ae1b99b40b65",
        "outputId": "e39d1a85-9de9-44b3-a21b-6410c6830383"
      },
      "outputs": [
        {
          "name": "stdout",
          "output_type": "stream",
          "text": [
            " Original Training Dataset Loaded Successfully!\n",
            "   user_id  product_id  reordered  department_id\n",
            "0   128551       35213          0              3\n",
            "1    62525       18027          1              3\n",
            "2    54959       15294          1              3\n",
            "3   152685       16262          1              3\n",
            "4    21651       30561          1              3\n",
            " Feature Store Dataset Loaded Successfully!\n",
            "   user_id  product_id             aisle  user_total_orders  \\\n",
            "0   128551       35213             bread                 29   \n",
            "1   152685       16262  breakfast bakery                 45   \n",
            "2    21651       30561  breakfast bakery                 67   \n",
            "3   131529       20144             bread                 36   \n",
            "4    27108       29299             bread                 54   \n",
            "\n",
            "   user_reorder_ratio  user_avg_items_per_order  product_total_orders  \\\n",
            "0                   0                         5                   331   \n",
            "1                   0                         4                  1150   \n",
            "2                   0                         6                  1039   \n",
            "3                   0                         6                   218   \n",
            "4                   0                         6                    42   \n",
            "\n",
            "   product_reorder_ratio  product_unique_users  department_reorder_ratio  \\\n",
            "0                      0                    89                         0   \n",
            "1                      0                   318                         0   \n",
            "2                      0                   360                         0   \n",
            "3                      0                    51                         0   \n",
            "4                      0                    11                         0   \n",
            "\n",
            "   aisle_reorder_ratio  \n",
            "0                    0  \n",
            "1                    0  \n",
            "2                    0  \n",
            "3                    0  \n",
            "4                    0  \n",
            "Columns in df_train: Index(['user_id', 'product_id', 'reordered', 'department_id'], dtype='object')\n",
            "Columns in df_features: Index(['user_id', 'product_id', 'aisle', 'user_total_orders',\n",
            "       'user_reorder_ratio', 'user_avg_items_per_order',\n",
            "       'product_total_orders', 'product_reorder_ratio', 'product_unique_users',\n",
            "       'department_reorder_ratio', 'aisle_reorder_ratio'],\n",
            "      dtype='object')\n",
            " Successfully Merged `reordered` and `department` Columns!\n",
            "   user_id  product_id  aisle  user_total_orders  user_reorder_ratio  \\\n",
            "0   128551       35213  bread                 29                   0   \n",
            "1   128551       35213  bread                 29                   0   \n",
            "2   128551       35213  bread                 29                   0   \n",
            "3   128551       35213  bread                 29                   0   \n",
            "4   128551       35213  bread                 29                   0   \n",
            "\n",
            "   user_avg_items_per_order  product_total_orders  product_reorder_ratio  \\\n",
            "0                         5                   331                      0   \n",
            "1                         5                   331                      0   \n",
            "2                         5                   331                      0   \n",
            "3                         5                   331                      0   \n",
            "4                         5                   331                      0   \n",
            "\n",
            "   product_unique_users  department_reorder_ratio  aisle_reorder_ratio  \\\n",
            "0                    89                         0                    0   \n",
            "1                    89                         0                    0   \n",
            "2                    89                         0                    0   \n",
            "3                    89                         0                    0   \n",
            "4                    89                         0                    0   \n",
            "\n",
            "   reordered  department_id department  \n",
            "0          0              3     bakery  \n",
            "1          1              3     bakery  \n",
            "2          1              3     bakery  \n",
            "3          1              3     bakery  \n",
            "4          1              3     bakery  \n",
            " Feature Store Dataset with `reordered` and `department` Column Saved Successfully!\n"
          ]
        }
      ],
      "source": [
        "import awswrangler as wr\n",
        "\n",
        "# Loading the Original Training Dataset (Partitioned by Department)\n",
        "original_train_s3_path = \"s3://sagemaker-us-east-1-921916832724/data-lake/Project/partitioned_split/train/\"\n",
        "df_train = wr.s3.read_parquet(original_train_s3_path, columns=[\"user_id\", \"product_id\", \"reordered\", \"department\", \"department_id\"])\n",
        "\n",
        "print(\" Original Training Dataset Loaded Successfully!\")\n",
        "print(df_train.head())\n",
        "\n",
        "# Loading the Feature Store Dataset (Without `reordered`)\n",
        "feature_store_s3_path = \"s3://sagemaker-us-east-1-921916832724/data-lake/Project/merged_features/\"\n",
        "df_features = wr.s3.read_parquet(feature_store_s3_path)\n",
        "\n",
        "print(\" Feature Store Dataset Loaded Successfully!\")\n",
        "print(df_features.head())\n",
        "\n",
        "# Verifying Column Names\n",
        "print(\"Columns in df_train:\", df_train.columns)\n",
        "print(\"Columns in df_features:\", df_features.columns)\n",
        "\n",
        "# Merging `reordered` and `department` Column Back\n",
        "df_updated_features = df_features.merge(df_train, on=[\"user_id\", \"product_id\"], how=\"left\")\n",
        "\n",
        "# If department is missing, check for `department_id`\n",
        "if \"department\" not in df_updated_features.columns and \"department_id\" in df_updated_features.columns:\n",
        "    # Mapping department_id to department name (if needed)\n",
        "    department_mapping = {\n",
        "        1: \"frozen\", 2: \"other\", 3: \"bakery\", 4: \"produce\", 5: \"alcohol\",\n",
        "        6: \"international\", 7: \"beverages\", 8: \"pets\", 9: \"dry goods pasta\",\n",
        "        10: \"bulk\", 11: \"personal care\", 12: \"meat seafood\", 13: \"pantry\",\n",
        "        14: \"breakfast\", 15: \"canned goods\", 16: \"dairy eggs\", 17: \"household\",\n",
        "        18: \"babies\", 19: \"snacks\", 20: \"deli\", 21: \"missing\"\n",
        "    }\n",
        "    df_updated_features[\"department\"] = df_updated_features[\"department_id\"].map(department_mapping)\n",
        "\n",
        "print(\" Successfully Merged `reordered` and `department` Columns!\")\n",
        "print(df_updated_features.head())\n",
        "\n",
        "# Verifying \"department\" Column Exists Before Saving\n",
        "if \"department\" not in df_updated_features.columns:\n",
        "    raise ValueError(\"❌ ERROR: The `department` column is STILL missing from the merged dataset!\")\n",
        "\n",
        "# Saving the Updated Dataset with `reordered` and `department`\n",
        "updated_feature_store_path = \"s3://sagemaker-us-east-1-921916832724/data-lake/Project/features_with_reorder/\"\n",
        "wr.s3.to_parquet(\n",
        "    df=df_updated_features,\n",
        "    path=updated_feature_store_path,\n",
        "    dataset=True,\n",
        "    mode=\"overwrite\",\n",
        "    partition_cols=[\"department\"],  # Ensuring correct partitioning\n",
        "    compression=\"snappy\"\n",
        ")\n",
        "\n",
        "print(\" Feature Store Dataset with `reordered` and `department` Column Saved Successfully!\")\n"
      ]
    },
    {
      "cell_type": "markdown",
      "id": "e480c263-3efa-4041-a887-ad14a218369d",
      "metadata": {
        "tags": [],
        "id": "e480c263-3efa-4041-a887-ad14a218369d"
      },
      "source": [
        "## Training Logistic Regression on Feature-Engineered Data"
      ]
    },
    {
      "cell_type": "code",
      "execution_count": null,
      "id": "f80f4dce-9f26-447a-8200-c8add18d4ba8",
      "metadata": {
        "tags": [],
        "id": "f80f4dce-9f26-447a-8200-c8add18d4ba8",
        "outputId": "72ac3952-2592-4bc5-e463-3684cb17b26c"
      },
      "outputs": [
        {
          "name": "stdout",
          "output_type": "stream",
          "text": [
            "🔹 Logistic Regression Performance on Feature Store Data:\n",
            "Accuracy: 0.5167885066790046\n",
            "              precision    recall  f1-score   support\n",
            "\n",
            "         0.0       0.11      0.67      0.19    319858\n",
            "         1.0       0.94      0.50      0.66   3449566\n",
            "\n",
            "    accuracy                           0.52   3769424\n",
            "   macro avg       0.53      0.59      0.42   3769424\n",
            "weighted avg       0.87      0.52      0.62   3769424\n",
            "\n"
          ]
        }
      ],
      "source": [
        "import awswrangler as wr\n",
        "import pandas as pd\n",
        "from sklearn.model_selection import train_test_split\n",
        "from sklearn.preprocessing import StandardScaler, LabelEncoder\n",
        "from sklearn.linear_model import LogisticRegression\n",
        "from sklearn.metrics import accuracy_score, classification_report\n",
        "\n",
        "#  Loading Feature Engineered Training Data\n",
        "feature_store_path = \"s3://sagemaker-us-east-1-921916832724/data-lake/Project/features_with_reorder/\"\n",
        "df_features = wr.s3.read_parquet(feature_store_path)\n",
        "\n",
        "#  Selecting Features & Target (Keeping `department_id`)\n",
        "X_features = df_features.drop(columns=[\"user_id\", \"product_id\", \"reordered\"])\n",
        "y_features = df_features[\"reordered\"]\n",
        "\n",
        "#  Converting Categorical Column \"aisle\" to Numerical (Label Encoding)\n",
        "label_encoder = LabelEncoder()\n",
        "X_features[\"aisle\"] = label_encoder.fit_transform(X_features[\"aisle\"])\n",
        "\n",
        "#  Splitting Train-Validation Set\n",
        "X_train_features, X_val_features, y_train_features, y_val_features = train_test_split(\n",
        "    X_features, y_features, test_size=0.2, random_state=42\n",
        ")\n",
        "\n",
        "#  Normalizing Features\n",
        "scaler = StandardScaler()\n",
        "X_train_features_scaled = scaler.fit_transform(X_train_features)\n",
        "X_val_features_scaled = scaler.transform(X_val_features)\n",
        "\n",
        "#  Training Logistic Regression on Feature Store Data\n",
        "log_reg_features = LogisticRegression(max_iter=1000, random_state=42, class_weight=\"balanced\")\n",
        "log_reg_features.fit(X_train_features_scaled, y_train_features)\n",
        "\n",
        "#  Predictions\n",
        "y_pred_features = log_reg_features.predict(X_val_features_scaled)\n",
        "\n",
        "#  Evaluation\n",
        "print(\"🔹 Logistic Regression Performance on Feature Store Data:\")\n",
        "print(\"Accuracy:\", accuracy_score(y_val_features, y_pred_features))\n",
        "print(classification_report(y_val_features, y_pred_features))\n",
        "\n"
      ]
    },
    {
      "cell_type": "markdown",
      "id": "977ac817-6491-49f0-973b-fccc1ddd2a84",
      "metadata": {
        "id": "977ac817-6491-49f0-973b-fccc1ddd2a84"
      },
      "source": [
        "-  ** Key Observations **\n",
        "\n",
        "\n",
        "- Higher Precision on Feature Store Model:\n",
        "\n",
        "    - The model trained on feature-engineered data has much better precision (0.94) for predicting reordered products compared to raw data (0.79).\n",
        "    - This means fewer false positives—when the model predicts a reorder, it's more likely to be correct.\n",
        "\n",
        "- Lower Recall on Feature Store Model:\n",
        "\n",
        "    - Recall dropped from 0.57 (raw) to 0.50 (features).\n",
        "    - This suggests the model is missing some reorders, likely because of the feature transformations.\n",
        "\n",
        "- Similar F1-Score:\n",
        "\n",
        "    - Despite recall decreasing, the F1-score remains the same (0.66), meaning overall predictive performance is stable.\n",
        "\n",
        "- ccuracy Decreased:\n",
        "\n",
        "    - Feature Store Model: 51.7%\n",
        "    - Raw Data Model: 54.9%\n",
        "\n",
        "The drop in accuracy suggests that feature transformations changed the class balance, but it’s expected since we engineered new feature sets."
      ]
    },
    {
      "cell_type": "markdown",
      "id": "11a00d95-b380-4860-bc97-ed85b56d3e4b",
      "metadata": {
        "id": "11a00d95-b380-4860-bc97-ed85b56d3e4b"
      },
      "source": [
        "Next, I am going to try XGBoost. Which is efficient and handles large datasets well. It is powerful for imbalanced datasets and works well with both raw and engineered features.\n",
        "\n",
        "I am going to apply XGBoost in the RAW dataset first to later apply it in the Feature Store dataset."
      ]
    },
    {
      "cell_type": "markdown",
      "id": "48036098-2e9d-405b-b541-538c0f00fb9c",
      "metadata": {
        "id": "48036098-2e9d-405b-b541-538c0f00fb9c"
      },
      "source": [
        "!pip install xgboost\n",
        "# Training with XGBoost on Raw Dataset"
      ]
    },
    {
      "cell_type": "code",
      "execution_count": null,
      "id": "1fe052dc-8cf4-422f-bb7f-7112e6d75e6e",
      "metadata": {
        "tags": [],
        "id": "1fe052dc-8cf4-422f-bb7f-7112e6d75e6e",
        "outputId": "f0e7a6c1-4268-4fed-d897-e0dcb06e58d3"
      },
      "outputs": [
        {
          "name": "stdout",
          "output_type": "stream",
          "text": [
            "Requirement already satisfied: xgboost in /opt/conda/lib/python3.11/site-packages (2.1.4)\n",
            "Requirement already satisfied: numpy in /opt/conda/lib/python3.11/site-packages (from xgboost) (1.26.4)\n",
            "Requirement already satisfied: nvidia-nccl-cu12 in /opt/conda/lib/python3.11/site-packages (from xgboost) (2.25.1)\n",
            "Requirement already satisfied: scipy in /opt/conda/lib/python3.11/site-packages (from xgboost) (1.13.1)\n",
            "\u001b[33mWARNING: Running pip as the 'root' user can result in broken permissions and conflicting behaviour with the system package manager. It is recommended to use a virtual environment instead: https://pip.pypa.io/warnings/venv\u001b[0m\u001b[33m\n",
            "\u001b[0m"
          ]
        }
      ],
      "source": [
        "!pip install xgboost\n"
      ]
    },
    {
      "cell_type": "code",
      "execution_count": null,
      "id": "cf49f584-5166-49e0-9492-5eedeb69fc3e",
      "metadata": {
        "tags": [],
        "id": "cf49f584-5166-49e0-9492-5eedeb69fc3e",
        "outputId": "c924881b-d81a-4f49-ff0d-1acd34d97803"
      },
      "outputs": [
        {
          "name": "stdout",
          "output_type": "stream",
          "text": [
            "✅ Raw Training & Validation Data Loaded!\n"
          ]
        },
        {
          "name": "stderr",
          "output_type": "stream",
          "text": [
            "/tmp/ipykernel_667/689766982.py:34: SettingWithCopyWarning: \n",
            "A value is trying to be set on a copy of a slice from a DataFrame.\n",
            "Try using .loc[row_indexer,col_indexer] = value instead\n",
            "\n",
            "See the caveats in the documentation: https://pandas.pydata.org/pandas-docs/stable/user_guide/indexing.html#returning-a-view-versus-a-copy\n",
            "  X_train_raw[\"aisle_id\"] = label_encoder_aisle.transform(X_train_raw[\"aisle_id\"])\n",
            "/tmp/ipykernel_667/689766982.py:35: SettingWithCopyWarning: \n",
            "A value is trying to be set on a copy of a slice from a DataFrame.\n",
            "Try using .loc[row_indexer,col_indexer] = value instead\n",
            "\n",
            "See the caveats in the documentation: https://pandas.pydata.org/pandas-docs/stable/user_guide/indexing.html#returning-a-view-versus-a-copy\n",
            "  X_train_raw[\"department_id\"] = label_encoder_department.transform(X_train_raw[\"department_id\"])\n",
            "/tmp/ipykernel_667/689766982.py:36: SettingWithCopyWarning: \n",
            "A value is trying to be set on a copy of a slice from a DataFrame.\n",
            "Try using .loc[row_indexer,col_indexer] = value instead\n",
            "\n",
            "See the caveats in the documentation: https://pandas.pydata.org/pandas-docs/stable/user_guide/indexing.html#returning-a-view-versus-a-copy\n",
            "  X_val_raw[\"aisle_id\"] = label_encoder_aisle.transform(X_val_raw[\"aisle_id\"])\n",
            "/tmp/ipykernel_667/689766982.py:37: SettingWithCopyWarning: \n",
            "A value is trying to be set on a copy of a slice from a DataFrame.\n",
            "Try using .loc[row_indexer,col_indexer] = value instead\n",
            "\n",
            "See the caveats in the documentation: https://pandas.pydata.org/pandas-docs/stable/user_guide/indexing.html#returning-a-view-versus-a-copy\n",
            "  X_val_raw[\"department_id\"] = label_encoder_department.transform(X_val_raw[\"department_id\"])\n"
          ]
        },
        {
          "name": "stdout",
          "output_type": "stream",
          "text": [
            "✅ XGBoost Performance on Raw Data:\n",
            "Accuracy: 0.7780400280963657\n",
            "              precision    recall  f1-score   support\n",
            "\n",
            "         0.0       0.56      0.02      0.04    169220\n",
            "         1.0       0.78      1.00      0.87    589597\n",
            "\n",
            "    accuracy                           0.78    758817\n",
            "   macro avg       0.67      0.51      0.46    758817\n",
            "weighted avg       0.73      0.78      0.69    758817\n",
            "\n"
          ]
        }
      ],
      "source": [
        "import awswrangler as wr\n",
        "import pandas as pd\n",
        "import xgboost as xgb\n",
        "from sklearn.preprocessing import StandardScaler, LabelEncoder\n",
        "from sklearn.metrics import accuracy_score, classification_report\n",
        "\n",
        "# Load Training & Validation Data\n",
        "raw_train_s3_path = \"s3://sagemaker-us-east-1-921916832724/data-lake/Project/partitioned_split/train/\"\n",
        "raw_validation_s3_path = \"s3://sagemaker-us-east-1-921916832724/data-lake/Project/partitioned_split/validation/\"\n",
        "\n",
        "df_train_raw = wr.s3.read_parquet(raw_train_s3_path)\n",
        "df_validation_raw = wr.s3.read_parquet(raw_validation_s3_path)\n",
        "\n",
        "print(\"✅ Raw Training & Validation Data Loaded!\")\n",
        "\n",
        "# Selecting Features & Target\n",
        "X_train_raw = df_train_raw[[\"user_id\", \"product_id\", \"aisle_id\", \"department_id\"]]\n",
        "y_train_raw = df_train_raw[\"reordered\"]\n",
        "X_val_raw = df_validation_raw[[\"user_id\", \"product_id\", \"aisle_id\", \"department_id\"]]\n",
        "y_val_raw = df_validation_raw[\"reordered\"]\n",
        "\n",
        "# 🔹 **Fix Label Encoding Issue**\n",
        "label_encoder_aisle = LabelEncoder()\n",
        "label_encoder_department = LabelEncoder()\n",
        "\n",
        "# Fit label encoders on combined data (train + validation) to prevent unseen labels issue\n",
        "all_aisle_ids = pd.concat([X_train_raw[\"aisle_id\"], X_val_raw[\"aisle_id\"]])\n",
        "all_department_ids = pd.concat([X_train_raw[\"department_id\"], X_val_raw[\"department_id\"]])\n",
        "\n",
        "label_encoder_aisle.fit(all_aisle_ids)\n",
        "label_encoder_department.fit(all_department_ids)\n",
        "\n",
        "# Transform the train and validation sets using the fitted encoders\n",
        "X_train_raw[\"aisle_id\"] = label_encoder_aisle.transform(X_train_raw[\"aisle_id\"])\n",
        "X_train_raw[\"department_id\"] = label_encoder_department.transform(X_train_raw[\"department_id\"])\n",
        "X_val_raw[\"aisle_id\"] = label_encoder_aisle.transform(X_val_raw[\"aisle_id\"])\n",
        "X_val_raw[\"department_id\"] = label_encoder_department.transform(X_val_raw[\"department_id\"])\n",
        "\n",
        "# Normalize Features\n",
        "scaler = StandardScaler()\n",
        "X_train_raw_scaled = scaler.fit_transform(X_train_raw)\n",
        "X_val_raw_scaled = scaler.transform(X_val_raw)\n",
        "\n",
        "# Train XGBoost Model\n",
        "xgb_model = xgb.XGBClassifier(n_estimators=100, max_depth=6, learning_rate=0.1, random_state=42)\n",
        "xgb_model.fit(X_train_raw_scaled, y_train_raw)\n",
        "\n",
        "# Predictions\n",
        "y_pred_xgb = xgb_model.predict(X_val_raw_scaled)\n",
        "\n",
        "# Evaluate Model\n",
        "print(\"✅ XGBoost Performance on Raw Data:\")\n",
        "print(\"Accuracy:\", accuracy_score(y_val_raw, y_pred_xgb))\n",
        "print(classification_report(y_val_raw, y_pred_xgb))\n"
      ]
    },
    {
      "cell_type": "markdown",
      "id": "1faf0f80-8990-45a3-92cb-6cb51980fbf1",
      "metadata": {
        "id": "1faf0f80-8990-45a3-92cb-6cb51980fbf1"
      },
      "source": [
        "# XGBoost Model Results Analysis\n",
        " - The XGBoost model on raw data achieved 77.8% accuracy, but we need to analyze the imbalance further:\n",
        "\n",
        "    - Precision (0.56) for Class 0: Indicates that many of the predicted non-reorders (0) were false positives.\n",
        "    - Recall (0.02) for Class 0: Very low, meaning the model struggles to detect non-reorders (0).\n",
        "    - Recall (1.00) for Class 1: The model classifies most orders as reorders (1), likely because of class imbalance."
      ]
    },
    {
      "cell_type": "markdown",
      "id": "f312ec3f-a8a8-4907-b230-d4814d104289",
      "metadata": {
        "id": "f312ec3f-a8a8-4907-b230-d4814d104289"
      },
      "source": [
        "## Adjusting Scale_pos_weight, since reorder=1 is much more frequent, we should adjust the balance"
      ]
    },
    {
      "cell_type": "markdown",
      "id": "400b0983-e764-496b-acad-6cb8f8dedad5",
      "metadata": {
        "id": "400b0983-e764-496b-acad-6cb8f8dedad5"
      },
      "source": [
        "To calculate the imbalance ratio:\n",
        "\n",
        "This is computed as:\n",
        "- scale_pos_weight = count of class 0 (non-reorders) / count of class 1 (reorders)\n",
        "\n"
      ]
    },
    {
      "cell_type": "code",
      "execution_count": null,
      "id": "6254378f-48db-4940-b4f2-0729779ba366",
      "metadata": {
        "tags": [],
        "id": "6254378f-48db-4940-b4f2-0729779ba366",
        "outputId": "559db296-7021-48ee-f7f2-79fbd8a724e0"
      },
      "outputs": [
        {
          "name": "stdout",
          "output_type": "stream",
          "text": [
            "Computed scale_pos_weight: 0.2855\n",
            "\n",
            "🔹 XGBoost Performance with scale_pos_weight:\n",
            "Accuracy: 0.5775793109537609\n",
            "              precision    recall  f1-score   support\n",
            "\n",
            "         0.0       0.30      0.65      0.41    169220\n",
            "         1.0       0.85      0.56      0.67    589597\n",
            "\n",
            "    accuracy                           0.58    758817\n",
            "   macro avg       0.57      0.60      0.54    758817\n",
            "weighted avg       0.72      0.58      0.61    758817\n",
            "\n"
          ]
        }
      ],
      "source": [
        "import xgboost as xgb\n",
        "from collections import Counter\n",
        "from sklearn.metrics import accuracy_score, classification_report\n",
        "\n",
        "#  Step 1: Compute scale_pos_weight\n",
        "class_counts = Counter(y_train_raw)\n",
        "scale_pos_weight = class_counts[0] / class_counts[1]\n",
        "print(f\"Computed scale_pos_weight: {scale_pos_weight:.4f}\")\n",
        "\n",
        "# Step 2: Train XGBoost with the new weight\n",
        "xgb_model_weighted = xgb.XGBClassifier(\n",
        "    n_estimators=100,\n",
        "    max_depth=6,\n",
        "    learning_rate=0.1,\n",
        "    scale_pos_weight=scale_pos_weight,  # Apply the weight\n",
        "    random_state=42\n",
        ")\n",
        "\n",
        "xgb_model_weighted.fit(X_train_raw_scaled, y_train_raw)\n",
        "\n",
        "# Step 3: Predictions\n",
        "y_pred_weighted = xgb_model_weighted.predict(X_val_raw_scaled)\n",
        "\n",
        "# Step 4: Evaluate Performance\n",
        "print(\"\\n🔹 XGBoost Performance with scale_pos_weight:\")\n",
        "print(\"Accuracy:\", accuracy_score(y_val_raw, y_pred_weighted))\n",
        "print(classification_report(y_val_raw, y_pred_weighted))\n"
      ]
    },
    {
      "cell_type": "markdown",
      "id": "914cf158-5601-4b69-8b57-81ec93fd035e",
      "metadata": {
        "id": "914cf158-5601-4b69-8b57-81ec93fd035e"
      },
      "source": [
        "**Key Observations**:\n",
        "\n",
        "- Recall for Class 0 (Non-reorders) jumped from 2% ➝ 65%\n",
        "- Recall for Class 1 (Reorders) dropped from 100% ➝ 56% (expected tradeoff)\n",
        "- Overall Accuracy: 57.76% (slightly lower than before, but recall is better balanced)"
      ]
    },
    {
      "cell_type": "markdown",
      "id": "f145f1a5-6599-414b-a279-41d795429787",
      "metadata": {
        "tags": [],
        "id": "f145f1a5-6599-414b-a279-41d795429787"
      },
      "source": [
        "## Fine Tuning XGBoost on Raw Training Dataset"
      ]
    },
    {
      "cell_type": "code",
      "execution_count": null,
      "id": "901a987e-eee7-4d7d-acf2-ca973dfba03b",
      "metadata": {
        "tags": [],
        "id": "901a987e-eee7-4d7d-acf2-ca973dfba03b",
        "outputId": "e2b6d3a9-ff10-484c-8db0-957d3fe1c12b"
      },
      "outputs": [
        {
          "name": "stdout",
          "output_type": "stream",
          "text": [
            "\n",
            "🔹 Fine-Tuned XGBoost Performance:\n",
            "Accuracy: 0.7357136173807387\n",
            "              precision    recall  f1-score   support\n",
            "\n",
            "         0.0       0.38      0.30      0.34    169220\n",
            "         1.0       0.81      0.86      0.83    589597\n",
            "\n",
            "    accuracy                           0.74    758817\n",
            "   macro avg       0.60      0.58      0.59    758817\n",
            "weighted avg       0.72      0.74      0.72    758817\n",
            "\n"
          ]
        }
      ],
      "source": [
        "xgb_model_tuned = xgb.XGBClassifier(\n",
        "    n_estimators=200,  # Increasing trees for better learning\n",
        "    max_depth=8,       # Allowing deeper splits\n",
        "    learning_rate=0.05, # Reducing step size\n",
        "    scale_pos_weight=0.4,  # Adjusting class balancing weight\n",
        "    eval_metric=\"auc\",\n",
        "    random_state=42\n",
        ")\n",
        "\n",
        "xgb_model_tuned.fit(X_train_raw_scaled, y_train_raw)\n",
        "y_pred_tuned = xgb_model_tuned.predict(X_val_raw_scaled)\n",
        "\n",
        "# Evaluating\n",
        "print(\"\\n🔹 Fine-Tuned XGBoost Performance:\")\n",
        "print(\"Accuracy:\", accuracy_score(y_val_raw, y_pred_tuned))\n",
        "print(classification_report(y_val_raw, y_pred_tuned))\n"
      ]
    },
    {
      "cell_type": "markdown",
      "id": "9c9f92cc-bfd2-4f87-9e44-b96104670d80",
      "metadata": {
        "id": "9c9f92cc-bfd2-4f87-9e44-b96104670d80"
      },
      "source": [
        "- **Key Takeaways from Fine-Tuned XGBoost**:\n",
        "    - Accuracy: 73.57% (Improved from 57.76%)\n",
        "    - Recall for Class 0 (Non-reorders): 30% (Better than 2% before)\n",
        "    - Recall for Class 1 (Reorders): 86% (Still strong)\n",
        "    - Precision & F1-score improved for both classes"
      ]
    }
  ],
  "metadata": {
    "availableInstances": [
      {
        "_defaultOrder": 0,
        "_isFastLaunch": true,
        "category": "General purpose",
        "gpuNum": 0,
        "hideHardwareSpecs": false,
        "memoryGiB": 4,
        "name": "ml.t3.medium",
        "vcpuNum": 2
      },
      {
        "_defaultOrder": 1,
        "_isFastLaunch": false,
        "category": "General purpose",
        "gpuNum": 0,
        "hideHardwareSpecs": false,
        "memoryGiB": 8,
        "name": "ml.t3.large",
        "vcpuNum": 2
      },
      {
        "_defaultOrder": 2,
        "_isFastLaunch": false,
        "category": "General purpose",
        "gpuNum": 0,
        "hideHardwareSpecs": false,
        "memoryGiB": 16,
        "name": "ml.t3.xlarge",
        "vcpuNum": 4
      },
      {
        "_defaultOrder": 3,
        "_isFastLaunch": false,
        "category": "General purpose",
        "gpuNum": 0,
        "hideHardwareSpecs": false,
        "memoryGiB": 32,
        "name": "ml.t3.2xlarge",
        "vcpuNum": 8
      },
      {
        "_defaultOrder": 4,
        "_isFastLaunch": true,
        "category": "General purpose",
        "gpuNum": 0,
        "hideHardwareSpecs": false,
        "memoryGiB": 8,
        "name": "ml.m5.large",
        "vcpuNum": 2
      },
      {
        "_defaultOrder": 5,
        "_isFastLaunch": false,
        "category": "General purpose",
        "gpuNum": 0,
        "hideHardwareSpecs": false,
        "memoryGiB": 16,
        "name": "ml.m5.xlarge",
        "vcpuNum": 4
      },
      {
        "_defaultOrder": 6,
        "_isFastLaunch": false,
        "category": "General purpose",
        "gpuNum": 0,
        "hideHardwareSpecs": false,
        "memoryGiB": 32,
        "name": "ml.m5.2xlarge",
        "vcpuNum": 8
      },
      {
        "_defaultOrder": 7,
        "_isFastLaunch": false,
        "category": "General purpose",
        "gpuNum": 0,
        "hideHardwareSpecs": false,
        "memoryGiB": 64,
        "name": "ml.m5.4xlarge",
        "vcpuNum": 16
      },
      {
        "_defaultOrder": 8,
        "_isFastLaunch": false,
        "category": "General purpose",
        "gpuNum": 0,
        "hideHardwareSpecs": false,
        "memoryGiB": 128,
        "name": "ml.m5.8xlarge",
        "vcpuNum": 32
      },
      {
        "_defaultOrder": 9,
        "_isFastLaunch": false,
        "category": "General purpose",
        "gpuNum": 0,
        "hideHardwareSpecs": false,
        "memoryGiB": 192,
        "name": "ml.m5.12xlarge",
        "vcpuNum": 48
      },
      {
        "_defaultOrder": 10,
        "_isFastLaunch": false,
        "category": "General purpose",
        "gpuNum": 0,
        "hideHardwareSpecs": false,
        "memoryGiB": 256,
        "name": "ml.m5.16xlarge",
        "vcpuNum": 64
      },
      {
        "_defaultOrder": 11,
        "_isFastLaunch": false,
        "category": "General purpose",
        "gpuNum": 0,
        "hideHardwareSpecs": false,
        "memoryGiB": 384,
        "name": "ml.m5.24xlarge",
        "vcpuNum": 96
      },
      {
        "_defaultOrder": 12,
        "_isFastLaunch": false,
        "category": "General purpose",
        "gpuNum": 0,
        "hideHardwareSpecs": false,
        "memoryGiB": 8,
        "name": "ml.m5d.large",
        "vcpuNum": 2
      },
      {
        "_defaultOrder": 13,
        "_isFastLaunch": false,
        "category": "General purpose",
        "gpuNum": 0,
        "hideHardwareSpecs": false,
        "memoryGiB": 16,
        "name": "ml.m5d.xlarge",
        "vcpuNum": 4
      },
      {
        "_defaultOrder": 14,
        "_isFastLaunch": false,
        "category": "General purpose",
        "gpuNum": 0,
        "hideHardwareSpecs": false,
        "memoryGiB": 32,
        "name": "ml.m5d.2xlarge",
        "vcpuNum": 8
      },
      {
        "_defaultOrder": 15,
        "_isFastLaunch": false,
        "category": "General purpose",
        "gpuNum": 0,
        "hideHardwareSpecs": false,
        "memoryGiB": 64,
        "name": "ml.m5d.4xlarge",
        "vcpuNum": 16
      },
      {
        "_defaultOrder": 16,
        "_isFastLaunch": false,
        "category": "General purpose",
        "gpuNum": 0,
        "hideHardwareSpecs": false,
        "memoryGiB": 128,
        "name": "ml.m5d.8xlarge",
        "vcpuNum": 32
      },
      {
        "_defaultOrder": 17,
        "_isFastLaunch": false,
        "category": "General purpose",
        "gpuNum": 0,
        "hideHardwareSpecs": false,
        "memoryGiB": 192,
        "name": "ml.m5d.12xlarge",
        "vcpuNum": 48
      },
      {
        "_defaultOrder": 18,
        "_isFastLaunch": false,
        "category": "General purpose",
        "gpuNum": 0,
        "hideHardwareSpecs": false,
        "memoryGiB": 256,
        "name": "ml.m5d.16xlarge",
        "vcpuNum": 64
      },
      {
        "_defaultOrder": 19,
        "_isFastLaunch": false,
        "category": "General purpose",
        "gpuNum": 0,
        "hideHardwareSpecs": false,
        "memoryGiB": 384,
        "name": "ml.m5d.24xlarge",
        "vcpuNum": 96
      },
      {
        "_defaultOrder": 20,
        "_isFastLaunch": false,
        "category": "General purpose",
        "gpuNum": 0,
        "hideHardwareSpecs": true,
        "memoryGiB": 0,
        "name": "ml.geospatial.interactive",
        "supportedImageNames": [
          "sagemaker-geospatial-v1-0"
        ],
        "vcpuNum": 0
      },
      {
        "_defaultOrder": 21,
        "_isFastLaunch": true,
        "category": "Compute optimized",
        "gpuNum": 0,
        "hideHardwareSpecs": false,
        "memoryGiB": 4,
        "name": "ml.c5.large",
        "vcpuNum": 2
      },
      {
        "_defaultOrder": 22,
        "_isFastLaunch": false,
        "category": "Compute optimized",
        "gpuNum": 0,
        "hideHardwareSpecs": false,
        "memoryGiB": 8,
        "name": "ml.c5.xlarge",
        "vcpuNum": 4
      },
      {
        "_defaultOrder": 23,
        "_isFastLaunch": false,
        "category": "Compute optimized",
        "gpuNum": 0,
        "hideHardwareSpecs": false,
        "memoryGiB": 16,
        "name": "ml.c5.2xlarge",
        "vcpuNum": 8
      },
      {
        "_defaultOrder": 24,
        "_isFastLaunch": false,
        "category": "Compute optimized",
        "gpuNum": 0,
        "hideHardwareSpecs": false,
        "memoryGiB": 32,
        "name": "ml.c5.4xlarge",
        "vcpuNum": 16
      },
      {
        "_defaultOrder": 25,
        "_isFastLaunch": false,
        "category": "Compute optimized",
        "gpuNum": 0,
        "hideHardwareSpecs": false,
        "memoryGiB": 72,
        "name": "ml.c5.9xlarge",
        "vcpuNum": 36
      },
      {
        "_defaultOrder": 26,
        "_isFastLaunch": false,
        "category": "Compute optimized",
        "gpuNum": 0,
        "hideHardwareSpecs": false,
        "memoryGiB": 96,
        "name": "ml.c5.12xlarge",
        "vcpuNum": 48
      },
      {
        "_defaultOrder": 27,
        "_isFastLaunch": false,
        "category": "Compute optimized",
        "gpuNum": 0,
        "hideHardwareSpecs": false,
        "memoryGiB": 144,
        "name": "ml.c5.18xlarge",
        "vcpuNum": 72
      },
      {
        "_defaultOrder": 28,
        "_isFastLaunch": false,
        "category": "Compute optimized",
        "gpuNum": 0,
        "hideHardwareSpecs": false,
        "memoryGiB": 192,
        "name": "ml.c5.24xlarge",
        "vcpuNum": 96
      },
      {
        "_defaultOrder": 29,
        "_isFastLaunch": true,
        "category": "Accelerated computing",
        "gpuNum": 1,
        "hideHardwareSpecs": false,
        "memoryGiB": 16,
        "name": "ml.g4dn.xlarge",
        "vcpuNum": 4
      },
      {
        "_defaultOrder": 30,
        "_isFastLaunch": false,
        "category": "Accelerated computing",
        "gpuNum": 1,
        "hideHardwareSpecs": false,
        "memoryGiB": 32,
        "name": "ml.g4dn.2xlarge",
        "vcpuNum": 8
      },
      {
        "_defaultOrder": 31,
        "_isFastLaunch": false,
        "category": "Accelerated computing",
        "gpuNum": 1,
        "hideHardwareSpecs": false,
        "memoryGiB": 64,
        "name": "ml.g4dn.4xlarge",
        "vcpuNum": 16
      },
      {
        "_defaultOrder": 32,
        "_isFastLaunch": false,
        "category": "Accelerated computing",
        "gpuNum": 1,
        "hideHardwareSpecs": false,
        "memoryGiB": 128,
        "name": "ml.g4dn.8xlarge",
        "vcpuNum": 32
      },
      {
        "_defaultOrder": 33,
        "_isFastLaunch": false,
        "category": "Accelerated computing",
        "gpuNum": 4,
        "hideHardwareSpecs": false,
        "memoryGiB": 192,
        "name": "ml.g4dn.12xlarge",
        "vcpuNum": 48
      },
      {
        "_defaultOrder": 34,
        "_isFastLaunch": false,
        "category": "Accelerated computing",
        "gpuNum": 1,
        "hideHardwareSpecs": false,
        "memoryGiB": 256,
        "name": "ml.g4dn.16xlarge",
        "vcpuNum": 64
      },
      {
        "_defaultOrder": 35,
        "_isFastLaunch": false,
        "category": "Accelerated computing",
        "gpuNum": 1,
        "hideHardwareSpecs": false,
        "memoryGiB": 61,
        "name": "ml.p3.2xlarge",
        "vcpuNum": 8
      },
      {
        "_defaultOrder": 36,
        "_isFastLaunch": false,
        "category": "Accelerated computing",
        "gpuNum": 4,
        "hideHardwareSpecs": false,
        "memoryGiB": 244,
        "name": "ml.p3.8xlarge",
        "vcpuNum": 32
      },
      {
        "_defaultOrder": 37,
        "_isFastLaunch": false,
        "category": "Accelerated computing",
        "gpuNum": 8,
        "hideHardwareSpecs": false,
        "memoryGiB": 488,
        "name": "ml.p3.16xlarge",
        "vcpuNum": 64
      },
      {
        "_defaultOrder": 38,
        "_isFastLaunch": false,
        "category": "Accelerated computing",
        "gpuNum": 8,
        "hideHardwareSpecs": false,
        "memoryGiB": 768,
        "name": "ml.p3dn.24xlarge",
        "vcpuNum": 96
      },
      {
        "_defaultOrder": 39,
        "_isFastLaunch": false,
        "category": "Memory Optimized",
        "gpuNum": 0,
        "hideHardwareSpecs": false,
        "memoryGiB": 16,
        "name": "ml.r5.large",
        "vcpuNum": 2
      },
      {
        "_defaultOrder": 40,
        "_isFastLaunch": false,
        "category": "Memory Optimized",
        "gpuNum": 0,
        "hideHardwareSpecs": false,
        "memoryGiB": 32,
        "name": "ml.r5.xlarge",
        "vcpuNum": 4
      },
      {
        "_defaultOrder": 41,
        "_isFastLaunch": false,
        "category": "Memory Optimized",
        "gpuNum": 0,
        "hideHardwareSpecs": false,
        "memoryGiB": 64,
        "name": "ml.r5.2xlarge",
        "vcpuNum": 8
      },
      {
        "_defaultOrder": 42,
        "_isFastLaunch": false,
        "category": "Memory Optimized",
        "gpuNum": 0,
        "hideHardwareSpecs": false,
        "memoryGiB": 128,
        "name": "ml.r5.4xlarge",
        "vcpuNum": 16
      },
      {
        "_defaultOrder": 43,
        "_isFastLaunch": false,
        "category": "Memory Optimized",
        "gpuNum": 0,
        "hideHardwareSpecs": false,
        "memoryGiB": 256,
        "name": "ml.r5.8xlarge",
        "vcpuNum": 32
      },
      {
        "_defaultOrder": 44,
        "_isFastLaunch": false,
        "category": "Memory Optimized",
        "gpuNum": 0,
        "hideHardwareSpecs": false,
        "memoryGiB": 384,
        "name": "ml.r5.12xlarge",
        "vcpuNum": 48
      },
      {
        "_defaultOrder": 45,
        "_isFastLaunch": false,
        "category": "Memory Optimized",
        "gpuNum": 0,
        "hideHardwareSpecs": false,
        "memoryGiB": 512,
        "name": "ml.r5.16xlarge",
        "vcpuNum": 64
      },
      {
        "_defaultOrder": 46,
        "_isFastLaunch": false,
        "category": "Memory Optimized",
        "gpuNum": 0,
        "hideHardwareSpecs": false,
        "memoryGiB": 768,
        "name": "ml.r5.24xlarge",
        "vcpuNum": 96
      },
      {
        "_defaultOrder": 47,
        "_isFastLaunch": false,
        "category": "Accelerated computing",
        "gpuNum": 1,
        "hideHardwareSpecs": false,
        "memoryGiB": 16,
        "name": "ml.g5.xlarge",
        "vcpuNum": 4
      },
      {
        "_defaultOrder": 48,
        "_isFastLaunch": false,
        "category": "Accelerated computing",
        "gpuNum": 1,
        "hideHardwareSpecs": false,
        "memoryGiB": 32,
        "name": "ml.g5.2xlarge",
        "vcpuNum": 8
      },
      {
        "_defaultOrder": 49,
        "_isFastLaunch": false,
        "category": "Accelerated computing",
        "gpuNum": 1,
        "hideHardwareSpecs": false,
        "memoryGiB": 64,
        "name": "ml.g5.4xlarge",
        "vcpuNum": 16
      },
      {
        "_defaultOrder": 50,
        "_isFastLaunch": false,
        "category": "Accelerated computing",
        "gpuNum": 1,
        "hideHardwareSpecs": false,
        "memoryGiB": 128,
        "name": "ml.g5.8xlarge",
        "vcpuNum": 32
      },
      {
        "_defaultOrder": 51,
        "_isFastLaunch": false,
        "category": "Accelerated computing",
        "gpuNum": 1,
        "hideHardwareSpecs": false,
        "memoryGiB": 256,
        "name": "ml.g5.16xlarge",
        "vcpuNum": 64
      },
      {
        "_defaultOrder": 52,
        "_isFastLaunch": false,
        "category": "Accelerated computing",
        "gpuNum": 4,
        "hideHardwareSpecs": false,
        "memoryGiB": 192,
        "name": "ml.g5.12xlarge",
        "vcpuNum": 48
      },
      {
        "_defaultOrder": 53,
        "_isFastLaunch": false,
        "category": "Accelerated computing",
        "gpuNum": 4,
        "hideHardwareSpecs": false,
        "memoryGiB": 384,
        "name": "ml.g5.24xlarge",
        "vcpuNum": 96
      },
      {
        "_defaultOrder": 54,
        "_isFastLaunch": false,
        "category": "Accelerated computing",
        "gpuNum": 8,
        "hideHardwareSpecs": false,
        "memoryGiB": 768,
        "name": "ml.g5.48xlarge",
        "vcpuNum": 192
      },
      {
        "_defaultOrder": 55,
        "_isFastLaunch": false,
        "category": "Accelerated computing",
        "gpuNum": 8,
        "hideHardwareSpecs": false,
        "memoryGiB": 1152,
        "name": "ml.p4d.24xlarge",
        "vcpuNum": 96
      },
      {
        "_defaultOrder": 56,
        "_isFastLaunch": false,
        "category": "Accelerated computing",
        "gpuNum": 8,
        "hideHardwareSpecs": false,
        "memoryGiB": 1152,
        "name": "ml.p4de.24xlarge",
        "vcpuNum": 96
      },
      {
        "_defaultOrder": 57,
        "_isFastLaunch": false,
        "category": "Accelerated computing",
        "gpuNum": 0,
        "hideHardwareSpecs": false,
        "memoryGiB": 32,
        "name": "ml.trn1.2xlarge",
        "vcpuNum": 8
      },
      {
        "_defaultOrder": 58,
        "_isFastLaunch": false,
        "category": "Accelerated computing",
        "gpuNum": 0,
        "hideHardwareSpecs": false,
        "memoryGiB": 512,
        "name": "ml.trn1.32xlarge",
        "vcpuNum": 128
      },
      {
        "_defaultOrder": 59,
        "_isFastLaunch": false,
        "category": "Accelerated computing",
        "gpuNum": 0,
        "hideHardwareSpecs": false,
        "memoryGiB": 512,
        "name": "ml.trn1n.32xlarge",
        "vcpuNum": 128
      }
    ],
    "colab": {
      "provenance": [],
      "include_colab_link": true
    },
    "kernelspec": {
      "display_name": "Python 3 (Data Science 4.0)",
      "language": "python",
      "name": "python3__SAGEMAKER_INTERNAL__arn:aws:sagemaker:us-east-1:081325390199:image/sagemaker-data-science-311-v1"
    },
    "language_info": {
      "codemirror_mode": {
        "name": "ipython",
        "version": 3
      },
      "file_extension": ".py",
      "mimetype": "text/x-python",
      "name": "python",
      "nbconvert_exporter": "python",
      "pygments_lexer": "ipython3",
      "version": "3.11.9"
    }
  },
  "nbformat": 4,
  "nbformat_minor": 5
}
