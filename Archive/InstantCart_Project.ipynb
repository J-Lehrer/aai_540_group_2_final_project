{
  "cells": [
    {
      "cell_type": "markdown",
      "id": "fce9f3fa-6762-4b46-9dc4-399051bb300f",
      "metadata": {
        "tags": [],
        "id": "fce9f3fa-6762-4b46-9dc4-399051bb300f"
      },
      "source": [
        "# Installing necessary libraries"
      ]
    },
    {
      "cell_type": "code",
      "execution_count": null,
      "id": "d6c5153b-b092-4ff2-a52e-b3fcff4d9745",
      "metadata": {
        "tags": [],
        "id": "d6c5153b-b092-4ff2-a52e-b3fcff4d9745",
        "outputId": "34021161-a3d4-41ac-87d1-d051114f23f4"
      },
      "outputs": [
        {
          "name": "stdout",
          "output_type": "stream",
          "text": [
            "Collecting pyathena\n",
            "  Using cached pyathena-3.12.2-py3-none-any.whl.metadata (6.3 kB)\n",
            "Requirement already satisfied: boto3>=1.26.4 in /opt/conda/lib/python3.11/site-packages (from pyathena) (1.34.131)\n",
            "Requirement already satisfied: botocore>=1.29.4 in /opt/conda/lib/python3.11/site-packages (from pyathena) (1.34.131)\n",
            "Requirement already satisfied: fsspec in /opt/conda/lib/python3.11/site-packages (from pyathena) (2024.6.0)\n",
            "Requirement already satisfied: python-dateutil in /opt/conda/lib/python3.11/site-packages (from pyathena) (2.9.0)\n",
            "Requirement already satisfied: tenacity>=4.1.0 in /opt/conda/lib/python3.11/site-packages (from pyathena) (8.4.1)\n",
            "Requirement already satisfied: jmespath<2.0.0,>=0.7.1 in /opt/conda/lib/python3.11/site-packages (from boto3>=1.26.4->pyathena) (1.0.1)\n",
            "Requirement already satisfied: s3transfer<0.11.0,>=0.10.0 in /opt/conda/lib/python3.11/site-packages (from boto3>=1.26.4->pyathena) (0.10.1)\n",
            "Requirement already satisfied: urllib3!=2.2.0,<3,>=1.25.4 in /opt/conda/lib/python3.11/site-packages (from botocore>=1.29.4->pyathena) (2.1.0)\n",
            "Requirement already satisfied: six>=1.5 in /opt/conda/lib/python3.11/site-packages (from python-dateutil->pyathena) (1.16.0)\n",
            "Using cached pyathena-3.12.2-py3-none-any.whl (75 kB)\n",
            "Installing collected packages: pyathena\n",
            "Successfully installed pyathena-3.12.2\n",
            "\u001b[33mWARNING: Running pip as the 'root' user can result in broken permissions and conflicting behaviour with the system package manager. It is recommended to use a virtual environment instead: https://pip.pypa.io/warnings/venv\u001b[0m\u001b[33m\n",
            "\u001b[0m"
          ]
        }
      ],
      "source": [
        "! pip install pyathena"
      ]
    },
    {
      "cell_type": "code",
      "execution_count": null,
      "id": "cfd00c1e-8288-4ccd-ac63-cc4f7ca7256b",
      "metadata": {
        "tags": [],
        "id": "cfd00c1e-8288-4ccd-ac63-cc4f7ca7256b",
        "outputId": "0d724940-547b-4b6e-bcc6-daecb95ea73c"
      },
      "outputs": [
        {
          "name": "stdout",
          "output_type": "stream",
          "text": [
            "Collecting awswrangler\n",
            "  Using cached awswrangler-3.11.0-py3-none-any.whl.metadata (17 kB)\n",
            "Requirement already satisfied: boto3<2.0.0,>=1.20.32 in /opt/conda/lib/python3.11/site-packages (from awswrangler) (1.34.131)\n",
            "Requirement already satisfied: botocore<2.0.0,>=1.23.32 in /opt/conda/lib/python3.11/site-packages (from awswrangler) (1.34.131)\n",
            "Requirement already satisfied: numpy<3.0,>=1.26 in /opt/conda/lib/python3.11/site-packages (from awswrangler) (1.26.4)\n",
            "Requirement already satisfied: packaging<25.0,>=21.1 in /opt/conda/lib/python3.11/site-packages (from awswrangler) (23.2)\n",
            "Requirement already satisfied: pandas<3.0.0,>=1.2.0 in /opt/conda/lib/python3.11/site-packages (from awswrangler) (2.2.2)\n",
            "Requirement already satisfied: pyarrow<19.0.0,>=8.0.0 in /opt/conda/lib/python3.11/site-packages (from awswrangler) (16.1.0)\n",
            "Requirement already satisfied: typing-extensions<5.0.0,>=4.4.0 in /opt/conda/lib/python3.11/site-packages (from awswrangler) (4.12.2)\n",
            "Requirement already satisfied: jmespath<2.0.0,>=0.7.1 in /opt/conda/lib/python3.11/site-packages (from boto3<2.0.0,>=1.20.32->awswrangler) (1.0.1)\n",
            "Requirement already satisfied: s3transfer<0.11.0,>=0.10.0 in /opt/conda/lib/python3.11/site-packages (from boto3<2.0.0,>=1.20.32->awswrangler) (0.10.1)\n",
            "Requirement already satisfied: python-dateutil<3.0.0,>=2.1 in /opt/conda/lib/python3.11/site-packages (from botocore<2.0.0,>=1.23.32->awswrangler) (2.9.0)\n",
            "Requirement already satisfied: urllib3!=2.2.0,<3,>=1.25.4 in /opt/conda/lib/python3.11/site-packages (from botocore<2.0.0,>=1.23.32->awswrangler) (2.1.0)\n",
            "Requirement already satisfied: pytz>=2020.1 in /opt/conda/lib/python3.11/site-packages (from pandas<3.0.0,>=1.2.0->awswrangler) (2024.1)\n",
            "Requirement already satisfied: tzdata>=2022.7 in /opt/conda/lib/python3.11/site-packages (from pandas<3.0.0,>=1.2.0->awswrangler) (2024.1)\n",
            "Requirement already satisfied: six>=1.5 in /opt/conda/lib/python3.11/site-packages (from python-dateutil<3.0.0,>=2.1->botocore<2.0.0,>=1.23.32->awswrangler) (1.16.0)\n",
            "Using cached awswrangler-3.11.0-py3-none-any.whl (379 kB)\n",
            "Installing collected packages: awswrangler\n",
            "Successfully installed awswrangler-3.11.0\n",
            "\u001b[33mWARNING: Running pip as the 'root' user can result in broken permissions and conflicting behaviour with the system package manager. It is recommended to use a virtual environment instead: https://pip.pypa.io/warnings/venv\u001b[0m\u001b[33m\n",
            "\u001b[0m"
          ]
        }
      ],
      "source": [
        "!pip install awswrangler"
      ]
    },
    {
      "cell_type": "code",
      "execution_count": null,
      "id": "ba8c93e9-570b-4497-97a5-e5eb2dc57408",
      "metadata": {
        "tags": [],
        "id": "ba8c93e9-570b-4497-97a5-e5eb2dc57408",
        "outputId": "78940998-5f6b-40f1-b48a-05d4e564b70d"
      },
      "outputs": [
        {
          "name": "stdout",
          "output_type": "stream",
          "text": [
            "Collecting seaborn\n",
            "  Downloading seaborn-0.13.2-py3-none-any.whl.metadata (5.4 kB)\n",
            "Requirement already satisfied: numpy!=1.24.0,>=1.20 in /opt/conda/lib/python3.11/site-packages (from seaborn) (1.26.4)\n",
            "Requirement already satisfied: pandas>=1.2 in /opt/conda/lib/python3.11/site-packages (from seaborn) (2.2.2)\n",
            "Requirement already satisfied: matplotlib!=3.6.1,>=3.4 in /opt/conda/lib/python3.11/site-packages (from seaborn) (3.8.4)\n",
            "Requirement already satisfied: contourpy>=1.0.1 in /opt/conda/lib/python3.11/site-packages (from matplotlib!=3.6.1,>=3.4->seaborn) (1.2.1)\n",
            "Requirement already satisfied: cycler>=0.10 in /opt/conda/lib/python3.11/site-packages (from matplotlib!=3.6.1,>=3.4->seaborn) (0.12.1)\n",
            "Requirement already satisfied: fonttools>=4.22.0 in /opt/conda/lib/python3.11/site-packages (from matplotlib!=3.6.1,>=3.4->seaborn) (4.53.0)\n",
            "Requirement already satisfied: kiwisolver>=1.3.1 in /opt/conda/lib/python3.11/site-packages (from matplotlib!=3.6.1,>=3.4->seaborn) (1.4.5)\n",
            "Requirement already satisfied: packaging>=20.0 in /opt/conda/lib/python3.11/site-packages (from matplotlib!=3.6.1,>=3.4->seaborn) (23.2)\n",
            "Requirement already satisfied: pillow>=8 in /opt/conda/lib/python3.11/site-packages (from matplotlib!=3.6.1,>=3.4->seaborn) (10.3.0)\n",
            "Requirement already satisfied: pyparsing>=2.3.1 in /opt/conda/lib/python3.11/site-packages (from matplotlib!=3.6.1,>=3.4->seaborn) (3.1.2)\n",
            "Requirement already satisfied: python-dateutil>=2.7 in /opt/conda/lib/python3.11/site-packages (from matplotlib!=3.6.1,>=3.4->seaborn) (2.9.0)\n",
            "Requirement already satisfied: pytz>=2020.1 in /opt/conda/lib/python3.11/site-packages (from pandas>=1.2->seaborn) (2024.1)\n",
            "Requirement already satisfied: tzdata>=2022.7 in /opt/conda/lib/python3.11/site-packages (from pandas>=1.2->seaborn) (2024.1)\n",
            "Requirement already satisfied: six>=1.5 in /opt/conda/lib/python3.11/site-packages (from python-dateutil>=2.7->matplotlib!=3.6.1,>=3.4->seaborn) (1.16.0)\n",
            "Downloading seaborn-0.13.2-py3-none-any.whl (294 kB)\n",
            "\u001b[2K   \u001b[90m━━━━━━━━━━━━━━━━━━━━━━━━━━━━━━━━━━━━━━━━\u001b[0m \u001b[32m294.9/294.9 kB\u001b[0m \u001b[31m1.9 MB/s\u001b[0m eta \u001b[36m0:00:00\u001b[0mta \u001b[36m0:00:01\u001b[0m\n",
            "\u001b[?25hInstalling collected packages: seaborn\n",
            "Successfully installed seaborn-0.13.2\n",
            "\u001b[33mWARNING: Running pip as the 'root' user can result in broken permissions and conflicting behaviour with the system package manager. It is recommended to use a virtual environment instead: https://pip.pypa.io/warnings/venv\u001b[0m\u001b[33m\n",
            "\u001b[0m"
          ]
        }
      ],
      "source": [
        "!pip install seaborn"
      ]
    },
    {
      "cell_type": "markdown",
      "id": "a089055f-c4f8-4c14-9a78-a250e664e3ed",
      "metadata": {
        "id": "a089055f-c4f8-4c14-9a78-a250e664e3ed"
      },
      "source": [
        "## Importing necessary libraries"
      ]
    },
    {
      "cell_type": "code",
      "execution_count": null,
      "id": "23a21976-431a-4ae6-91f4-0dcbefc3177b",
      "metadata": {
        "tags": [],
        "id": "23a21976-431a-4ae6-91f4-0dcbefc3177b"
      },
      "outputs": [],
      "source": [
        "from pyathena import connect"
      ]
    },
    {
      "cell_type": "code",
      "execution_count": null,
      "id": "151b2d57-48de-4632-ae57-2959490ce6bb",
      "metadata": {
        "tags": [],
        "id": "151b2d57-48de-4632-ae57-2959490ce6bb"
      },
      "outputs": [],
      "source": [
        "import awswrangler as wr\n",
        "import pandas as pd\n"
      ]
    },
    {
      "cell_type": "code",
      "execution_count": null,
      "id": "52dbf3bc-6fed-4244-8230-c048063e36c0",
      "metadata": {
        "tags": [],
        "id": "52dbf3bc-6fed-4244-8230-c048063e36c0"
      },
      "outputs": [],
      "source": [
        "import matplotlib.pyplot as plt\n",
        "import seaborn as sns\n"
      ]
    },
    {
      "cell_type": "markdown",
      "id": "02fb67a7-fe7a-4b7e-9a73-313ba0697642",
      "metadata": {
        "id": "02fb67a7-fe7a-4b7e-9a73-313ba0697642"
      },
      "source": [
        "# Converting InstantCart CSV dataset into Parquet"
      ]
    },
    {
      "cell_type": "code",
      "execution_count": null,
      "id": "a5dd9fb1-94b0-40ed-97f1-d54d0af7f77f",
      "metadata": {
        "tags": [],
        "id": "a5dd9fb1-94b0-40ed-97f1-d54d0af7f77f",
        "outputId": "5ca7eb3c-3488-4ca7-e64b-675ba7a058e7"
      },
      "outputs": [
        {
          "name": "stderr",
          "output_type": "stream",
          "text": [
            "/opt/conda/lib/python3.11/site-packages/fsspec/registry.py:279: UserWarning: Your installed version of s3fs is very old and known to cause\n",
            "severe performance issues, see also https://github.com/dask/dask/issues/10276\n",
            "\n",
            "To fix, you should specify a lower version bound on s3fs, or\n",
            "update the current installation.\n",
            "\n",
            "  warnings.warn(s3_msg)\n"
          ]
        },
        {
          "name": "stdout",
          "output_type": "stream",
          "text": [
            "Dataset saved as partitioned Parquet files in S3.\n",
            "Partitioned Parquet table registered in AWS Glue successfully.\n"
          ]
        }
      ],
      "source": [
        "# Defining S3 paths\n",
        "csv_path = \"s3://sagemaker-us-east-1-921916832724/data-lake/Project/filtered_frequent_buyers_v1.csv\"\n",
        "parquet_output_path = \"s3://sagemaker-us-east-1-921916832724/data-lake/Project/partitioned/\"\n",
        "\n",
        "# Loading CSV from S3\n",
        "df = pd.read_csv(csv_path)\n",
        "\n",
        "# Converting and saving Parquet with Partitioning by 'department'\n",
        "wr.s3.to_parquet(\n",
        "    df=df,\n",
        "    path=parquet_output_path,\n",
        "    dataset=True,\n",
        "    mode=\"overwrite\",\n",
        "    partition_cols=[\"department\"],  # Partitioning by department\n",
        "    compression=\"snappy\"  # Optimized compression for Athena\n",
        ")\n",
        "\n",
        "print(\"Dataset saved as partitioned Parquet files in S3.\")\n",
        "\n",
        "# Defining Glue Database & Table\n",
        "database_name = \"instacart_db\"\n",
        "table_name = \"instacart_orders\"\n",
        "\n",
        "# Registering the Parquet Table in AWS Glue\n",
        "wr.catalog.create_parquet_table(\n",
        "    database=database_name,\n",
        "    table=table_name,\n",
        "    path=parquet_output_path,\n",
        "    columns_types={\n",
        "        \"order_id\": \"bigint\",\n",
        "        \"product_id\": \"bigint\",\n",
        "        \"add_to_cart_order\": \"int\",\n",
        "        \"reordered\": \"int\",\n",
        "        \"user_id\": \"bigint\",\n",
        "        \"product_name\": \"string\",\n",
        "        \"aisle_id\": \"int\",\n",
        "        \"department_id\": \"int\",\n",
        "        \"aisle\": \"string\",\n",
        "        \"department\": \"string\"\n",
        "    },\n",
        "    partitions_types={\"department\": \"string\"},\n",
        "    description=\"Partitioned Instacart orders dataset for optimized Athena queries.\"\n",
        ")\n",
        "\n",
        "print(\"Partitioned Parquet table registered in AWS Glue successfully.\")\n"
      ]
    },
    {
      "cell_type": "markdown",
      "id": "31f84aa7-e0a2-435c-a01a-ec42b64091fe",
      "metadata": {
        "id": "31f84aa7-e0a2-435c-a01a-ec42b64091fe"
      },
      "source": [
        "# Setting up Database for InstantCart"
      ]
    },
    {
      "cell_type": "code",
      "execution_count": null,
      "id": "4b7d4ecd-a14f-4500-a30d-6192f8dd178a",
      "metadata": {
        "tags": [],
        "id": "4b7d4ecd-a14f-4500-a30d-6192f8dd178a",
        "outputId": "8c34daea-ccc7-4456-a133-38fd8d0ff870"
      },
      "outputs": [
        {
          "name": "stdout",
          "output_type": "stream",
          "text": [
            "Connected to Athena successfully.\n",
            "Database 'instacart_db' created successfully!\n",
            "Database 'instacart_db' exists!\n"
          ]
        }
      ],
      "source": [
        "from pyathena import connect\n",
        "\n",
        "# Defineing AWS Resources\n",
        "bucket_name = \"sagemaker-us-east-1-921916832724\"\n",
        "region = \"us-east-1\"\n",
        "database_name = \"instacart_db\"\n",
        "table_name = \"instacart_orders\"\n",
        "s3_data_location = f\"s3://{bucket_name}/data-lake/Project/partitioned/\"  # Using partitioned dataset\n",
        "\n",
        "# Defining Athena Staging Directory\n",
        "s3_staging_dir = f\"s3://{bucket_name}/athena/instacart_staging/\"\n",
        "\n",
        "# Creating Athena Connection\n",
        "try:\n",
        "    conn = connect(s3_staging_dir=s3_staging_dir, region_name=region)\n",
        "    cursor = conn.cursor()\n",
        "    print(\"Connected to Athena successfully.\")\n",
        "except Exception as e:\n",
        "    print(\"Error connecting to Athena:\", e)\n",
        "\n",
        "# Creating Database\n",
        "create_db_query = f\"CREATE DATABASE IF NOT EXISTS {database_name}\"\n",
        "cursor.execute(create_db_query)\n",
        "print(f\"Database '{database_name}' created successfully!\")\n",
        "\n",
        "# Verifying Database Creation\n",
        "cursor.execute(\"SHOW DATABASES\")\n",
        "databases = [row[0] for row in cursor.fetchall()]\n",
        "if database_name in databases:\n",
        "    print(f\"Database '{database_name}' exists!\")\n"
      ]
    },
    {
      "cell_type": "markdown",
      "id": "e697f17a-ef43-45dc-8c24-1f4b1f0d8ede",
      "metadata": {
        "id": "e697f17a-ef43-45dc-8c24-1f4b1f0d8ede"
      },
      "source": [
        "# Creating Athena database"
      ]
    },
    {
      "cell_type": "code",
      "execution_count": null,
      "id": "12de4447-4033-4cb6-9d17-ab1987fcf812",
      "metadata": {
        "id": "12de4447-4033-4cb6-9d17-ab1987fcf812",
        "outputId": "6d7b4364-a35f-47aa-9dc1-43f8982b5386"
      },
      "outputs": [
        {
          "name": "stdout",
          "output_type": "stream",
          "text": [
            "Table 'instacart_orders' created successfully in database 'instacart_db'.\n",
            "Partitions updated successfully.\n"
          ]
        }
      ],
      "source": [
        "create_table_query = f\"\"\"\n",
        "CREATE EXTERNAL TABLE IF NOT EXISTS {database_name}.{table_name} (\n",
        "    order_id BIGINT,\n",
        "    product_id BIGINT,\n",
        "    add_to_cart_order INT,\n",
        "    reordered INT,\n",
        "    user_id BIGINT,\n",
        "    product_name STRING,\n",
        "    aisle_id INT,\n",
        "    department_id INT,\n",
        "    aisle STRING\n",
        ")\n",
        "PARTITIONED BY (department STRING)\n",
        "STORED AS PARQUET\n",
        "LOCATION '{s3_data_location}'\n",
        "TBLPROPERTIES ('parquet.compression'='SNAPPY');\n",
        "\"\"\"\n",
        "\n",
        "# Execute Table Creation Query\n",
        "cursor.execute(create_table_query)\n",
        "print(f\"Table '{table_name}' created successfully in database '{database_name}'.\")\n",
        "\n",
        "# Running MSCK REPAIR to Load Partitions\n",
        "cursor.execute(f\"MSCK REPAIR TABLE {database_name}.{table_name}\")\n",
        "print(\"Partitions updated successfully.\")\n"
      ]
    },
    {
      "cell_type": "code",
      "execution_count": null,
      "id": "e42f7e49-205d-42dd-a4be-1e376847f845",
      "metadata": {
        "tags": [],
        "id": "e42f7e49-205d-42dd-a4be-1e376847f845",
        "outputId": "ff7a0470-166d-402b-c646-2598944a948f"
      },
      "outputs": [
        {
          "name": "stdout",
          "output_type": "stream",
          "text": [
            "Sample Query Results:\n",
            "(5, 40878, 11, 1, 156122, 'Macaroni And Cheese', 4, 9, 'instant foods', 'dry goods pasta')\n",
            "(5, 46522, 23, 0, 156122, 'Spaghetti Pasta', 131, 9, 'dry pasta', 'dry goods pasta')\n",
            "(58, 23375, 1, 1, 150647, 'Marinara Sauce', 9, 9, 'pasta sauce', 'dry goods pasta')\n",
            "(88, 9366, 11, 0, 102020, 'Penne Rigate #41 Pasta', 131, 9, 'dry pasta', 'dry goods pasta')\n",
            "(101, 37825, 11, 1, 18783, 'Organic Whole Wheat Fusilli', 131, 9, 'dry pasta', 'dry goods pasta')\n",
            "(106, 18019, 12, 1, 161214, 'Macaroni & Cheese Dinner Original Flavor', 4, 9, 'instant foods', 'dry goods pasta')\n",
            "(106, 14168, 14, 1, 161214, 'Penne Pasta', 131, 9, 'dry pasta', 'dry goods pasta')\n",
            "(106, 12945, 23, 1, 161214, 'Signature Recipes Vodka Sauce Pasta Sauce', 9, 9, 'pasta sauce', 'dry goods pasta')\n",
            "(125, 43249, 14, 1, 66104, \"Organic Bernie's Farm Macaroni & Cheese\", 4, 9, 'instant foods', 'dry goods pasta')\n",
            "(125, 39619, 15, 1, 66104, 'Organic Tomato Basil Pasta Sauce', 9, 9, 'pasta sauce', 'dry goods pasta')\n"
          ]
        }
      ],
      "source": [
        "# Verifying that the table Exists\n",
        "cursor.execute(\"SHOW TABLES\")\n",
        "tables = [row[0] for row in cursor.fetchall()]\n",
        "if table_name in tables:\n",
        "    print(f\"Table '{table_name}' exists in Athena!\")\n",
        "\n",
        "# Running a Sample Query to Verify Data\n",
        "test_query = f\"SELECT * FROM {database_name}.{table_name} LIMIT 10;\"\n",
        "cursor.execute(test_query)\n",
        "rows = cursor.fetchall()\n",
        "\n",
        "print(\"Sample Query Results:\")\n",
        "for row in rows:\n",
        "    print(row)"
      ]
    },
    {
      "cell_type": "markdown",
      "id": "ef01ab03-bf04-446e-ad32-eb06ec27bca0",
      "metadata": {
        "id": "ef01ab03-bf04-446e-ad32-eb06ec27bca0"
      },
      "source": [
        "# Exploratory Data Analysis"
      ]
    },
    {
      "cell_type": "markdown",
      "id": "30baf4bf-c1a9-45c2-a68c-2ff8ef4b2416",
      "metadata": {
        "id": "30baf4bf-c1a9-45c2-a68c-2ff8ef4b2416"
      },
      "source": [
        "## Checking the Total Orders and Unique Users"
      ]
    },
    {
      "cell_type": "code",
      "execution_count": null,
      "id": "63fea81b-f3b0-4603-ad63-7392347c2f77",
      "metadata": {
        "tags": [],
        "id": "63fea81b-f3b0-4603-ad63-7392347c2f77",
        "outputId": "4f81f322-d10c-4954-9d59-9c0a89c7be54"
      },
      "outputs": [
        {
          "name": "stdout",
          "output_type": "stream",
          "text": [
            "Total Orders & Unique Users:\n",
            "(562019, 11033)\n"
          ]
        }
      ],
      "source": [
        "# Defining AWS Athena connection\n",
        "bucket_name = \"sagemaker-us-east-1-921916832724\"\n",
        "region = \"us-east-1\"\n",
        "database_name = \"instacart_db\"\n",
        "table_name = \"instacart_orders\"\n",
        "\n",
        "# Establishing Athena connection\n",
        "conn = connect(s3_staging_dir=f\"s3://{bucket_name}/athena/instacart_staging/\", region_name=region)\n",
        "cursor = conn.cursor()\n",
        "\n",
        "# First Query: Total Orders & Unique Users\n",
        "query = f\"\"\"\n",
        "SELECT\n",
        "    COUNT(DISTINCT order_id) AS total_orders,\n",
        "    COUNT(DISTINCT user_id) AS unique_users\n",
        "FROM {database_name}.{table_name};\n",
        "\"\"\"\n",
        "\n",
        "# Executing query\n",
        "cursor.execute(query)\n",
        "rows = cursor.fetchall()\n",
        "\n",
        "# Printing results\n",
        "print(\"Total Orders & Unique Users:\")\n",
        "for row in rows:\n",
        "    print(row)\n",
        "\n"
      ]
    },
    {
      "cell_type": "markdown",
      "id": "071cd3ac-1828-46aa-a398-4586d857b8a1",
      "metadata": {
        "id": "071cd3ac-1828-46aa-a398-4586d857b8a1"
      },
      "source": [
        "## Top 10 Most Ordered Products\n"
      ]
    },
    {
      "cell_type": "code",
      "execution_count": null,
      "id": "95fd4715-2841-481a-93e6-f7ac5db0c01b",
      "metadata": {
        "tags": [],
        "id": "95fd4715-2841-481a-93e6-f7ac5db0c01b",
        "outputId": "2ea8664e-b9c9-4a91-bd20-3cbffc419529"
      },
      "outputs": [
        {
          "name": "stdout",
          "output_type": "stream",
          "text": [
            "Top 10 Most Ordered Products:\n",
            "('Banana', 129758)\n",
            "('Bag of Organic Bananas', 117352)\n",
            "('Organic Strawberries', 98600)\n",
            "('Organic Hass Avocado', 78967)\n",
            "('Organic Baby Spinach', 73601)\n",
            "('Organic Raspberries', 53856)\n",
            "('Organic Avocado', 48595)\n",
            "('Organic Whole Milk', 48219)\n",
            "('Limes', 43114)\n",
            "('Large Lemon', 41812)\n"
          ]
        }
      ],
      "source": [
        "query = f\"\"\"\n",
        "SELECT product_name, COUNT(*) AS total_orders\n",
        "FROM {database_name}.{table_name}\n",
        "GROUP BY product_name\n",
        "ORDER BY total_orders DESC\n",
        "LIMIT 10;\n",
        "\"\"\"\n",
        "cursor.execute(query)\n",
        "rows = cursor.fetchall()\n",
        "print(\"Top 10 Most Ordered Products:\")\n",
        "for row in rows:\n",
        "    print(row)\n"
      ]
    },
    {
      "cell_type": "code",
      "execution_count": null,
      "id": "b4471052-14a6-4c52-a512-b9f5786cd506",
      "metadata": {
        "tags": [],
        "id": "b4471052-14a6-4c52-a512-b9f5786cd506",
        "outputId": "b494a801-795f-4ec2-f11f-1f3032bb9393"
      },
      "outputs": [
        {
          "name": "stderr",
          "output_type": "stream",
          "text": [
            "/tmp/ipykernel_22/4294567563.py:16: FutureWarning: \n",
            "\n",
            "Passing `palette` without assigning `hue` is deprecated and will be removed in v0.14.0. Assign the `y` variable to `hue` and set `legend=False` for the same effect.\n",
            "\n",
            "  sns.barplot(x=\"Total Orders\", y=\"Product Name\", data=df_products, palette=\"viridis\")\n"
          ]
        },
        {
          "data": {
            "image/png": "[encoded data removed]",
            "text/plain": [
              "<Figure size 1200x600 with 1 Axes>"
            ]
          },
          "metadata": {},
          "output_type": "display_data"
        }
      ],
      "source": [
        "# ===========================\n",
        "#  Bar Chart: Top 10 Most Ordered Products\n",
        "# ===========================\n",
        "\n",
        "products = [\"Banana\", \"Bag of Organic Bananas\", \"Organic Strawberries\", \"Organic Hass Avocado\",\n",
        "            \"Organic Baby Spinach\", \"Organic Raspberries\", \"Organic Avocado\", \"Organic Whole Milk\",\n",
        "            \"Limes\", \"Large Lemon\"]\n",
        "total_orders = [129758, 117352, 98600, 78967, 73601, 53856, 48595, 48219, 43114, 41812]\n",
        "\n",
        "# Creating DataFrame\n",
        "df_products = pd.DataFrame({\"Product Name\": products, \"Total Orders\": total_orders})\n",
        "\n",
        "# Plotting Bar Chart\n",
        "plt.figure(figsize=(12, 6))\n",
        "sns.barplot(x=\"Total Orders\", y=\"Product Name\", data=df_products, palette=\"viridis\")\n",
        "plt.xlabel(\"Total Orders\")\n",
        "plt.ylabel(\"Product Name\")\n",
        "plt.title(\"Top 10 Most Ordered Products\")\n",
        "plt.show()\n"
      ]
    },
    {
      "cell_type": "markdown",
      "id": "8458ad80-ca5c-4908-9bf9-53bedfe0809a",
      "metadata": {
        "id": "8458ad80-ca5c-4908-9bf9-53bedfe0809a"
      },
      "source": [
        "### Insights\n",
        "\n",
        "- Bananas are the most ordered item with 129,758 orders.\n",
        "- Organic produce is extremely popular. Where 7 out of 10 items are organic.\n",
        "- Dairy products like Whole Milk rank in the Top 10.\n",
        "- Cirtrus fruits like Limes and Lemons are in high demand."
      ]
    },
    {
      "cell_type": "markdown",
      "id": "f3c1007f-d878-4154-994f-1ae2467c364c",
      "metadata": {
        "id": "f3c1007f-d878-4154-994f-1ae2467c364c"
      },
      "source": [
        "## Reorder Rate per Product"
      ]
    },
    {
      "cell_type": "code",
      "execution_count": null,
      "id": "e7d9e50c-405e-46a0-8684-01b8eb5fb777",
      "metadata": {
        "tags": [],
        "id": "e7d9e50c-405e-46a0-8684-01b8eb5fb777",
        "outputId": "4d137e89-1bbb-4ec4-f830-e15272d8bb32"
      },
      "outputs": [
        {
          "name": "stdout",
          "output_type": "stream",
          "text": [
            "Top 10 Products with Highest Reorder Rate:\n",
            "('Smoked Whitefish Salad', 78, 75, 96.15)\n",
            "('Ultra-Filtered Whole Milk', 191, 183, 95.81)\n",
            "('0% Greek Strained Yogurt', 1116, 1066, 95.52)\n",
            "('Wheat Sandwich Bread', 478, 456, 95.4)\n",
            "('Baby Cucumbers', 688, 656, 95.35)\n",
            "('Extra Fancy Unsalted Mixed Nuts', 723, 687, 95.02)\n",
            "('Organic 2% Milk', 116, 110, 94.83)\n",
            "('Banana', 129758, 122945, 94.75)\n",
            "('Organic Dark Roast', 57, 54, 94.74)\n",
            "('Purified Alkalkine Water with Minerals pH10', 131, 124, 94.66)\n"
          ]
        }
      ],
      "source": [
        "query = f\"\"\"\n",
        "SELECT\n",
        "    product_name,\n",
        "    COUNT(*) AS total_orders,\n",
        "    SUM(reordered) AS total_reorders,\n",
        "    ROUND(100.0 * SUM(reordered) / COUNT(*), 2) AS reorder_rate\n",
        "FROM {database_name}.{table_name}\n",
        "GROUP BY product_name\n",
        "ORDER BY reorder_rate DESC\n",
        "LIMIT 10;\n",
        "\"\"\"\n",
        "cursor.execute(query)\n",
        "rows = cursor.fetchall()\n",
        "print(\"Top 10 Products with Highest Reorder Rate:\")\n",
        "for row in rows:\n",
        "    print(row)\n"
      ]
    },
    {
      "cell_type": "markdown",
      "id": "faa2a01e-99cf-4274-b56f-0e32c1db0bde",
      "metadata": {
        "id": "faa2a01e-99cf-4274-b56f-0e32c1db0bde"
      },
      "source": [
        "### Insights\n",
        "\n",
        "- Smoked Whitefish Salad has the highest reorder rate (96.15%), meaning most customers who buy it reorder it again.\n",
        "- Dairy Products are highly reordered:\n",
        "    - Ultra-Filtered Whole Milk (95.81%)\n",
        "    - 0% Greek Strained Yogurt (95.52%)\n",
        "    - Organic 2% Milk (94.83%)\n",
        "- Bananas remain a top product both in total orders (129,758) and reorders (94.75%).\n",
        "- Fresh produce like Baby Cucumbers also has a high reorder rate (95.35%).\n",
        "- Healthy snacks like Mixed Nuts (95.02%) show strong reorder demand.\n",
        "- Purified Alkaline Water (94.66%) is one of the most frequently reordered beverages."
      ]
    },
    {
      "cell_type": "markdown",
      "id": "bb9bd2b1-66a6-44d0-a767-b0e049c2541c",
      "metadata": {
        "id": "bb9bd2b1-66a6-44d0-a767-b0e049c2541c"
      },
      "source": [
        "## Orders by Department"
      ]
    },
    {
      "cell_type": "code",
      "execution_count": null,
      "id": "098c076c-dde7-4c55-a0ae-b69e97506334",
      "metadata": {
        "tags": [],
        "id": "098c076c-dde7-4c55-a0ae-b69e97506334",
        "outputId": "6dbba839-6fab-43e3-998e-4cbc00208ca1"
      },
      "outputs": [
        {
          "name": "stdout",
          "output_type": "stream",
          "text": [
            "Orders by Department:\n",
            "('produce', 2792150)\n",
            "('dairy eggs', 1552847)\n",
            "('snacks', 734152)\n",
            "('beverages', 586406)\n",
            "('frozen', 503483)\n",
            "('pantry', 346797)\n",
            "('bakery', 319346)\n",
            "('deli', 286003)\n",
            "('canned goods', 256307)\n",
            "('dry goods pasta', 210654)\n"
          ]
        }
      ],
      "source": [
        "query = f\"\"\"\n",
        "SELECT department, COUNT(*) AS total_orders\n",
        "FROM {database_name}.{table_name}\n",
        "GROUP BY department\n",
        "ORDER BY total_orders DESC;\n",
        "\"\"\"\n",
        "cursor.execute(query)\n",
        "rows = cursor.fetchall()\n",
        "print(\"Orders by Department:\")\n",
        "for row in rows:\n",
        "    print(row)\n"
      ]
    },
    {
      "cell_type": "code",
      "execution_count": null,
      "id": "1ea43f60-4912-4e54-9d0f-c3e5c4ef420c",
      "metadata": {
        "tags": [],
        "id": "1ea43f60-4912-4e54-9d0f-c3e5c4ef420c",
        "outputId": "a1a957d0-7764-49f0-ddfa-80850ced4990"
      },
      "outputs": [
        {
          "name": "stderr",
          "output_type": "stream",
          "text": [
            "/tmp/ipykernel_22/1844054932.py:15: FutureWarning: \n",
            "\n",
            "Passing `palette` without assigning `hue` is deprecated and will be removed in v0.14.0. Assign the `y` variable to `hue` and set `legend=False` for the same effect.\n",
            "\n",
            "  sns.barplot(x=\"Total Orders\", y=\"Department\", data=df_orders_by_department, palette=\"magma\")\n"
          ]
        },
        {
          "data": {
            "image/png": "[encoded data removed]",
            "text/plain": [
              "<Figure size 1200x600 with 1 Axes>"
            ]
          },
          "metadata": {},
          "output_type": "display_data"
        }
      ],
      "source": [
        "# ===========================\n",
        "# Bar Chart: Orders by Department\n",
        "# ===========================\n",
        "\n",
        "# Data from previous query (Department, Total Orders)\n",
        "departments = [\"produce\", \"dairy eggs\", \"snacks\", \"beverages\", \"frozen\",\n",
        "               \"pantry\", \"bakery\", \"deli\", \"canned goods\", \"dry goods pasta\"]\n",
        "total_orders = [2792150, 1552847, 734152, 586406, 503483, 346797, 319346, 286003, 256307, 210654]\n",
        "\n",
        "# Creating DataFrame\n",
        "df_orders_by_department = pd.DataFrame({\"Department\": departments, \"Total Orders\": total_orders})\n",
        "\n",
        "# Plotting Bar Chart\n",
        "plt.figure(figsize=(12, 6))\n",
        "sns.barplot(x=\"Total Orders\", y=\"Department\", data=df_orders_by_department, palette=\"magma\")\n",
        "plt.xlabel(\"Total Orders\")\n",
        "plt.ylabel(\"Department\")\n",
        "plt.title(\"Total Orders by Department\")\n",
        "plt.show()\n"
      ]
    },
    {
      "cell_type": "markdown",
      "id": "cb6bbe33-9478-447a-9633-613e7a0ed593",
      "metadata": {
        "id": "cb6bbe33-9478-447a-9633-613e7a0ed593"
      },
      "source": [
        "### Insights\n",
        "\n",
        "- Produce is the most ordered department with ~2.79 million orders. This aligns with the earlier Top Ordered Products (bananas, avocados, berries). On another hand, Fresh produce is frequently bought and likely reordered often.\n",
        "- Dairy & Eggs ranks second with 1.55 million orders. This reinforces the high reorder rates for milk, yogurt, and eggs seen in previous queries.\n",
        "- Snacks are the third most popular category (734K orders).\n",
        "    - Expect chips, granola bars, and nuts to dominate.\n",
        "- Beverages & Frozen Foods also have strong demand.\n",
        "    - Beverages (~586K orders) likely include popular items like bottled water, juices, and coffee.\n",
        "    - Frozen Foods (~503K orders) suggest customers stock up on frozen essentials.\n",
        "- Pantry Staples, Bakery, and Deli also contribute significantly. It could likely contain bread, canned goods, and dry pasta."
      ]
    },
    {
      "cell_type": "markdown",
      "id": "57306664-46cb-4b7f-b245-105a8518da35",
      "metadata": {
        "id": "57306664-46cb-4b7f-b245-105a8518da35"
      },
      "source": [
        "## Most Popular Aisles"
      ]
    },
    {
      "cell_type": "code",
      "execution_count": null,
      "id": "7f72ad88-c2a1-46b2-a65e-37944de8df85",
      "metadata": {
        "tags": [],
        "id": "7f72ad88-c2a1-46b2-a65e-37944de8df85",
        "outputId": "be190742-ecc2-4fa2-b8e3-c942c2f7d013"
      },
      "outputs": [
        {
          "name": "stdout",
          "output_type": "stream",
          "text": [
            "Top 10 Aisles:\n",
            "('fresh fruits', 1126037)\n",
            "('fresh vegetables', 1008801)\n",
            "('packaged vegetables fruits', 514598)\n",
            "('yogurt', 461728)\n",
            "('packaged cheese', 282859)\n",
            "('milk', 261155)\n",
            "('water seltzer sparkling water', 195078)\n",
            "('chips pretzels', 185713)\n",
            "('soy lactosefree', 172270)\n",
            "('bread', 163697)\n"
          ]
        }
      ],
      "source": [
        "query = f\"\"\"\n",
        "SELECT aisle, COUNT(*) AS total_orders\n",
        "FROM {database_name}.{table_name}\n",
        "GROUP BY aisle\n",
        "ORDER BY total_orders DESC\n",
        "LIMIT 10;\n",
        "\"\"\"\n",
        "cursor.execute(query)\n",
        "rows = cursor.fetchall()\n",
        "print(\"Top 10 Aisles:\")\n",
        "for row in rows:\n",
        "    print(row)\n"
      ]
    },
    {
      "cell_type": "code",
      "execution_count": null,
      "id": "75d5a216-31e7-4b13-9628-c696064aab6e",
      "metadata": {
        "tags": [],
        "id": "75d5a216-31e7-4b13-9628-c696064aab6e",
        "outputId": "30f9a8d8-1ebc-4ede-a903-aa5ee7516587"
      },
      "outputs": [
        {
          "name": "stderr",
          "output_type": "stream",
          "text": [
            "/tmp/ipykernel_22/1125909416.py:16: FutureWarning: \n",
            "\n",
            "Passing `palette` without assigning `hue` is deprecated and will be removed in v0.14.0. Assign the `y` variable to `hue` and set `legend=False` for the same effect.\n",
            "\n",
            "  sns.barplot(x=\"Total Orders\", y=\"Aisle\", data=df_aisles, palette=\"coolwarm\")\n"
          ]
        },
        {
          "data": {
            "image/png": "[encoded data removed]",
            "text/plain": [
              "<Figure size 1200x600 with 1 Axes>"
            ]
          },
          "metadata": {},
          "output_type": "display_data"
        }
      ],
      "source": [
        "# ===========================\n",
        "# Bar Chart: Most Popular Aisles\n",
        "# ===========================\n",
        "\n",
        "# Data from previous query (Aisle, Total Orders)\n",
        "aisles = [\"fresh fruits\", \"fresh vegetables\", \"packaged vegetables fruits\", \"yogurt\",\n",
        "          \"packaged cheese\", \"milk\", \"water seltzer sparkling water\", \"chips pretzels\",\n",
        "          \"soy lactosefree\", \"bread\"]\n",
        "aisle_orders = [1126037, 1008801, 514598, 461728, 282859, 261155, 195078, 185713, 172270, 163697]\n",
        "\n",
        "# Creating DataFrame\n",
        "df_aisles = pd.DataFrame({\"Aisle\": aisles, \"Total Orders\": aisle_orders})\n",
        "\n",
        "# Plotting Bar Chart\n",
        "plt.figure(figsize=(12, 6))\n",
        "sns.barplot(x=\"Total Orders\", y=\"Aisle\", data=df_aisles, palette=\"coolwarm\")\n",
        "plt.xlabel(\"Total Orders\")\n",
        "plt.ylabel(\"Aisle\")\n",
        "plt.title(\"Top 10 Most Popular Aisles\")\n",
        "plt.show()"
      ]
    },
    {
      "cell_type": "markdown",
      "id": "c24db1ca-63f9-4b26-b45f-4e4039e7f836",
      "metadata": {
        "id": "c24db1ca-63f9-4b26-b45f-4e4039e7f836"
      },
      "source": [
        "### Insights\n",
        "- Fresh Produce Dominance:\n",
        "    - Fresh Fruits (1.12M orders) and Fresh Vegetables (1.00M orders) are the top two aisles.\n",
        "    - Combined, these two alone account for over 2 million orders, which reinforces why Produce is the top department.\n",
        "\n",
        "- Dairy is Highly Popular:\n",
        "    - Yogurt (461K orders) and Packaged Cheese (282K orders) show strong demand.\n",
        "    - Milk (261K orders) further confirms that dairy products are household essentials.\n",
        "\n",
        "- Beverages are a Major Category:\n",
        "    - Water, Seltzer, and Sparkling Water (195K orders) ranks #7, showing strong demand for bottled drinks.\n",
        "\n",
        "- Snacks & Bread are Key Pantry Items\n",
        "    - Chips & Pretzels (185K orders) are among the most frequently purchased snacks.\n",
        "    - Bread (163K orders) confirms why Bakery is among the top departments.\n",
        "\n",
        "- Plant-Based Alternatives are Growing\n",
        "    - Soy & Lactose-Free Products (172K orders) indicate increased demand for dairy-free alternatives."
      ]
    },
    {
      "cell_type": "markdown",
      "id": "7397578b-076f-41c1-a8ae-9138fa4af15b",
      "metadata": {
        "id": "7397578b-076f-41c1-a8ae-9138fa4af15b"
      },
      "source": [
        "##  Reorder Ratio by Department"
      ]
    },
    {
      "cell_type": "code",
      "execution_count": null,
      "id": "1aed8321-7c0c-4842-91bb-4bf675f70764",
      "metadata": {
        "tags": [],
        "id": "1aed8321-7c0c-4842-91bb-4bf675f70764",
        "outputId": "6b3533fb-a800-48e7-d6a6-47c313663545"
      },
      "outputs": [
        {
          "name": "stdout",
          "output_type": "stream",
          "text": [
            "Reorder Ratio by Department:\n",
            "('dairy eggs', 1552847, 1283956, 82.68)\n",
            "('beverages', 586406, 474261, 80.88)\n",
            "('produce', 2792150, 2252168, 80.66)\n",
            "('bakery', 319346, 256586, 80.35)\n",
            "('deli', 286003, 224082, 78.35)\n",
            "('snacks', 734152, 542890, 73.95)\n",
            "('frozen', 503483, 361712, 71.84)\n",
            "('canned goods', 256307, 167617, 65.4)\n",
            "('dry goods pasta', 210654, 137594, 65.32)\n",
            "('pantry', 346797, 198829, 57.33)\n"
          ]
        }
      ],
      "source": [
        "query = f\"\"\"\n",
        "SELECT\n",
        "    department,\n",
        "    COUNT(*) AS total_orders,\n",
        "    SUM(reordered) AS total_reorders,\n",
        "    ROUND(100.0 * SUM(reordered) / COUNT(*), 2) AS reorder_ratio\n",
        "FROM {database_name}.{table_name}\n",
        "GROUP BY department\n",
        "ORDER BY reorder_ratio DESC;\n",
        "\"\"\"\n",
        "cursor.execute(query)\n",
        "rows = cursor.fetchall()\n",
        "print(\"Reorder Ratio by Department:\")\n",
        "for row in rows:\n",
        "    print(row)\n"
      ]
    },
    {
      "cell_type": "markdown",
      "id": "5400ed06-20af-481e-9cbe-3745fcac1021",
      "metadata": {
        "id": "5400ed06-20af-481e-9cbe-3745fcac1021"
      },
      "source": [
        "### Insights\n",
        "\n",
        "- Dairy & Eggs Have the Highest Reorder Rate (82.68%)\n",
        "    - Most frequently reordered category.\n",
        "    - Milk, Yogurt, and Cheese are household staples → high repurchase behavior.\n",
        "\n",
        "- Beverages Rank #2 in Reorders (80.88%)\n",
        "    - Bottled Water, Sparkling Water, and Coffee/Tea are commonly repurchased.\n",
        "    - These items are frequently consumed & replaced regularly.\n",
        "\n",
        "- Produce Has a High Reorder Rate (80.66%)\n",
        "    - Fruits and vegetables have a high purchase frequency.\n",
        "    - Bananas, Avocados, and Berries from previous queries reinforce this trend.\n",
        "\n",
        "- Bakery (80.35%) & Deli (78.35%) Show Strong Reorder Loyalty\n",
        "    - Bread, Bagels, and Pre-packaged Deli Items are regularly bought items.\n",
        "    - Customers often stick to the same brands.\n",
        "\n",
        "- Snacks & Frozen Foods Have Moderate Reorder Rates (~70%)\n",
        "    - Chips, Pretzels, and Frozen Meals are repurchased but less frequently than fresh foods.\n",
        "\n",
        "- Canned Goods & Dry Goods Have Lower Reorder Rates (~65%)\n",
        "    - Longer shelf life → not purchased as frequently.\n",
        "\n",
        "- Pasta, sauces, and canned vegetables last longer → lower immediate repurchase need.\n",
        "\n",
        "- Pantry Has the Lowest Reorder Rate (57.33%)\n",
        "    - Less frequent purchases of pantry staples like flour, condiments, and spices."
      ]
    },
    {
      "cell_type": "code",
      "execution_count": null,
      "id": "a367d871-b8d1-40c4-9656-5eafe1562a3c",
      "metadata": {
        "tags": [],
        "id": "a367d871-b8d1-40c4-9656-5eafe1562a3c",
        "outputId": "628c273a-7864-4f2b-b6e0-82973e0595d0"
      },
      "outputs": [
        {
          "data": {
            "image/png": "[encoded data removed]",
            "text/plain": [
              "<Figure size 1000x600 with 1 Axes>"
            ]
          },
          "metadata": {},
          "output_type": "display_data"
        }
      ],
      "source": [
        "# ===========================\n",
        "# Pie Chart: Reorder Ratio by Department\n",
        "# ===========================\n",
        "\n",
        "# Data from previous query (Department, Reorder Ratio)\n",
        "departments = [\"dairy eggs\", \"beverages\", \"produce\", \"bakery\", \"deli\",\n",
        "               \"snacks\", \"frozen\", \"canned goods\", \"dry goods pasta\", \"pantry\"]\n",
        "reorder_ratio = [82.68, 80.88, 80.66, 80.35, 78.35, 73.95, 71.84, 65.4, 65.32, 57.33]\n",
        "\n",
        "# Create DataFrame\n",
        "df_departments = pd.DataFrame({\"Department\": departments, \"Reorder Ratio\": reorder_ratio})\n",
        "\n",
        "# Plot Pie Chart\n",
        "plt.figure(figsize=(10, 6))\n",
        "plt.pie(df_departments[\"Reorder Ratio\"], labels=df_departments[\"Department\"],\n",
        "        autopct=\"%1.1f%%\", colors=sns.color_palette(\"viridis\", len(departments)), startangle=140)\n",
        "plt.title(\"Reorder Ratio by Department\")\n",
        "plt.axis(\"equal\")  # Equal aspect ratio ensures the pie is drawn as a circle\n",
        "plt.show()"
      ]
    },
    {
      "cell_type": "code",
      "execution_count": null,
      "id": "c924db71-e43c-4a28-9b7b-40ca5be0418d",
      "metadata": {
        "tags": [],
        "id": "c924db71-e43c-4a28-9b7b-40ca5be0418d",
        "outputId": "6b8211df-e6ca-4845-9d72-8a8708745545"
      },
      "outputs": [
        {
          "data": {
            "image/png": "[encoded data removed]",
            "text/plain": [
              "<Figure size 1200x600 with 1 Axes>"
            ]
          },
          "metadata": {},
          "output_type": "display_data"
        }
      ],
      "source": [
        "# ===========================\n",
        "# Stacked Bar Chart: Reordered vs Non-Reordered Orders by Department\n",
        "# ===========================\n",
        "\n",
        "# Data from previous query (Department, Reordered Orders)\n",
        "departments = [\"dairy eggs\", \"beverages\", \"produce\", \"bakery\", \"deli\",\n",
        "               \"snacks\", \"frozen\", \"canned goods\", \"dry goods pasta\", \"pantry\"]\n",
        "total_orders = [1552847, 586406, 2792150, 319346, 286003, 734152, 503483, 256307, 210654, 346797]\n",
        "reordered = [1283956, 474261, 2252168, 256586, 224082, 542890, 361712, 167617, 137594, 198829]\n",
        "non_reordered = [total - reorder for total, reorder in zip(total_orders, reordered)]\n",
        "\n",
        "# Create DataFrame\n",
        "df_reorders = pd.DataFrame({\"Department\": departments, \"Reordered\": reordered, \"Non-Reordered\": non_reordered})\n",
        "\n",
        "# Plot Stacked Bar Chart (Reordered vs Non-Reordered)\n",
        "df_reorders.set_index(\"Department\")[[\"Reordered\", \"Non-Reordered\"]].plot(kind=\"bar\", stacked=True, figsize=(12, 6), colormap=\"viridis\")\n",
        "plt.xlabel(\"Department\")\n",
        "plt.ylabel(\"Number of Orders\")\n",
        "plt.title(\"Reordered vs Non-Reordered Orders by Department\")\n",
        "plt.legend([\"Reordered\", \"Non-Reordered\"])\n",
        "plt.xticks(rotation=45)\n",
        "plt.show()"
      ]
    },
    {
      "cell_type": "markdown",
      "id": "52e9a1d8-b23f-4872-a79c-7c3e7ad61ed2",
      "metadata": {
        "id": "52e9a1d8-b23f-4872-a79c-7c3e7ad61ed2"
      },
      "source": [
        "**Analysis for reordered vs non-reordered orders by department**:\n",
        "    \n",
        "1. Produce has the highest number of orders overall\n",
        "\n",
        "    - Most of these orders are reorders, confirming that fruits and vegetables are frequently repurchased.\n",
        "\n",
        "2. Dairy & Eggs have the highest reorder percentage\n",
        "    - Consistently repurchased products like milk, cheese, and yogurt drive these numbers.\n",
        "\n",
        "3. Snacks and Frozen Foods have moderate reorder levels\n",
        "    - Customers repurchase snacks and frozen goods but at a slightly lower frequency than fresh items.\n",
        "\n",
        "4. Pantry and Canned Goods have the lowest reorder rates\n",
        "    - These products have a longer shelf life, reducing the need for frequent repurchasing."
      ]
    },
    {
      "cell_type": "markdown",
      "id": "67dca0d4-f965-4ec1-9359-cabeb6b3a511",
      "metadata": {
        "id": "67dca0d4-f965-4ec1-9359-cabeb6b3a511"
      },
      "source": [
        "## Correlation Analysis"
      ]
    },
    {
      "cell_type": "code",
      "execution_count": null,
      "id": "53b1b9ce-e9af-438c-bed2-b8b522251d2b",
      "metadata": {
        "tags": [],
        "id": "53b1b9ce-e9af-438c-bed2-b8b522251d2b",
        "outputId": "87fbdfe0-7000-4935-a592-61e579335f20"
      },
      "outputs": [
        {
          "data": {
            "image/png": "[encoded data removed]",
            "text/plain": [
              "<Figure size 800x600 with 2 Axes>"
            ]
          },
          "metadata": {},
          "output_type": "display_data"
        }
      ],
      "source": [
        "# Data: Numerical Features for Correlation Analysis\n",
        "departments = [\"dairy eggs\", \"beverages\", \"produce\", \"bakery\", \"deli\",\n",
        "               \"snacks\", \"frozen\", \"canned goods\", \"dry goods pasta\", \"pantry\"]\n",
        "total_orders = [1552847, 586406, 2792150, 319346, 286003, 734152, 503483, 256307, 210654, 346797]\n",
        "reordered = [1283956, 474261, 2252168, 256586, 224082, 542890, 361712, 167617, 137594, 198829]\n",
        "reorder_ratio = [82.68, 80.88, 80.66, 80.35, 78.35, 73.95, 71.84, 65.4, 65.32, 57.33]\n",
        "\n",
        "# Creating DataFrame\n",
        "df_correlation = pd.DataFrame({\n",
        "    \"Total Orders\": total_orders,\n",
        "    \"Reordered Orders\": reordered,\n",
        "    \"Reorder Ratio (%)\": reorder_ratio\n",
        "})\n",
        "\n",
        "# Computing Correlation Matrix\n",
        "correlation_matrix = df_correlation.corr()\n",
        "\n",
        "# Plotting Correlation Heatmap\n",
        "plt.figure(figsize=(8, 6))\n",
        "sns.heatmap(correlation_matrix, annot=True, cmap=\"coolwarm\", fmt=\".2f\", linewidths=0.5)\n",
        "plt.title(\"Correlation Matrix of Order Features\")\n",
        "plt.show()\n"
      ]
    },
    {
      "cell_type": "markdown",
      "id": "4046bfdb-0681-4490-a61e-e924bf8f8c5a",
      "metadata": {
        "id": "4046bfdb-0681-4490-a61e-e924bf8f8c5a"
      },
      "source": [
        "- Total Orders & Reordered Orders (Correlation = 1.00)\n",
        "    - This confirms that departments with high total orders also have high reorders.\n",
        "    - Produce, Dairy, and Beverages are likely contributing to this trend.\n",
        "\n",
        "- Total Orders & Reorder Ratio (Correlation = 0.49)\n",
        "    - Moderate positive correlation → Higher orders somewhat influence the reorder rate, but not always.\n",
        "    - Some departments may have high first-time purchases but lower reorder rates (e.g., snacks, pantry items).\n",
        "\n",
        "- Reordered Orders & Reorder Ratio (Correlation = 0.52)\n",
        "    - A moderate correlation suggests that higher reorder volumes influence reorder ratio but not perfectly.\n",
        "    - Some products (like dairy & produce) are reordered very frequently, while others (like pantry goods) less frequently.\n"
      ]
    },
    {
      "cell_type": "markdown",
      "source": [
        "# Feature Engineering"
      ],
      "metadata": {
        "id": "8CTXjesgcyv7"
      },
      "id": "8CTXjesgcyv7"
    },
    {
      "cell_type": "markdown",
      "source": [
        "For creating ML Feature features, I am going to use the following labels:\n",
        "\n",
        "- User ID: \tThis tracks individual purchase behavior.\n",
        "- Product ID: Helps identify frequently reordered products.\n",
        "- Department ID: Some departments have higher reorder rates.\n",
        "- Aisle ID: Aisle-level trends impact reorder likelihood.\n",
        "- Total Orders: Highly correlated with reorder behavior.\n",
        "- Reorder Ratio: Strong predictor of repeat purchases.\n",
        "- Total items in Orders: \tDetermines if larger orders influence reorders.\n",
        "- User Order Frequency: Identifies frequent vs. occasional buyers.\n",
        "- User Reorder Percentage: Determines likelihood of repeat purchases.\n",
        "- Product popularity: Captures demand for the product.\n",
        "- Department reorder ratio: Some departments have stronger reorder trends.\n",
        "- Aisle Reorder ratio: Aisle-specific reorder behavior.\n",
        "- Product Reorder trend:  Helps detect seasonal or trending products.\n"
      ],
      "metadata": {
        "id": "QXUyFSf-dkCl"
      },
      "id": "QXUyFSf-dkCl"
    },
    {
      "cell_type": "markdown",
      "source": [
        "Strongest predictions for EDA:\n",
        "\n",
        "1. Reorder Ratio: strongly correlated with reorders.\n",
        "2. Total Orders: high correlation with reorder likelihood.\n",
        "3. User Reorder percerntage: Helps preduct if a user is likely to reorder.\n",
        "4. Product Popularity: popular items have higher reorders.\n",
        "5. Department and Aisle reorder ratios: certain categories drive higher reorders.\n"
      ],
      "metadata": {
        "id": "lWUKol76c2IY"
      },
      "id": "lWUKol76c2IY"
    }
  ],
  "metadata": {
    "availableInstances": [
      {
        "_defaultOrder": 0,
        "_isFastLaunch": true,
        "category": "General purpose",
        "gpuNum": 0,
        "hideHardwareSpecs": false,
        "memoryGiB": 4,
        "name": "ml.t3.medium",
        "vcpuNum": 2
      },
      {
        "_defaultOrder": 1,
        "_isFastLaunch": false,
        "category": "General purpose",
        "gpuNum": 0,
        "hideHardwareSpecs": false,
        "memoryGiB": 8,
        "name": "ml.t3.large",
        "vcpuNum": 2
      },
      {
        "_defaultOrder": 2,
        "_isFastLaunch": false,
        "category": "General purpose",
        "gpuNum": 0,
        "hideHardwareSpecs": false,
        "memoryGiB": 16,
        "name": "ml.t3.xlarge",
        "vcpuNum": 4
      },
      {
        "_defaultOrder": 3,
        "_isFastLaunch": false,
        "category": "General purpose",
        "gpuNum": 0,
        "hideHardwareSpecs": false,
        "memoryGiB": 32,
        "name": "ml.t3.2xlarge",
        "vcpuNum": 8
      },
      {
        "_defaultOrder": 4,
        "_isFastLaunch": true,
        "category": "General purpose",
        "gpuNum": 0,
        "hideHardwareSpecs": false,
        "memoryGiB": 8,
        "name": "ml.m5.large",
        "vcpuNum": 2
      },
      {
        "_defaultOrder": 5,
        "_isFastLaunch": false,
        "category": "General purpose",
        "gpuNum": 0,
        "hideHardwareSpecs": false,
        "memoryGiB": 16,
        "name": "ml.m5.xlarge",
        "vcpuNum": 4
      },
      {
        "_defaultOrder": 6,
        "_isFastLaunch": false,
        "category": "General purpose",
        "gpuNum": 0,
        "hideHardwareSpecs": false,
        "memoryGiB": 32,
        "name": "ml.m5.2xlarge",
        "vcpuNum": 8
      },
      {
        "_defaultOrder": 7,
        "_isFastLaunch": false,
        "category": "General purpose",
        "gpuNum": 0,
        "hideHardwareSpecs": false,
        "memoryGiB": 64,
        "name": "ml.m5.4xlarge",
        "vcpuNum": 16
      },
      {
        "_defaultOrder": 8,
        "_isFastLaunch": false,
        "category": "General purpose",
        "gpuNum": 0,
        "hideHardwareSpecs": false,
        "memoryGiB": 128,
        "name": "ml.m5.8xlarge",
        "vcpuNum": 32
      },
      {
        "_defaultOrder": 9,
        "_isFastLaunch": false,
        "category": "General purpose",
        "gpuNum": 0,
        "hideHardwareSpecs": false,
        "memoryGiB": 192,
        "name": "ml.m5.12xlarge",
        "vcpuNum": 48
      },
      {
        "_defaultOrder": 10,
        "_isFastLaunch": false,
        "category": "General purpose",
        "gpuNum": 0,
        "hideHardwareSpecs": false,
        "memoryGiB": 256,
        "name": "ml.m5.16xlarge",
        "vcpuNum": 64
      },
      {
        "_defaultOrder": 11,
        "_isFastLaunch": false,
        "category": "General purpose",
        "gpuNum": 0,
        "hideHardwareSpecs": false,
        "memoryGiB": 384,
        "name": "ml.m5.24xlarge",
        "vcpuNum": 96
      },
      {
        "_defaultOrder": 12,
        "_isFastLaunch": false,
        "category": "General purpose",
        "gpuNum": 0,
        "hideHardwareSpecs": false,
        "memoryGiB": 8,
        "name": "ml.m5d.large",
        "vcpuNum": 2
      },
      {
        "_defaultOrder": 13,
        "_isFastLaunch": false,
        "category": "General purpose",
        "gpuNum": 0,
        "hideHardwareSpecs": false,
        "memoryGiB": 16,
        "name": "ml.m5d.xlarge",
        "vcpuNum": 4
      },
      {
        "_defaultOrder": 14,
        "_isFastLaunch": false,
        "category": "General purpose",
        "gpuNum": 0,
        "hideHardwareSpecs": false,
        "memoryGiB": 32,
        "name": "ml.m5d.2xlarge",
        "vcpuNum": 8
      },
      {
        "_defaultOrder": 15,
        "_isFastLaunch": false,
        "category": "General purpose",
        "gpuNum": 0,
        "hideHardwareSpecs": false,
        "memoryGiB": 64,
        "name": "ml.m5d.4xlarge",
        "vcpuNum": 16
      },
      {
        "_defaultOrder": 16,
        "_isFastLaunch": false,
        "category": "General purpose",
        "gpuNum": 0,
        "hideHardwareSpecs": false,
        "memoryGiB": 128,
        "name": "ml.m5d.8xlarge",
        "vcpuNum": 32
      },
      {
        "_defaultOrder": 17,
        "_isFastLaunch": false,
        "category": "General purpose",
        "gpuNum": 0,
        "hideHardwareSpecs": false,
        "memoryGiB": 192,
        "name": "ml.m5d.12xlarge",
        "vcpuNum": 48
      },
      {
        "_defaultOrder": 18,
        "_isFastLaunch": false,
        "category": "General purpose",
        "gpuNum": 0,
        "hideHardwareSpecs": false,
        "memoryGiB": 256,
        "name": "ml.m5d.16xlarge",
        "vcpuNum": 64
      },
      {
        "_defaultOrder": 19,
        "_isFastLaunch": false,
        "category": "General purpose",
        "gpuNum": 0,
        "hideHardwareSpecs": false,
        "memoryGiB": 384,
        "name": "ml.m5d.24xlarge",
        "vcpuNum": 96
      },
      {
        "_defaultOrder": 20,
        "_isFastLaunch": false,
        "category": "General purpose",
        "gpuNum": 0,
        "hideHardwareSpecs": true,
        "memoryGiB": 0,
        "name": "ml.geospatial.interactive",
        "supportedImageNames": [
          "sagemaker-geospatial-v1-0"
        ],
        "vcpuNum": 0
      },
      {
        "_defaultOrder": 21,
        "_isFastLaunch": true,
        "category": "Compute optimized",
        "gpuNum": 0,
        "hideHardwareSpecs": false,
        "memoryGiB": 4,
        "name": "ml.c5.large",
        "vcpuNum": 2
      },
      {
        "_defaultOrder": 22,
        "_isFastLaunch": false,
        "category": "Compute optimized",
        "gpuNum": 0,
        "hideHardwareSpecs": false,
        "memoryGiB": 8,
        "name": "ml.c5.xlarge",
        "vcpuNum": 4
      },
      {
        "_defaultOrder": 23,
        "_isFastLaunch": false,
        "category": "Compute optimized",
        "gpuNum": 0,
        "hideHardwareSpecs": false,
        "memoryGiB": 16,
        "name": "ml.c5.2xlarge",
        "vcpuNum": 8
      },
      {
        "_defaultOrder": 24,
        "_isFastLaunch": false,
        "category": "Compute optimized",
        "gpuNum": 0,
        "hideHardwareSpecs": false,
        "memoryGiB": 32,
        "name": "ml.c5.4xlarge",
        "vcpuNum": 16
      },
      {
        "_defaultOrder": 25,
        "_isFastLaunch": false,
        "category": "Compute optimized",
        "gpuNum": 0,
        "hideHardwareSpecs": false,
        "memoryGiB": 72,
        "name": "ml.c5.9xlarge",
        "vcpuNum": 36
      },
      {
        "_defaultOrder": 26,
        "_isFastLaunch": false,
        "category": "Compute optimized",
        "gpuNum": 0,
        "hideHardwareSpecs": false,
        "memoryGiB": 96,
        "name": "ml.c5.12xlarge",
        "vcpuNum": 48
      },
      {
        "_defaultOrder": 27,
        "_isFastLaunch": false,
        "category": "Compute optimized",
        "gpuNum": 0,
        "hideHardwareSpecs": false,
        "memoryGiB": 144,
        "name": "ml.c5.18xlarge",
        "vcpuNum": 72
      },
      {
        "_defaultOrder": 28,
        "_isFastLaunch": false,
        "category": "Compute optimized",
        "gpuNum": 0,
        "hideHardwareSpecs": false,
        "memoryGiB": 192,
        "name": "ml.c5.24xlarge",
        "vcpuNum": 96
      },
      {
        "_defaultOrder": 29,
        "_isFastLaunch": true,
        "category": "Accelerated computing",
        "gpuNum": 1,
        "hideHardwareSpecs": false,
        "memoryGiB": 16,
        "name": "ml.g4dn.xlarge",
        "vcpuNum": 4
      },
      {
        "_defaultOrder": 30,
        "_isFastLaunch": false,
        "category": "Accelerated computing",
        "gpuNum": 1,
        "hideHardwareSpecs": false,
        "memoryGiB": 32,
        "name": "ml.g4dn.2xlarge",
        "vcpuNum": 8
      },
      {
        "_defaultOrder": 31,
        "_isFastLaunch": false,
        "category": "Accelerated computing",
        "gpuNum": 1,
        "hideHardwareSpecs": false,
        "memoryGiB": 64,
        "name": "ml.g4dn.4xlarge",
        "vcpuNum": 16
      },
      {
        "_defaultOrder": 32,
        "_isFastLaunch": false,
        "category": "Accelerated computing",
        "gpuNum": 1,
        "hideHardwareSpecs": false,
        "memoryGiB": 128,
        "name": "ml.g4dn.8xlarge",
        "vcpuNum": 32
      },
      {
        "_defaultOrder": 33,
        "_isFastLaunch": false,
        "category": "Accelerated computing",
        "gpuNum": 4,
        "hideHardwareSpecs": false,
        "memoryGiB": 192,
        "name": "ml.g4dn.12xlarge",
        "vcpuNum": 48
      },
      {
        "_defaultOrder": 34,
        "_isFastLaunch": false,
        "category": "Accelerated computing",
        "gpuNum": 1,
        "hideHardwareSpecs": false,
        "memoryGiB": 256,
        "name": "ml.g4dn.16xlarge",
        "vcpuNum": 64
      },
      {
        "_defaultOrder": 35,
        "_isFastLaunch": false,
        "category": "Accelerated computing",
        "gpuNum": 1,
        "hideHardwareSpecs": false,
        "memoryGiB": 61,
        "name": "ml.p3.2xlarge",
        "vcpuNum": 8
      },
      {
        "_defaultOrder": 36,
        "_isFastLaunch": false,
        "category": "Accelerated computing",
        "gpuNum": 4,
        "hideHardwareSpecs": false,
        "memoryGiB": 244,
        "name": "ml.p3.8xlarge",
        "vcpuNum": 32
      },
      {
        "_defaultOrder": 37,
        "_isFastLaunch": false,
        "category": "Accelerated computing",
        "gpuNum": 8,
        "hideHardwareSpecs": false,
        "memoryGiB": 488,
        "name": "ml.p3.16xlarge",
        "vcpuNum": 64
      },
      {
        "_defaultOrder": 38,
        "_isFastLaunch": false,
        "category": "Accelerated computing",
        "gpuNum": 8,
        "hideHardwareSpecs": false,
        "memoryGiB": 768,
        "name": "ml.p3dn.24xlarge",
        "vcpuNum": 96
      },
      {
        "_defaultOrder": 39,
        "_isFastLaunch": false,
        "category": "Memory Optimized",
        "gpuNum": 0,
        "hideHardwareSpecs": false,
        "memoryGiB": 16,
        "name": "ml.r5.large",
        "vcpuNum": 2
      },
      {
        "_defaultOrder": 40,
        "_isFastLaunch": false,
        "category": "Memory Optimized",
        "gpuNum": 0,
        "hideHardwareSpecs": false,
        "memoryGiB": 32,
        "name": "ml.r5.xlarge",
        "vcpuNum": 4
      },
      {
        "_defaultOrder": 41,
        "_isFastLaunch": false,
        "category": "Memory Optimized",
        "gpuNum": 0,
        "hideHardwareSpecs": false,
        "memoryGiB": 64,
        "name": "ml.r5.2xlarge",
        "vcpuNum": 8
      },
      {
        "_defaultOrder": 42,
        "_isFastLaunch": false,
        "category": "Memory Optimized",
        "gpuNum": 0,
        "hideHardwareSpecs": false,
        "memoryGiB": 128,
        "name": "ml.r5.4xlarge",
        "vcpuNum": 16
      },
      {
        "_defaultOrder": 43,
        "_isFastLaunch": false,
        "category": "Memory Optimized",
        "gpuNum": 0,
        "hideHardwareSpecs": false,
        "memoryGiB": 256,
        "name": "ml.r5.8xlarge",
        "vcpuNum": 32
      },
      {
        "_defaultOrder": 44,
        "_isFastLaunch": false,
        "category": "Memory Optimized",
        "gpuNum": 0,
        "hideHardwareSpecs": false,
        "memoryGiB": 384,
        "name": "ml.r5.12xlarge",
        "vcpuNum": 48
      },
      {
        "_defaultOrder": 45,
        "_isFastLaunch": false,
        "category": "Memory Optimized",
        "gpuNum": 0,
        "hideHardwareSpecs": false,
        "memoryGiB": 512,
        "name": "ml.r5.16xlarge",
        "vcpuNum": 64
      },
      {
        "_defaultOrder": 46,
        "_isFastLaunch": false,
        "category": "Memory Optimized",
        "gpuNum": 0,
        "hideHardwareSpecs": false,
        "memoryGiB": 768,
        "name": "ml.r5.24xlarge",
        "vcpuNum": 96
      },
      {
        "_defaultOrder": 47,
        "_isFastLaunch": false,
        "category": "Accelerated computing",
        "gpuNum": 1,
        "hideHardwareSpecs": false,
        "memoryGiB": 16,
        "name": "ml.g5.xlarge",
        "vcpuNum": 4
      },
      {
        "_defaultOrder": 48,
        "_isFastLaunch": false,
        "category": "Accelerated computing",
        "gpuNum": 1,
        "hideHardwareSpecs": false,
        "memoryGiB": 32,
        "name": "ml.g5.2xlarge",
        "vcpuNum": 8
      },
      {
        "_defaultOrder": 49,
        "_isFastLaunch": false,
        "category": "Accelerated computing",
        "gpuNum": 1,
        "hideHardwareSpecs": false,
        "memoryGiB": 64,
        "name": "ml.g5.4xlarge",
        "vcpuNum": 16
      },
      {
        "_defaultOrder": 50,
        "_isFastLaunch": false,
        "category": "Accelerated computing",
        "gpuNum": 1,
        "hideHardwareSpecs": false,
        "memoryGiB": 128,
        "name": "ml.g5.8xlarge",
        "vcpuNum": 32
      },
      {
        "_defaultOrder": 51,
        "_isFastLaunch": false,
        "category": "Accelerated computing",
        "gpuNum": 1,
        "hideHardwareSpecs": false,
        "memoryGiB": 256,
        "name": "ml.g5.16xlarge",
        "vcpuNum": 64
      },
      {
        "_defaultOrder": 52,
        "_isFastLaunch": false,
        "category": "Accelerated computing",
        "gpuNum": 4,
        "hideHardwareSpecs": false,
        "memoryGiB": 192,
        "name": "ml.g5.12xlarge",
        "vcpuNum": 48
      },
      {
        "_defaultOrder": 53,
        "_isFastLaunch": false,
        "category": "Accelerated computing",
        "gpuNum": 4,
        "hideHardwareSpecs": false,
        "memoryGiB": 384,
        "name": "ml.g5.24xlarge",
        "vcpuNum": 96
      },
      {
        "_defaultOrder": 54,
        "_isFastLaunch": false,
        "category": "Accelerated computing",
        "gpuNum": 8,
        "hideHardwareSpecs": false,
        "memoryGiB": 768,
        "name": "ml.g5.48xlarge",
        "vcpuNum": 192
      },
      {
        "_defaultOrder": 55,
        "_isFastLaunch": false,
        "category": "Accelerated computing",
        "gpuNum": 8,
        "hideHardwareSpecs": false,
        "memoryGiB": 1152,
        "name": "ml.p4d.24xlarge",
        "vcpuNum": 96
      },
      {
        "_defaultOrder": 56,
        "_isFastLaunch": false,
        "category": "Accelerated computing",
        "gpuNum": 8,
        "hideHardwareSpecs": false,
        "memoryGiB": 1152,
        "name": "ml.p4de.24xlarge",
        "vcpuNum": 96
      },
      {
        "_defaultOrder": 57,
        "_isFastLaunch": false,
        "category": "Accelerated computing",
        "gpuNum": 0,
        "hideHardwareSpecs": false,
        "memoryGiB": 32,
        "name": "ml.trn1.2xlarge",
        "vcpuNum": 8
      },
      {
        "_defaultOrder": 58,
        "_isFastLaunch": false,
        "category": "Accelerated computing",
        "gpuNum": 0,
        "hideHardwareSpecs": false,
        "memoryGiB": 512,
        "name": "ml.trn1.32xlarge",
        "vcpuNum": 128
      },
      {
        "_defaultOrder": 59,
        "_isFastLaunch": false,
        "category": "Accelerated computing",
        "gpuNum": 0,
        "hideHardwareSpecs": false,
        "memoryGiB": 512,
        "name": "ml.trn1n.32xlarge",
        "vcpuNum": 128
      }
    ],
    "instance_type": "ml.t3.medium",
    "kernelspec": {
      "display_name": "Python 3 (Data Science 4.0)",
      "language": "python",
      "name": "python3__SAGEMAKER_INTERNAL__arn:aws:sagemaker:us-east-1:081325390199:image/sagemaker-data-science-311-v1"
    },
    "language_info": {
      "codemirror_mode": {
        "name": "ipython",
        "version": 3
      },
      "file_extension": ".py",
      "mimetype": "text/x-python",
      "name": "python",
      "nbconvert_exporter": "python",
      "pygments_lexer": "ipython3",
      "version": "3.11.9"
    },
    "colab": {
      "provenance": []
    }
  },
  "nbformat": 4,
  "nbformat_minor": 5
}
