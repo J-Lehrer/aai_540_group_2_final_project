{
  "nbformat": 4,
  "nbformat_minor": 0,
  "metadata": {
    "colab": {
      "provenance": [],
      "mount_file_id": "1TaFzyc2JX4pezHXJyx9Ehwwdg_e8yhcJ",
      "authorship_tag": "ABX9TyNlPXs9l4CfdrwwROSOgCHM",
      "include_colab_link": true
    },
    "kernelspec": {
      "name": "python3",
      "display_name": "Python 3"
    },
    "language_info": {
      "name": "python"
    }
  },
  "cells": [
    {
      "cell_type": "markdown",
      "metadata": {
        "id": "view-in-github",
        "colab_type": "text"
      },
      "source": [
        "<a href=\"https://colab.research.google.com/github/J-Lehrer/aai_540_group_2_final_project/blob/main/Maria_Leal_Reduced_of_Data.ipynb\" target=\"_parent\"><img src=\"https://colab.research.google.com/assets/colab-badge.svg\" alt=\"Open In Colab\"/></a>"
      ]
    },
    {
      "cell_type": "markdown",
      "source": [
        "# Importing necessary libraries"
      ],
      "metadata": {
        "id": "uhBrCi3MsbZs"
      }
    },
    {
      "cell_type": "code",
      "source": [
        "import zipfile\n",
        "import os\n",
        "import pandas as pd"
      ],
      "metadata": {
        "id": "p-MMKTQZsi2E"
      },
      "execution_count": 1,
      "outputs": []
    },
    {
      "cell_type": "markdown",
      "source": [
        "# Decompressing the \"Archive\" files."
      ],
      "metadata": {
        "id": "7xlQkZa_aeZ-"
      }
    },
    {
      "cell_type": "code",
      "execution_count": 3,
      "metadata": {
        "colab": {
          "base_uri": "https://localhost:8080/"
        },
        "id": "vNmHwGGeWoVw",
        "outputId": "823b7583-18af-4c7d-bee8-46d298a9301c"
      },
      "outputs": [
        {
          "output_type": "stream",
          "name": "stdout",
          "text": [
            "Files extracted to /content/drive/MyDrive/MLOps/Instant_Cart\n"
          ]
        }
      ],
      "source": [
        "# Defining the path to the \"Archives\" folder.\n",
        "archive_path = \"/content/drive/MyDrive/MLOps/archive.zip\"\n",
        "extract_path =\"/content/drive/MyDrive/MLOps/Instant_Cart\"\n",
        "\n",
        "# Extract the archive\n",
        "with zipfile.ZipFile(archive_path, 'r') as zip_ref:\n",
        "    zip_ref.extractall(extract_path)\n",
        "print(f\"Files extracted to {extract_path}\")"
      ]
    },
    {
      "cell_type": "markdown",
      "source": [
        "# Loading the extracted CSV files"
      ],
      "metadata": {
        "id": "V5_HpEmUbNVM"
      }
    },
    {
      "cell_type": "code",
      "source": [
        "extract_path =\"/content/drive/MyDrive/MLOps/Instant_Cart\""
      ],
      "metadata": {
        "id": "M2AC3416voQO"
      },
      "execution_count": 2,
      "outputs": []
    },
    {
      "cell_type": "code",
      "source": [
        "# Defining the paths to the files\n",
        "orders_path = os.path.join(extract_path, 'orders.csv')\n",
        "order_products_prior_path = os.path.join(extract_path, 'order_products__prior.csv')\n",
        "order_products_train_path = os.path.join(extract_path, 'order_products__train.csv')\n",
        "aisles_path = os.path.join(extract_path, 'aisles.csv')\n",
        "departments_path = os.path.join(extract_path, 'departments.csv')\n",
        "products_path = os.path.join(extract_path, 'products.csv')\n",
        "\n",
        "# Loading the CSV files into DataFrames\n",
        "orders = pd.read_csv(orders_path)\n",
        "order_products_prior = pd.read_csv(order_products_prior_path)\n",
        "order_products_train = pd.read_csv(order_products_train_path)\n",
        "aisles = pd.read_csv(aisles_path)\n",
        "departments = pd.read_csv(departments_path)\n",
        "products = pd.read_csv(products_path)\n",
        "\n",
        "print(\"Files successfully load!\")"
      ],
      "metadata": {
        "colab": {
          "base_uri": "https://localhost:8080/"
        },
        "id": "KEBu7idUbRDg",
        "outputId": "7e001383-23b2-4bc8-f95a-843b98776674"
      },
      "execution_count": 3,
      "outputs": [
        {
          "output_type": "stream",
          "name": "stdout",
          "text": [
            "Files successfully load!\n"
          ]
        }
      ]
    },
    {
      "cell_type": "markdown",
      "source": [
        "## Checking Dataframes"
      ],
      "metadata": {
        "id": "k1cLAsPVcabS"
      }
    },
    {
      "cell_type": "code",
      "source": [
        "# Checking DataFrame shape and info\n",
        "print(\"Orders:\")\n",
        "print(orders.shape)\n",
        "print(orders.info())\n",
        "print(\"\")\n",
        "print(\"Order Products Prior:\")\n",
        "print(order_products_prior.shape)\n",
        "print(order_products_prior.info())\n",
        "print(\"\")\n",
        "print(\"Order Products Train:\")\n",
        "print(order_products_train.shape)\n",
        "print(order_products_train.info())\n",
        "print(\"\")\n",
        "print(\"Aisles:\")\n",
        "print(aisles.shape)\n",
        "print(aisles.info())\n",
        "print(\"\")\n",
        "print(\"Departments:\")\n",
        "print(departments.shape)\n",
        "print(departments.info())\n",
        "print(\"\")\n",
        "print(\"Products:\")\n",
        "print(products.shape)\n",
        "print(products.info())\n"
      ],
      "metadata": {
        "colab": {
          "base_uri": "https://localhost:8080/"
        },
        "id": "zYtB1rkacfaV",
        "outputId": "b8948f2e-c401-47ab-9f41-0bc5d427f8b5"
      },
      "execution_count": 3,
      "outputs": [
        {
          "output_type": "stream",
          "name": "stdout",
          "text": [
            "Orders:\n",
            "(3421083, 7)\n",
            "<class 'pandas.core.frame.DataFrame'>\n",
            "RangeIndex: 3421083 entries, 0 to 3421082\n",
            "Data columns (total 7 columns):\n",
            " #   Column                  Dtype  \n",
            "---  ------                  -----  \n",
            " 0   order_id                int64  \n",
            " 1   user_id                 int64  \n",
            " 2   eval_set                object \n",
            " 3   order_number            int64  \n",
            " 4   order_dow               int64  \n",
            " 5   order_hour_of_day       int64  \n",
            " 6   days_since_prior_order  float64\n",
            "dtypes: float64(1), int64(5), object(1)\n",
            "memory usage: 182.7+ MB\n",
            "None\n",
            "\n",
            "Order Products Prior:\n",
            "(32434489, 4)\n",
            "<class 'pandas.core.frame.DataFrame'>\n",
            "RangeIndex: 32434489 entries, 0 to 32434488\n",
            "Data columns (total 4 columns):\n",
            " #   Column             Dtype\n",
            "---  ------             -----\n",
            " 0   order_id           int64\n",
            " 1   product_id         int64\n",
            " 2   add_to_cart_order  int64\n",
            " 3   reordered          int64\n",
            "dtypes: int64(4)\n",
            "memory usage: 989.8 MB\n",
            "None\n",
            "\n",
            "Order Products Train:\n",
            "(1384617, 4)\n",
            "<class 'pandas.core.frame.DataFrame'>\n",
            "RangeIndex: 1384617 entries, 0 to 1384616\n",
            "Data columns (total 4 columns):\n",
            " #   Column             Non-Null Count    Dtype\n",
            "---  ------             --------------    -----\n",
            " 0   order_id           1384617 non-null  int64\n",
            " 1   product_id         1384617 non-null  int64\n",
            " 2   add_to_cart_order  1384617 non-null  int64\n",
            " 3   reordered          1384617 non-null  int64\n",
            "dtypes: int64(4)\n",
            "memory usage: 42.3 MB\n",
            "None\n",
            "\n",
            "Aisles:\n",
            "(134, 2)\n",
            "<class 'pandas.core.frame.DataFrame'>\n",
            "RangeIndex: 134 entries, 0 to 133\n",
            "Data columns (total 2 columns):\n",
            " #   Column    Non-Null Count  Dtype \n",
            "---  ------    --------------  ----- \n",
            " 0   aisle_id  134 non-null    int64 \n",
            " 1   aisle     134 non-null    object\n",
            "dtypes: int64(1), object(1)\n",
            "memory usage: 2.2+ KB\n",
            "None\n",
            "\n",
            "Departments:\n",
            "(21, 2)\n",
            "<class 'pandas.core.frame.DataFrame'>\n",
            "RangeIndex: 21 entries, 0 to 20\n",
            "Data columns (total 2 columns):\n",
            " #   Column         Non-Null Count  Dtype \n",
            "---  ------         --------------  ----- \n",
            " 0   department_id  21 non-null     int64 \n",
            " 1   department     21 non-null     object\n",
            "dtypes: int64(1), object(1)\n",
            "memory usage: 468.0+ bytes\n",
            "None\n",
            "\n",
            "Products:\n",
            "(49688, 4)\n",
            "<class 'pandas.core.frame.DataFrame'>\n",
            "RangeIndex: 49688 entries, 0 to 49687\n",
            "Data columns (total 4 columns):\n",
            " #   Column         Non-Null Count  Dtype \n",
            "---  ------         --------------  ----- \n",
            " 0   product_id     49688 non-null  int64 \n",
            " 1   product_name   49688 non-null  object\n",
            " 2   aisle_id       49688 non-null  int64 \n",
            " 3   department_id  49688 non-null  int64 \n",
            "dtypes: int64(3), object(1)\n",
            "memory usage: 1.5+ MB\n",
            "None\n"
          ]
        }
      ]
    },
    {
      "cell_type": "markdown",
      "source": [
        "# Aggregate product orders"
      ],
      "metadata": {
        "id": "WWBZh-HVeyeG"
      }
    },
    {
      "cell_type": "markdown",
      "source": [
        "In this step, I am combining the dataset: order_products_prior.csv and order_products_train files to compute the total frequency of each product."
      ],
      "metadata": {
        "id": "7MJgNdA9e4du"
      }
    },
    {
      "cell_type": "code",
      "source": [
        "# Combining prior and train datasets\n",
        "all_order_products = pd.concat([order_products_prior, order_products_train])\n",
        "\n",
        "# Calculating product frequency\n",
        "product_frequency = all_order_products.groupby('product_id').size().reset_index(name='order_count')\n",
        "\n",
        "# Getting the top 10,000 most ordered products\n",
        "top_10k_products = product_frequency.nlargest(10000, 'order_count')\n",
        "print(\"Top 10,000 products identified!\")"
      ],
      "metadata": {
        "colab": {
          "base_uri": "https://localhost:8080/"
        },
        "id": "XXLGTwBHe2UB",
        "outputId": "c33b243e-1b3d-4041-85f0-473904154590"
      },
      "execution_count": 21,
      "outputs": [
        {
          "output_type": "stream",
          "name": "stdout",
          "text": [
            "Top 10,000 products identified!\n"
          ]
        }
      ]
    },
    {
      "cell_type": "markdown",
      "source": [
        "# Filtering orders by Top 10,000 products"
      ],
      "metadata": {
        "id": "9pBSoe8vgBcP"
      }
    },
    {
      "cell_type": "markdown",
      "source": [
        "In this step, I am filtering the orders to include only those that contain one or more of the top 10,000 products"
      ],
      "metadata": {
        "id": "MjLzbXiRgHTa"
      }
    },
    {
      "cell_type": "code",
      "source": [
        "# Filtering orders with top 10k products\n",
        "filtered_orders = all_order_products[all_order_products['product_id'].isin(top_10k_products['product_id'])]\n",
        "\n",
        "# Getting the list of relevant order IDs\n",
        "filtered_order_ids = filtered_orders['order_id'].unique()\n",
        "\n",
        "# Filtering the orders DataFrame\n",
        "filtered_orders_df = orders[orders['order_id'].isin(filtered_order_ids)]\n",
        "print(f\"Filtered orders to include only top 10,000 products. Remaining orders: {len(filtered_orders_df)}\")\n"
      ],
      "metadata": {
        "colab": {
          "base_uri": "https://localhost:8080/"
        },
        "id": "rHXlbl_AgOQ6",
        "outputId": "71cf548a-9449-4ce7-e8cc-3ce5fb640660"
      },
      "execution_count": 22,
      "outputs": [
        {
          "output_type": "stream",
          "name": "stdout",
          "text": [
            "Filtered orders to include only top 10,000 products. Remaining orders: 3321331\n"
          ]
        }
      ]
    },
    {
      "cell_type": "code",
      "source": [
        "print(filtered_orders_df.columns)"
      ],
      "metadata": {
        "colab": {
          "base_uri": "https://localhost:8080/"
        },
        "id": "ljwpuP9Nt_N2",
        "outputId": "6fb7412b-d7fa-4390-d1b2-dcc8f7e0bdb4"
      },
      "execution_count": 23,
      "outputs": [
        {
          "output_type": "stream",
          "name": "stdout",
          "text": [
            "Index(['order_id', 'user_id', 'eval_set', 'order_number', 'order_dow',\n",
            "       'order_hour_of_day', 'days_since_prior_order'],\n",
            "      dtype='object')\n"
          ]
        }
      ]
    },
    {
      "cell_type": "markdown",
      "source": [
        "# Further limiting orders by Size"
      ],
      "metadata": {
        "id": "j0WrEK3Qg6Wb"
      }
    },
    {
      "cell_type": "markdown",
      "source": [
        "In the previous step, the total number of orders were reduced to: 3,321,331. Next, I am further limiting the size by retaining orders with a minimum of (5) items to reduce the dataset size further."
      ],
      "metadata": {
        "id": "Gzy5dC9Lg_QY"
      }
    },
    {
      "cell_type": "code",
      "source": [
        "# Counting the number of items in each order\n",
        "order_item_count = filtered_orders.groupby('order_id').size().reset_index(name='item_count')\n",
        "\n",
        "# Setting the minimum item threshold (e.g., X = 5)\n",
        "X = 5\n",
        "\n",
        "# Filtering orders with at least X items\n",
        "large_orders = order_item_count[order_item_count['item_count'] >= X]\n",
        "\n",
        "# Getting the list of valid order IDs\n",
        "valid_order_ids = large_orders['order_id']\n",
        "\n",
        "# Filtering the original dataset to keep only the valid order IDs\n",
        "filtered_orders_df = filtered_orders[filtered_orders['order_id'].isin(valid_order_ids)]\n",
        "\n",
        "# Counting unique orders in the final filtered dataset\n",
        "unique_orders_count = filtered_orders_df['order_id'].nunique()\n",
        "\n",
        "print(f\"Filtered down to orders with at least {X} items.\")\n",
        "print(f\"Final number of unique orders: {unique_orders_count}\")\n",
        "print(f\"Final number of rows (products): {len(filtered_orders_df)}\")\n",
        "\n"
      ],
      "metadata": {
        "colab": {
          "base_uri": "https://localhost:8080/"
        },
        "id": "IOYESoK0oXfR",
        "outputId": "42ee8df4-8f71-4b9b-aa5c-1d6283b9dbdb"
      },
      "execution_count": 24,
      "outputs": [
        {
          "output_type": "stream",
          "name": "stdout",
          "text": [
            "Filtered down to orders with at least 5 items.\n",
            "Final number of unique orders: 2400986\n",
            "Final number of rows (products): 28368235\n"
          ]
        }
      ]
    },
    {
      "cell_type": "markdown",
      "source": [
        "# Further limiting order to \"Active Users\""
      ],
      "metadata": {
        "id": "6f5-XkvKiwFN"
      }
    },
    {
      "cell_type": "markdown",
      "source": [
        "Previously, I limited the orders to include only those that contain only 5 products from the top 10k products. We ended with a total size of: 2,400,986. For further reducing the dataset, I am going to focus on users with consistent purchasing behavior. For example, users with more than \"Y\" total orders. For accomplishing this step, I am going to count the total number of orders per user and filter users with at least 10 orders."
      ],
      "metadata": {
        "id": "OxFMPMs3i80Z"
      }
    },
    {
      "cell_type": "code",
      "source": [
        "print(filtered_orders_df.columns)\n"
      ],
      "metadata": {
        "colab": {
          "base_uri": "https://localhost:8080/"
        },
        "id": "e6utRJKZtqAz",
        "outputId": "d81a2413-399d-4ded-e5d2-78c542ed28fb"
      },
      "execution_count": 25,
      "outputs": [
        {
          "output_type": "stream",
          "name": "stdout",
          "text": [
            "Index(['order_id', 'product_id', 'add_to_cart_order', 'reordered'], dtype='object')\n"
          ]
        }
      ]
    },
    {
      "cell_type": "code",
      "source": [
        "# Merging user_id into filtered_orders_df\n",
        "filtered_orders_df = pd.merge(\n",
        "    filtered_orders_df,\n",
        "    orders[['order_id', 'user_id']],\n",
        "    on='order_id',\n",
        "    how='left'\n",
        ")\n",
        "\n",
        "# Confirming the user_id column is now included\n",
        "print(filtered_orders_df.columns)\n"
      ],
      "metadata": {
        "colab": {
          "base_uri": "https://localhost:8080/"
        },
        "id": "NPfnToP9ughg",
        "outputId": "b327315a-d7d0-41fb-820b-8eb48b9e14a5"
      },
      "execution_count": 26,
      "outputs": [
        {
          "output_type": "stream",
          "name": "stdout",
          "text": [
            "Index(['order_id', 'product_id', 'add_to_cart_order', 'reordered', 'user_id'], dtype='object')\n"
          ]
        }
      ]
    },
    {
      "cell_type": "code",
      "source": [
        "# Counting the total number of orders per user\n",
        "user_order_counts = filtered_orders_df.groupby('user_id').size().reset_index(name='order_count')\n",
        "\n",
        "# Setting the threshold for active users (e.g., Y = 10 orders)\n",
        "Y = 10\n",
        "active_users = user_order_counts[user_order_counts['order_count'] >= Y]\n",
        "active_user_ids = active_users['user_id']\n",
        "\n",
        "print(f\"Number of active users with at least {Y} orders: {len(active_user_ids)}\")\n"
      ],
      "metadata": {
        "colab": {
          "base_uri": "https://localhost:8080/"
        },
        "id": "LZN37tF4jaD7",
        "outputId": "e20cb112-b179-45ee-cd27-5123b8d1734a"
      },
      "execution_count": 27,
      "outputs": [
        {
          "output_type": "stream",
          "name": "stdout",
          "text": [
            "Number of active users with at least 10 orders: 184340\n"
          ]
        }
      ]
    },
    {
      "cell_type": "code",
      "source": [
        "filtered_orders_active_users = filtered_orders_df[filtered_orders_df['user_id'].isin(active_user_ids)]\n",
        "\n",
        "print(f\"Remaining orders: {len(filtered_orders_active_users)}\")\n",
        "print(f\"Unique users: {filtered_orders_active_users['user_id'].nunique()}\")\n"
      ],
      "metadata": {
        "colab": {
          "base_uri": "https://localhost:8080/"
        },
        "id": "zkabOFp9pwa8",
        "outputId": "8fe5a667-4a47-4e0a-970f-d06ccba6b08d"
      },
      "execution_count": 28,
      "outputs": [
        {
          "output_type": "stream",
          "name": "stdout",
          "text": [
            "Remaining orders: 28313728\n",
            "Unique users: 184340\n"
          ]
        }
      ]
    },
    {
      "cell_type": "code",
      "source": [
        "print(f\"Unique orders remaining: {filtered_orders_active_users['order_id'].nunique()}\")"
      ],
      "metadata": {
        "colab": {
          "base_uri": "https://localhost:8080/"
        },
        "id": "1Awir8r4rLnh",
        "outputId": "f2a31e76-6065-4b9c-81ea-047994038695"
      },
      "execution_count": 29,
      "outputs": [
        {
          "output_type": "stream",
          "name": "stdout",
          "text": [
            "Unique orders remaining: 2391917\n"
          ]
        }
      ]
    },
    {
      "cell_type": "code",
      "source": [
        "print(filtered_orders_active_users.columns)"
      ],
      "metadata": {
        "colab": {
          "base_uri": "https://localhost:8080/"
        },
        "id": "2z0vyp2Iu6b6",
        "outputId": "f9d6fca1-74b4-42ad-e559-486c2f700ad3"
      },
      "execution_count": 30,
      "outputs": [
        {
          "output_type": "stream",
          "name": "stdout",
          "text": [
            "Index(['order_id', 'product_id', 'add_to_cart_order', 'reordered', 'user_id'], dtype='object')\n"
          ]
        }
      ]
    },
    {
      "cell_type": "code",
      "source": [
        "# Saving filtered_orders_active_users DataFram into csv\n",
        "filtered_orders_active_users.to_csv('/content/drive/MyDrive/MLOps/Instant_Cart/filtered_orders_active_users.csv', index=False)"
      ],
      "metadata": {
        "id": "c5F_XLsLu_V4"
      },
      "execution_count": 31,
      "outputs": []
    },
    {
      "cell_type": "markdown",
      "source": [
        "# Further filtering by top 10 aisles or departments."
      ],
      "metadata": {
        "id": "1lUMMyf-qBIa"
      }
    },
    {
      "cell_type": "markdown",
      "source": [
        "On the previous process, we obtained a total of 2,391,917 orders. This time, I am focusing on the most frequently ordered items within the top 10 departments. I will be identifying the top 10 departments with the highest number of orders for later retaining only the orders and products that belong to these top aisles or departments."
      ],
      "metadata": {
        "id": "sc6C635kq_z5"
      }
    },
    {
      "cell_type": "code",
      "source": [
        "filtered_orders_active_users = pd.read_csv('/content/drive/MyDrive/MLOps/Instant_Cart/filtered_orders_active_users.csv')"
      ],
      "metadata": {
        "id": "up4PiuqDvxOC"
      },
      "execution_count": 4,
      "outputs": []
    },
    {
      "cell_type": "markdown",
      "source": [
        "In the next step, I am merging aisles.csv and departments.csv with products.csv to enrich the product information with aisle and department details."
      ],
      "metadata": {
        "id": "0YnOCk7sym09"
      }
    },
    {
      "cell_type": "code",
      "source": [
        "# Merging products with aisles and departments\n",
        "products_enriched = pd.merge(\n",
        "    products,\n",
        "    aisles,\n",
        "    on='aisle_id',\n",
        "    how='left'\n",
        ")\n",
        "products_enriched = pd.merge(\n",
        "    products_enriched,\n",
        "    departments,\n",
        "    on='department_id',\n",
        "    how='left'\n",
        ")\n",
        "\n",
        "# Verifying the columns in the enriched product dataset\n",
        "print(products_enriched.columns)\n"
      ],
      "metadata": {
        "colab": {
          "base_uri": "https://localhost:8080/"
        },
        "id": "Ju-tjz1auv94",
        "outputId": "c748ffed-334b-4179-da6c-87373a111b77"
      },
      "execution_count": 6,
      "outputs": [
        {
          "output_type": "stream",
          "name": "stdout",
          "text": [
            "Index(['product_id', 'product_name', 'aisle_id', 'department_id', 'aisle',\n",
            "       'department'],\n",
            "      dtype='object')\n"
          ]
        }
      ]
    },
    {
      "cell_type": "markdown",
      "source": [
        "Below, I joing the enriched products information (products_enriched) with the (filtered_orders_active_users) DataFrame."
      ],
      "metadata": {
        "id": "gVi1xpfwLGF9"
      }
    },
    {
      "cell_type": "code",
      "source": [
        "# Merging product details into the filtered orders dataset\n",
        "filtered_orders_with_details = pd.merge(\n",
        "    filtered_orders_active_users,\n",
        "    products_enriched,\n",
        "    on='product_id',\n",
        "    how='left'\n",
        ")\n",
        "\n",
        "# Verifying the merged dataset\n",
        "print(filtered_orders_with_details.columns)\n"
      ],
      "metadata": {
        "colab": {
          "base_uri": "https://localhost:8080/"
        },
        "id": "VSDE1Tmmv7a8",
        "outputId": "9c066621-8f53-4abf-9cd1-ed11a9f59734"
      },
      "execution_count": 7,
      "outputs": [
        {
          "output_type": "stream",
          "name": "stdout",
          "text": [
            "Index(['order_id', 'product_id', 'add_to_cart_order', 'reordered', 'user_id',\n",
            "       'product_name', 'aisle_id', 'department_id', 'aisle', 'department'],\n",
            "      dtype='object')\n"
          ]
        }
      ]
    },
    {
      "cell_type": "markdown",
      "source": [
        "Next, I group the data by aisle and department (separate) and calculate the total number of orders. Then, sorting the results in descending order and retain the top 10."
      ],
      "metadata": {
        "id": "YmSFA836LRaX"
      }
    },
    {
      "cell_type": "code",
      "source": [
        "# Counting orders by aisle\n",
        "aisle_order_counts = filtered_orders_with_details.groupby('aisle').size().reset_index(name='order_count')\n",
        "\n",
        "# Getting the top 10 aisles\n",
        "top_aisles = aisle_order_counts.nlargest(10, 'order_count')\n",
        "top_aisle_names = top_aisles['aisle']\n",
        "\n",
        "print(f\"Top 10 aisles: {list(top_aisle_names)}\")\n"
      ],
      "metadata": {
        "colab": {
          "base_uri": "https://localhost:8080/"
        },
        "id": "hV6QwZuvwaNH",
        "outputId": "3a9440f7-e9ff-4582-ae26-993f601f4e00"
      },
      "execution_count": 8,
      "outputs": [
        {
          "output_type": "stream",
          "name": "stdout",
          "text": [
            "Top 10 aisles: ['fresh fruits', 'fresh vegetables', 'packaged vegetables fruits', 'yogurt', 'packaged cheese', 'milk', 'water seltzer sparkling water', 'chips pretzels', 'soy lactosefree', 'bread']\n"
          ]
        }
      ]
    },
    {
      "cell_type": "code",
      "source": [
        "# Counting orders by department\n",
        "department_order_counts = filtered_orders_with_details.groupby('department').size().reset_index(name='order_count')\n",
        "\n",
        "# Getting the top 10 departments\n",
        "top_departments = department_order_counts.nlargest(10, 'order_count')\n",
        "top_department_names = top_departments['department']\n",
        "\n",
        "print(f\"Top 10 departments: {list(top_department_names)}\")\n"
      ],
      "metadata": {
        "colab": {
          "base_uri": "https://localhost:8080/"
        },
        "id": "pdIUz83AweLD",
        "outputId": "b1430fdb-427f-424d-dd26-d25aed96bf79"
      },
      "execution_count": 9,
      "outputs": [
        {
          "output_type": "stream",
          "name": "stdout",
          "text": [
            "Top 10 departments: ['produce', 'dairy eggs', 'snacks', 'beverages', 'frozen', 'pantry', 'bakery', 'deli', 'canned goods', 'dry goods pasta']\n"
          ]
        }
      ]
    },
    {
      "cell_type": "code",
      "source": [
        "# Filtering orders for top aisles\n",
        "filtered_by_aisles = filtered_orders_with_details[filtered_orders_with_details['aisle'].isin(top_aisle_names)]\n",
        "\n",
        "print(f\"Remaining orders after filtering by top aisles: {len(filtered_by_aisles)}\")\n"
      ],
      "metadata": {
        "colab": {
          "base_uri": "https://localhost:8080/"
        },
        "id": "5IPEfXobwhOm",
        "outputId": "3d8aab3e-6d8a-4047-b918-c19ebf708bf5"
      },
      "execution_count": 10,
      "outputs": [
        {
          "output_type": "stream",
          "name": "stdout",
          "text": [
            "Remaining orders after filtering by top aisles: 14096649\n"
          ]
        }
      ]
    },
    {
      "cell_type": "code",
      "source": [
        "# Filtering orders for top departments\n",
        "filtered_by_departments = filtered_orders_with_details[filtered_orders_with_details['department'].isin(top_department_names)]\n",
        "\n",
        "print(f\"Remaining orders after filtering by top departments: {len(filtered_by_departments)}\")\n"
      ],
      "metadata": {
        "colab": {
          "base_uri": "https://localhost:8080/"
        },
        "id": "F35nwG4Gwmp7",
        "outputId": "0e2c3a4f-67e6-4927-8948-5615322c5309"
      },
      "execution_count": 11,
      "outputs": [
        {
          "output_type": "stream",
          "name": "stdout",
          "text": [
            "Remaining orders after filtering by top departments: 25702383\n"
          ]
        }
      ]
    },
    {
      "cell_type": "code",
      "source": [
        "# Verifying aisles or departments in the filtered dataset\n",
        "print(filtered_by_aisles['aisle'].value_counts())\n",
        "print(filtered_by_departments['department'].value_counts())\n"
      ],
      "metadata": {
        "colab": {
          "base_uri": "https://localhost:8080/"
        },
        "id": "HRNxqET6wsP4",
        "outputId": "1d42f96a-e2cf-4acf-e404-6516ef1d81b5"
      },
      "execution_count": 12,
      "outputs": [
        {
          "output_type": "stream",
          "name": "stdout",
          "text": [
            "aisle\n",
            "fresh fruits                     3485989\n",
            "fresh vegetables                 3378122\n",
            "packaged vegetables fruits       1686448\n",
            "yogurt                           1364214\n",
            "packaged cheese                   905963\n",
            "milk                              806036\n",
            "water seltzer sparkling water     720034\n",
            "chips pretzels                    635021\n",
            "soy lactosefree                   587908\n",
            "bread                             526914\n",
            "Name: count, dtype: int64\n",
            "department\n",
            "produce            9133122\n",
            "dairy eggs         4988600\n",
            "snacks             2366457\n",
            "beverages          2168493\n",
            "frozen             1888991\n",
            "pantry             1502823\n",
            "bakery             1042682\n",
            "deli                940087\n",
            "canned goods        928885\n",
            "dry goods pasta     742243\n",
            "Name: count, dtype: int64\n"
          ]
        }
      ]
    },
    {
      "cell_type": "markdown",
      "source": [
        "I decided to filter the data by \"Top 10 Departments\" for the following reasons:\n",
        "\n",
        "- It aligns with the project's goal of creatinga resuable ML pipeline, as department-level insights generalize better.\n",
        "- Provides a broader perspective, covering diverse products and trends.\n",
        "- Reduces the dataset size efficiently while retaining valuable data for high-level analysis.\n",
        "\n",
        "Next, I filter the dataset by the top 10 departments: produce, dairy eggs, snacks, etc. Then, I save the filtered dataset into .csv format."
      ],
      "metadata": {
        "id": "KRnHPZ9XL3SV"
      }
    },
    {
      "cell_type": "code",
      "source": [
        "import pandas as pd\n",
        "\n",
        "# Paths to the files\n",
        "output_path = \"/content/drive/MyDrive/MLOps/Instant_Cart/filtered_by_top_departments.csv\"  # Desired output path\n",
        "\n",
        "# Top 10 departments\n",
        "top_departments = [\n",
        "    \"produce\", \"dairy eggs\", \"snacks\", \"beverages\", \"frozen\",\n",
        "    \"pantry\", \"bakery\", \"deli\", \"canned goods\", \"dry goods pasta\"\n",
        "]\n",
        "\n",
        "# Filtering the dataset to include only top departments\n",
        "filtered_by_departments = filtered_orders_with_details[\n",
        "    filtered_orders_with_details['department'].isin(top_departments)\n",
        "]\n",
        "\n",
        "# Saving the filtered dataset\n",
        "filtered_by_departments.to_csv(output_path, index=False)\n",
        "\n",
        "# Summary of the filtered dataset\n",
        "filtered_summary = {\n",
        "    \"Remaining Rows\": len(filtered_by_departments),\n",
        "    \"Unique Orders\": filtered_by_departments['order_id'].nunique(),\n",
        "    \"Unique Users\": filtered_by_departments['user_id'].nunique(),\n",
        "    \"Unique Departments\": filtered_by_departments['department'].nunique()\n",
        "}\n",
        "\n",
        "print(\"Filtered dataset saved successfully.\")\n",
        "print(filtered_summary)\n"
      ],
      "metadata": {
        "colab": {
          "base_uri": "https://localhost:8080/"
        },
        "id": "iC7lRwTvx5mc",
        "outputId": "f6e4f958-7493-49b0-e14a-727b90bd38b7"
      },
      "execution_count": 13,
      "outputs": [
        {
          "output_type": "stream",
          "name": "stdout",
          "text": [
            "Filtered dataset saved successfully.\n",
            "{'Remaining Rows': 25702383, 'Unique Orders': 2389985, 'Unique Users': 184304, 'Unique Departments': 10}\n"
          ]
        }
      ]
    },
    {
      "cell_type": "markdown",
      "source": [
        "# Further filtering rarely reordered products\n",
        "\n",
        "\n",
        "\n"
      ],
      "metadata": {
        "id": "judCA0QHKyVC"
      }
    },
    {
      "cell_type": "markdown",
      "source": [
        "From the previous filtering process, we obtained a total number of unique orders of: 2,389,985. Now, I will proceed to calculate the reorder rate for each product by grouping the data by product_id and taking the mean of the \"reordered\" column."
      ],
      "metadata": {
        "id": "-HqT1ZsfMkca"
      }
    },
    {
      "cell_type": "code",
      "source": [
        "import pandas as pd\n",
        "\n",
        "# Loading the filtered dataset\n",
        "filtered_by_top_departments_path = \"/content/drive/MyDrive/MLOps/Instant_Cart/filtered_by_top_departments.csv\"\n",
        "filtered_by_top_departments = pd.read_csv(filtered_by_top_departments_path)\n",
        "\n",
        "# Calculating reorder rate for each product\n",
        "product_reorder_rate = filtered_by_top_departments.groupby('product_id')['reordered'].mean().reset_index()\n",
        "product_reorder_rate.rename(columns={'reordered': 'reorder_rate'}, inplace=True)\n",
        "\n",
        "# Setting a threshold for rarely reordered products (e.g., 0.2 or 20%)\n",
        "threshold = 0.2\n",
        "frequently_reordered_products = product_reorder_rate[product_reorder_rate['reorder_rate'] > threshold]\n",
        "\n",
        "print(f\"Products with a reorder rate above {threshold}: {len(frequently_reordered_products)}\")\n"
      ],
      "metadata": {
        "colab": {
          "base_uri": "https://localhost:8080/"
        },
        "id": "hH0Lz4UdMj_B",
        "outputId": "9fa7487f-8f29-4d3d-aeb9-a8be16da398e"
      },
      "execution_count": 1,
      "outputs": [
        {
          "output_type": "stream",
          "name": "stdout",
          "text": [
            "Products with a reorder rate above 0.2: 8002\n"
          ]
        }
      ]
    },
    {
      "cell_type": "code",
      "source": [
        "# Filtering the dataset to include only frequently reordered products\n",
        "filtered_frequent_reorders = filtered_by_top_departments[\n",
        "    filtered_by_top_departments['product_id'].isin(frequently_reordered_products['product_id'])\n",
        "]\n",
        "\n",
        "print(f\"Filtered dataset to include frequently reordered products.\")\n",
        "print(f\"Remaining Rows: {len(filtered_frequent_reorders)}\")\n",
        "print(f\"Unique Orders: {filtered_frequent_reorders['order_id'].nunique()}\")\n",
        "print(f\"Unique Products: {filtered_frequent_reorders['product_id'].nunique()}\")\n"
      ],
      "metadata": {
        "colab": {
          "base_uri": "https://localhost:8080/"
        },
        "id": "R0P6_HJ6NiWc",
        "outputId": "3b4b5056-9b51-451c-9846-17c478139c70"
      },
      "execution_count": 2,
      "outputs": [
        {
          "output_type": "stream",
          "name": "stdout",
          "text": [
            "Filtered dataset to include frequently reordered products.\n",
            "Remaining Rows: 25454061\n",
            "Unique Orders: 2389931\n",
            "Unique Products: 8002\n"
          ]
        }
      ]
    },
    {
      "cell_type": "code",
      "source": [
        "# Saving the filtered dataset\n",
        "output_path_frequent_reorders = \"/content/drive/MyDrive/MLOps/Instant_Cart/filtered_frequent_reorders.csv\"\n",
        "filtered_frequent_reorders.to_csv(output_path_frequent_reorders, index=False)\n",
        "\n",
        "print(f\"Filtered dataset saved at {output_path_frequent_reorders}.\")\n"
      ],
      "metadata": {
        "colab": {
          "base_uri": "https://localhost:8080/"
        },
        "id": "OS7OxgJaN58g",
        "outputId": "731d7065-2994-4390-adf8-a608a8afde0e"
      },
      "execution_count": 3,
      "outputs": [
        {
          "output_type": "stream",
          "name": "stdout",
          "text": [
            "Filtered dataset saved at /content/drive/MyDrive/MLOps/Instant_Cart/filtered_frequent_reorders.csv.\n"
          ]
        }
      ]
    },
    {
      "cell_type": "markdown",
      "source": [
        "# Filtering for frequent buyer"
      ],
      "metadata": {
        "id": "shv4TREbPvH-"
      }
    },
    {
      "cell_type": "markdown",
      "source": [
        "From the previous result, the dataset was only reduced to: 2,389,931 orders. Next, I am filtering by identifying frequent buyey. For example: retain users who order top products at least N times."
      ],
      "metadata": {
        "id": "eJGqQmQvPzSf"
      }
    },
    {
      "cell_type": "markdown",
      "source": [
        "## N = 450.\n",
        "This first dataset will be balanced between most frequent buyers and non active users.\n",
        "\n",
        "**Note to consider:**\n",
        "\n",
        "As we increase \"N\", the focus is only on the most active users, which may bias the model toward frequent buyes and their behavior.\n",
        "\n",
        "The model might become less generalize to users with lower purchasing activity.\n",
        "\n",
        "If the dataset is heavily skewed toward a small group of active users, some product-specific might be lost. However, keeping more frequent buyers might still capture sufficient trends highly reordered products.\n",
        "\n",
        "A piperline trained on a subset of frequent buyers may perform for similr groups but may not generalize to less frequent users or broader audience."
      ],
      "metadata": {
        "id": "ogIXoLb6UnGw"
      }
    },
    {
      "cell_type": "code",
      "source": [
        "# Defining the threshold for frequent buyers (e.g., at least N = 10 orders)\n",
        "N = 450\n",
        "\n",
        "# Counting the number of orders per user\n",
        "user_order_counts = filtered_frequent_reorders.groupby('user_id').size().reset_index(name='order_count')\n",
        "\n",
        "# Filtering users with at least N orders\n",
        "frequent_buyers = user_order_counts[user_order_counts['order_count'] >= N]\n",
        "frequent_buyer_ids = frequent_buyers['user_id']\n",
        "\n",
        "print(f\"Number of frequent buyers with at least {N} orders: {len(frequent_buyer_ids)}\")\n"
      ],
      "metadata": {
        "colab": {
          "base_uri": "https://localhost:8080/"
        },
        "id": "7emFXikfQFIU",
        "outputId": "481672f8-86e4-4308-bc11-3f4acdf7abeb"
      },
      "execution_count": 51,
      "outputs": [
        {
          "output_type": "stream",
          "name": "stdout",
          "text": [
            "Number of frequent buyers with at least 450 orders: 11033\n"
          ]
        }
      ]
    },
    {
      "cell_type": "code",
      "source": [
        "# Filtering orders for frequent buyers\n",
        "filtered_frequent_buyers = filtered_frequent_reorders[\n",
        "    filtered_frequent_reorders['user_id'].isin(frequent_buyer_ids)\n",
        "]\n",
        "\n",
        "print(f\"Filtered dataset to include orders from frequent buyers.\")\n",
        "print(f\"Remaining Rows: {len(filtered_frequent_buyers)}\")\n",
        "print(f\"Unique Orders: {filtered_frequent_buyers['order_id'].nunique()}\")\n",
        "print(f\"Unique Users: {filtered_frequent_buyers['user_id'].nunique()}\")\n"
      ],
      "metadata": {
        "colab": {
          "base_uri": "https://localhost:8080/"
        },
        "id": "wvkBeMymQNak",
        "outputId": "fe7a7179-9959-46d7-b1f2-2cb5d62ddc9d"
      },
      "execution_count": 52,
      "outputs": [
        {
          "output_type": "stream",
          "name": "stdout",
          "text": [
            "Filtered dataset to include orders from frequent buyers.\n",
            "Remaining Rows: 7588145\n",
            "Unique Orders: 562019\n",
            "Unique Users: 11033\n"
          ]
        }
      ]
    },
    {
      "cell_type": "code",
      "source": [
        "# Saving the filtered dataset\n",
        "output_path_frequent_buyers = \"/content/drive/MyDrive/MLOps/Instant_Cart/filtered_frequent_buyers_v1.csv\"\n",
        "filtered_frequent_buyers.to_csv(output_path_frequent_buyers, index=False)\n",
        "\n",
        "print(f\"Filtered dataset saved at {output_path_frequent_buyers}.\")\n"
      ],
      "metadata": {
        "colab": {
          "base_uri": "https://localhost:8080/"
        },
        "id": "YrqeNICQQTrt",
        "outputId": "2314f3b5-235f-47ba-ca07-b30d91e2ebd6"
      },
      "execution_count": 53,
      "outputs": [
        {
          "output_type": "stream",
          "name": "stdout",
          "text": [
            "Filtered dataset saved at /content/drive/MyDrive/MLOps/Instant_Cart/filtered_frequent_buyers_v1.csv.\n"
          ]
        }
      ]
    },
    {
      "cell_type": "markdown",
      "source": [
        "## N = 850"
      ],
      "metadata": {
        "id": "TnlSYio0U6fy"
      }
    },
    {
      "cell_type": "markdown",
      "source": [
        "This dataset will be for the less generalize ML model."
      ],
      "metadata": {
        "id": "ti4LMkDaV6Bv"
      }
    },
    {
      "cell_type": "code",
      "source": [
        "N = 850\n",
        "\n",
        "# Counting the number of orders per user\n",
        "user_order_counts = filtered_frequent_reorders.groupby('user_id').size().reset_index(name='order_count')\n",
        "\n",
        "# Filtering users with at least N orders\n",
        "frequent_buyers = user_order_counts[user_order_counts['order_count'] >= N]\n",
        "frequent_buyer_ids = frequent_buyers['user_id']\n",
        "\n",
        "print(f\"Number of frequent buyers with at least {N} orders: {len(frequent_buyer_ids)}\")"
      ],
      "metadata": {
        "colab": {
          "base_uri": "https://localhost:8080/"
        },
        "id": "9QsKNz1NUjnF",
        "outputId": "d7ba335e-0879-4975-e6b8-d48a38721f58"
      },
      "execution_count": 56,
      "outputs": [
        {
          "output_type": "stream",
          "name": "stdout",
          "text": [
            "Number of frequent buyers with at least 850 orders: 2081\n"
          ]
        }
      ]
    },
    {
      "cell_type": "code",
      "source": [
        "# Filtering orders for frequent buyers\n",
        "filtered_frequent_buyers = filtered_frequent_reorders[\n",
        "    filtered_frequent_reorders['user_id'].isin(frequent_buyer_ids)\n",
        "]\n",
        "\n",
        "print(f\"Filtered dataset to include orders from frequent buyers.\")\n",
        "print(f\"Remaining Rows: {len(filtered_frequent_buyers)}\")\n",
        "print(f\"Unique Orders: {filtered_frequent_buyers['order_id'].nunique()}\")\n",
        "print(f\"Unique Users: {filtered_frequent_buyers['user_id'].nunique()}\")\n"
      ],
      "metadata": {
        "colab": {
          "base_uri": "https://localhost:8080/"
        },
        "id": "wSRcXreDWBuU",
        "outputId": "dcf6eb9b-6245-4500-a8c8-fecd035181b3"
      },
      "execution_count": 57,
      "outputs": [
        {
          "output_type": "stream",
          "name": "stdout",
          "text": [
            "Filtered dataset to include orders from frequent buyers.\n",
            "Remaining Rows: 2253205\n",
            "Unique Orders: 137382\n",
            "Unique Users: 2081\n"
          ]
        }
      ]
    },
    {
      "cell_type": "code",
      "source": [
        "# Saving the filtered dataset\n",
        "output_path_frequent_buyers = \"/content/drive/MyDrive/MLOps/Instant_Cart/filtered_frequent_buyers_v2.csv\"\n",
        "filtered_frequent_buyers.to_csv(output_path_frequent_buyers, index=False)\n",
        "\n",
        "print(f\"Filtered dataset saved at {output_path_frequent_buyers}.\")\n"
      ],
      "metadata": {
        "colab": {
          "base_uri": "https://localhost:8080/"
        },
        "id": "c8DSbzEvWLs9",
        "outputId": "31ae97d3-7b7e-48b0-f754-bf70dcffceea"
      },
      "execution_count": 58,
      "outputs": [
        {
          "output_type": "stream",
          "name": "stdout",
          "text": [
            "Filtered dataset saved at /content/drive/MyDrive/MLOps/Instant_Cart/filtered_frequent_buyers_v2.csv.\n"
          ]
        }
      ]
    }
  ]
}
